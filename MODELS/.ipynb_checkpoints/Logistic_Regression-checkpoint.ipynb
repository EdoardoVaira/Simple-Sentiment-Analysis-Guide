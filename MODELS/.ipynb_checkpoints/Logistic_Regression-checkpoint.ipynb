{
 "cells": [
  {
   "cell_type": "markdown",
   "id": "5c7b15b4",
   "metadata": {},
   "source": [
    "# Linear Regression\n",
    "\n",
    "In this notebook we will present the Linear Regression model with L2 regularization. For simplicity we will train and evaluate it using only BoW vectorization. \n",
    "\n",
    "Linear Regression is one of the most known and fundamental regression algorithms. As in Linear Regression, Ridge Regression adds L2 regularization during the fitting process of the algorithm. This means that in the loss function, the squared sum of the weights is added to the Mean Squared Error. This way large coefficients lead to bigger loss and they are penalised. The result of this is the avoidance of overfitting."
   ]
  },
  {
   "cell_type": "markdown",
   "id": "8e1166a1",
   "metadata": {},
   "source": [
    "### Implementation in Python\n",
    "\n",
    "Let's begin by importing the libraries we need."
   ]
  },
  {
   "cell_type": "code",
   "execution_count": 1,
   "id": "fd251564",
   "metadata": {},
   "outputs": [],
   "source": [
    "# Data handling\n",
    "import numpy as np\n",
    "import pandas as pd\n",
    "\n",
    "from sklearn.feature_extraction.text import CountVectorizer\n",
    "\n",
    "import multiprocessing\n",
    "\n",
    "\n",
    "from sklearn.metrics import mean_squared_error\n",
    "from sklearn.preprocessing import MinMaxScaler\n",
    "from sklearn.preprocessing import StandardScaler\n",
    "from sklearn.model_selection import train_test_split\n",
    "from sklearn.linear_model import Ridge\n",
    "from sklearn.metrics import accuracy_score\n",
    "from sklearn.preprocessing import LabelEncoder"
   ]
  },
  {
   "cell_type": "markdown",
   "id": "62b7e1cb",
   "metadata": {},
   "source": [
    "### Loading the dataset\n",
    "\n",
    "We load our dataset and add empty texts in case of missing values."
   ]
  },
  {
   "cell_type": "code",
   "execution_count": 2,
   "id": "b0e545eb",
   "metadata": {},
   "outputs": [],
   "source": [
    "df = pd.read_csv(\"../DATASETS/preprocessed_text.csv\")"
   ]
  },
  {
   "cell_type": "code",
   "execution_count": 3,
   "id": "3e5531e9",
   "metadata": {},
   "outputs": [
    {
     "data": {
      "text/html": [
       "<div>\n",
       "<style scoped>\n",
       "    .dataframe tbody tr th:only-of-type {\n",
       "        vertical-align: middle;\n",
       "    }\n",
       "\n",
       "    .dataframe tbody tr th {\n",
       "        vertical-align: top;\n",
       "    }\n",
       "\n",
       "    .dataframe thead th {\n",
       "        text-align: right;\n",
       "    }\n",
       "</style>\n",
       "<table border=\"1\" class=\"dataframe\">\n",
       "  <thead>\n",
       "    <tr style=\"text-align: right;\">\n",
       "      <th></th>\n",
       "      <th>content</th>\n",
       "      <th>score</th>\n",
       "      <th>content_cleaned</th>\n",
       "    </tr>\n",
       "  </thead>\n",
       "  <tbody>\n",
       "    <tr>\n",
       "      <th>0</th>\n",
       "      <td>Plsssss stoppppp giving screen limit like when...</td>\n",
       "      <td>2</td>\n",
       "      <td>plss stopp giving screen limit like when you a...</td>\n",
       "    </tr>\n",
       "    <tr>\n",
       "      <th>1</th>\n",
       "      <td>Good</td>\n",
       "      <td>5</td>\n",
       "      <td>good</td>\n",
       "    </tr>\n",
       "    <tr>\n",
       "      <th>2</th>\n",
       "      <td>👍👍</td>\n",
       "      <td>5</td>\n",
       "      <td>thumbs_up</td>\n",
       "    </tr>\n",
       "    <tr>\n",
       "      <th>3</th>\n",
       "      <td>Good</td>\n",
       "      <td>3</td>\n",
       "      <td>good</td>\n",
       "    </tr>\n",
       "    <tr>\n",
       "      <th>4</th>\n",
       "      <td>App is useful to certain phone brand ,,,,it is...</td>\n",
       "      <td>1</td>\n",
       "      <td>app is useful to certain phone brand it is not...</td>\n",
       "    </tr>\n",
       "  </tbody>\n",
       "</table>\n",
       "</div>"
      ],
      "text/plain": [
       "                                             content  score  \\\n",
       "0  Plsssss stoppppp giving screen limit like when...      2   \n",
       "1                                               Good      5   \n",
       "2                                                 👍👍      5   \n",
       "3                                               Good      3   \n",
       "4  App is useful to certain phone brand ,,,,it is...      1   \n",
       "\n",
       "                                     content_cleaned  \n",
       "0  plss stopp giving screen limit like when you a...  \n",
       "1                                               good  \n",
       "2                                          thumbs_up  \n",
       "3                                               good  \n",
       "4  app is useful to certain phone brand it is not...  "
      ]
     },
     "execution_count": 3,
     "metadata": {},
     "output_type": "execute_result"
    }
   ],
   "source": [
    "df.isnull().sum()\n",
    "df.fillna('', inplace=True)\n",
    "df.head()"
   ]
  },
  {
   "cell_type": "markdown",
   "id": "861b7f84",
   "metadata": {},
   "source": [
    "### Vectorization\n",
    "\n",
    "We vectorize our dataset using BoW."
   ]
  },
  {
   "cell_type": "code",
   "execution_count": 4,
   "id": "422e663e",
   "metadata": {},
   "outputs": [
    {
     "name": "stdout",
     "output_type": "stream",
     "text": [
      "39783\n",
      "(113292, 39783)\n"
     ]
    }
   ],
   "source": [
    "# Initialize the CountVectorizer\n",
    "vectorizer = CountVectorizer()\n",
    "\n",
    "# Fit the model and transform the data\n",
    "bow = vectorizer.fit_transform(df['content_cleaned'])\n",
    "\n",
    "print(len(vectorizer.vocabulary_))\n",
    "print(bow.shape)"
   ]
  },
  {
   "cell_type": "markdown",
   "id": "6fd67bd2",
   "metadata": {},
   "source": [
    "### Preparing the labels \n",
    "\n",
    "We scale the labels into the range 1 to 5 with MinMaxScaler. They are already in that range but we fit our scaler to be able to use it on new unseen data."
   ]
  },
  {
   "cell_type": "code",
   "execution_count": 5,
   "id": "3f55e395",
   "metadata": {},
   "outputs": [],
   "source": [
    "y_df = df[['score']]\n",
    "\n",
    "y_scaler = MinMaxScaler(feature_range=(1, 5))\n",
    "y = y_scaler.fit_transform(y_df)"
   ]
  },
  {
   "cell_type": "markdown",
   "id": "6a670447",
   "metadata": {},
   "source": [
    "### Train - test split\n",
    "\n",
    "We perform the train-test split, keeping 20% of the original data for evaluation. We also keep the indices split of our dataframe."
   ]
  },
  {
   "cell_type": "code",
   "execution_count": 6,
   "id": "3374ea6d",
   "metadata": {},
   "outputs": [],
   "source": [
    "indices = df.index\n",
    "\n",
    "bow_train, bow_test, y_train, y_test, train_idx, test_idx = train_test_split(bow, y, indices, test_size=0.2, random_state=42)"
   ]
  },
  {
   "cell_type": "markdown",
   "id": "1ca977b1",
   "metadata": {},
   "source": [
    "### Scaling\n",
    "\n",
    "Linear Regression requires scaling of the data, otherwise it is harder for it to converge. Therefore, we use a StandardScaler to scale our data. We fit it using the training set and just transform the test set."
   ]
  },
  {
   "cell_type": "code",
   "execution_count": 7,
   "id": "7fecf814",
   "metadata": {
    "scrolled": true
   },
   "outputs": [],
   "source": [
    "# Scale the data\n",
    "scaler = StandardScaler(with_mean=False)  # with_mean=False because BoW has sparse matrix format\n",
    "\n",
    "bow_train_scaled = scaler.fit_transform(bow_train)\n",
    "bow_test_scaled = scaler.transform(bow_test)\n"
   ]
  },
  {
   "cell_type": "markdown",
   "id": "5c5b70ad",
   "metadata": {},
   "source": [
    "### Model\n",
    "\n",
    "Next we define our Ridge model and we train it"
   ]
  },
  {
   "cell_type": "code",
   "execution_count": 8,
   "id": "a6e59f52",
   "metadata": {},
   "outputs": [
    {
     "data": {
      "text/html": [
       "<style>#sk-container-id-1 {\n",
       "  /* Definition of color scheme common for light and dark mode */\n",
       "  --sklearn-color-text: black;\n",
       "  --sklearn-color-line: gray;\n",
       "  /* Definition of color scheme for unfitted estimators */\n",
       "  --sklearn-color-unfitted-level-0: #fff5e6;\n",
       "  --sklearn-color-unfitted-level-1: #f6e4d2;\n",
       "  --sklearn-color-unfitted-level-2: #ffe0b3;\n",
       "  --sklearn-color-unfitted-level-3: chocolate;\n",
       "  /* Definition of color scheme for fitted estimators */\n",
       "  --sklearn-color-fitted-level-0: #f0f8ff;\n",
       "  --sklearn-color-fitted-level-1: #d4ebff;\n",
       "  --sklearn-color-fitted-level-2: #b3dbfd;\n",
       "  --sklearn-color-fitted-level-3: cornflowerblue;\n",
       "\n",
       "  /* Specific color for light theme */\n",
       "  --sklearn-color-text-on-default-background: var(--sg-text-color, var(--theme-code-foreground, var(--jp-content-font-color1, black)));\n",
       "  --sklearn-color-background: var(--sg-background-color, var(--theme-background, var(--jp-layout-color0, white)));\n",
       "  --sklearn-color-border-box: var(--sg-text-color, var(--theme-code-foreground, var(--jp-content-font-color1, black)));\n",
       "  --sklearn-color-icon: #696969;\n",
       "\n",
       "  @media (prefers-color-scheme: dark) {\n",
       "    /* Redefinition of color scheme for dark theme */\n",
       "    --sklearn-color-text-on-default-background: var(--sg-text-color, var(--theme-code-foreground, var(--jp-content-font-color1, white)));\n",
       "    --sklearn-color-background: var(--sg-background-color, var(--theme-background, var(--jp-layout-color0, #111)));\n",
       "    --sklearn-color-border-box: var(--sg-text-color, var(--theme-code-foreground, var(--jp-content-font-color1, white)));\n",
       "    --sklearn-color-icon: #878787;\n",
       "  }\n",
       "}\n",
       "\n",
       "#sk-container-id-1 {\n",
       "  color: var(--sklearn-color-text);\n",
       "}\n",
       "\n",
       "#sk-container-id-1 pre {\n",
       "  padding: 0;\n",
       "}\n",
       "\n",
       "#sk-container-id-1 input.sk-hidden--visually {\n",
       "  border: 0;\n",
       "  clip: rect(1px 1px 1px 1px);\n",
       "  clip: rect(1px, 1px, 1px, 1px);\n",
       "  height: 1px;\n",
       "  margin: -1px;\n",
       "  overflow: hidden;\n",
       "  padding: 0;\n",
       "  position: absolute;\n",
       "  width: 1px;\n",
       "}\n",
       "\n",
       "#sk-container-id-1 div.sk-dashed-wrapped {\n",
       "  border: 1px dashed var(--sklearn-color-line);\n",
       "  margin: 0 0.4em 0.5em 0.4em;\n",
       "  box-sizing: border-box;\n",
       "  padding-bottom: 0.4em;\n",
       "  background-color: var(--sklearn-color-background);\n",
       "}\n",
       "\n",
       "#sk-container-id-1 div.sk-container {\n",
       "  /* jupyter's `normalize.less` sets `[hidden] { display: none; }`\n",
       "     but bootstrap.min.css set `[hidden] { display: none !important; }`\n",
       "     so we also need the `!important` here to be able to override the\n",
       "     default hidden behavior on the sphinx rendered scikit-learn.org.\n",
       "     See: https://github.com/scikit-learn/scikit-learn/issues/21755 */\n",
       "  display: inline-block !important;\n",
       "  position: relative;\n",
       "}\n",
       "\n",
       "#sk-container-id-1 div.sk-text-repr-fallback {\n",
       "  display: none;\n",
       "}\n",
       "\n",
       "div.sk-parallel-item,\n",
       "div.sk-serial,\n",
       "div.sk-item {\n",
       "  /* draw centered vertical line to link estimators */\n",
       "  background-image: linear-gradient(var(--sklearn-color-text-on-default-background), var(--sklearn-color-text-on-default-background));\n",
       "  background-size: 2px 100%;\n",
       "  background-repeat: no-repeat;\n",
       "  background-position: center center;\n",
       "}\n",
       "\n",
       "/* Parallel-specific style estimator block */\n",
       "\n",
       "#sk-container-id-1 div.sk-parallel-item::after {\n",
       "  content: \"\";\n",
       "  width: 100%;\n",
       "  border-bottom: 2px solid var(--sklearn-color-text-on-default-background);\n",
       "  flex-grow: 1;\n",
       "}\n",
       "\n",
       "#sk-container-id-1 div.sk-parallel {\n",
       "  display: flex;\n",
       "  align-items: stretch;\n",
       "  justify-content: center;\n",
       "  background-color: var(--sklearn-color-background);\n",
       "  position: relative;\n",
       "}\n",
       "\n",
       "#sk-container-id-1 div.sk-parallel-item {\n",
       "  display: flex;\n",
       "  flex-direction: column;\n",
       "}\n",
       "\n",
       "#sk-container-id-1 div.sk-parallel-item:first-child::after {\n",
       "  align-self: flex-end;\n",
       "  width: 50%;\n",
       "}\n",
       "\n",
       "#sk-container-id-1 div.sk-parallel-item:last-child::after {\n",
       "  align-self: flex-start;\n",
       "  width: 50%;\n",
       "}\n",
       "\n",
       "#sk-container-id-1 div.sk-parallel-item:only-child::after {\n",
       "  width: 0;\n",
       "}\n",
       "\n",
       "/* Serial-specific style estimator block */\n",
       "\n",
       "#sk-container-id-1 div.sk-serial {\n",
       "  display: flex;\n",
       "  flex-direction: column;\n",
       "  align-items: center;\n",
       "  background-color: var(--sklearn-color-background);\n",
       "  padding-right: 1em;\n",
       "  padding-left: 1em;\n",
       "}\n",
       "\n",
       "\n",
       "/* Toggleable style: style used for estimator/Pipeline/ColumnTransformer box that is\n",
       "clickable and can be expanded/collapsed.\n",
       "- Pipeline and ColumnTransformer use this feature and define the default style\n",
       "- Estimators will overwrite some part of the style using the `sk-estimator` class\n",
       "*/\n",
       "\n",
       "/* Pipeline and ColumnTransformer style (default) */\n",
       "\n",
       "#sk-container-id-1 div.sk-toggleable {\n",
       "  /* Default theme specific background. It is overwritten whether we have a\n",
       "  specific estimator or a Pipeline/ColumnTransformer */\n",
       "  background-color: var(--sklearn-color-background);\n",
       "}\n",
       "\n",
       "/* Toggleable label */\n",
       "#sk-container-id-1 label.sk-toggleable__label {\n",
       "  cursor: pointer;\n",
       "  display: block;\n",
       "  width: 100%;\n",
       "  margin-bottom: 0;\n",
       "  padding: 0.5em;\n",
       "  box-sizing: border-box;\n",
       "  text-align: center;\n",
       "}\n",
       "\n",
       "#sk-container-id-1 label.sk-toggleable__label-arrow:before {\n",
       "  /* Arrow on the left of the label */\n",
       "  content: \"▸\";\n",
       "  float: left;\n",
       "  margin-right: 0.25em;\n",
       "  color: var(--sklearn-color-icon);\n",
       "}\n",
       "\n",
       "#sk-container-id-1 label.sk-toggleable__label-arrow:hover:before {\n",
       "  color: var(--sklearn-color-text);\n",
       "}\n",
       "\n",
       "/* Toggleable content - dropdown */\n",
       "\n",
       "#sk-container-id-1 div.sk-toggleable__content {\n",
       "  max-height: 0;\n",
       "  max-width: 0;\n",
       "  overflow: hidden;\n",
       "  text-align: left;\n",
       "  /* unfitted */\n",
       "  background-color: var(--sklearn-color-unfitted-level-0);\n",
       "}\n",
       "\n",
       "#sk-container-id-1 div.sk-toggleable__content.fitted {\n",
       "  /* fitted */\n",
       "  background-color: var(--sklearn-color-fitted-level-0);\n",
       "}\n",
       "\n",
       "#sk-container-id-1 div.sk-toggleable__content pre {\n",
       "  margin: 0.2em;\n",
       "  border-radius: 0.25em;\n",
       "  color: var(--sklearn-color-text);\n",
       "  /* unfitted */\n",
       "  background-color: var(--sklearn-color-unfitted-level-0);\n",
       "}\n",
       "\n",
       "#sk-container-id-1 div.sk-toggleable__content.fitted pre {\n",
       "  /* unfitted */\n",
       "  background-color: var(--sklearn-color-fitted-level-0);\n",
       "}\n",
       "\n",
       "#sk-container-id-1 input.sk-toggleable__control:checked~div.sk-toggleable__content {\n",
       "  /* Expand drop-down */\n",
       "  max-height: 200px;\n",
       "  max-width: 100%;\n",
       "  overflow: auto;\n",
       "}\n",
       "\n",
       "#sk-container-id-1 input.sk-toggleable__control:checked~label.sk-toggleable__label-arrow:before {\n",
       "  content: \"▾\";\n",
       "}\n",
       "\n",
       "/* Pipeline/ColumnTransformer-specific style */\n",
       "\n",
       "#sk-container-id-1 div.sk-label input.sk-toggleable__control:checked~label.sk-toggleable__label {\n",
       "  color: var(--sklearn-color-text);\n",
       "  background-color: var(--sklearn-color-unfitted-level-2);\n",
       "}\n",
       "\n",
       "#sk-container-id-1 div.sk-label.fitted input.sk-toggleable__control:checked~label.sk-toggleable__label {\n",
       "  background-color: var(--sklearn-color-fitted-level-2);\n",
       "}\n",
       "\n",
       "/* Estimator-specific style */\n",
       "\n",
       "/* Colorize estimator box */\n",
       "#sk-container-id-1 div.sk-estimator input.sk-toggleable__control:checked~label.sk-toggleable__label {\n",
       "  /* unfitted */\n",
       "  background-color: var(--sklearn-color-unfitted-level-2);\n",
       "}\n",
       "\n",
       "#sk-container-id-1 div.sk-estimator.fitted input.sk-toggleable__control:checked~label.sk-toggleable__label {\n",
       "  /* fitted */\n",
       "  background-color: var(--sklearn-color-fitted-level-2);\n",
       "}\n",
       "\n",
       "#sk-container-id-1 div.sk-label label.sk-toggleable__label,\n",
       "#sk-container-id-1 div.sk-label label {\n",
       "  /* The background is the default theme color */\n",
       "  color: var(--sklearn-color-text-on-default-background);\n",
       "}\n",
       "\n",
       "/* On hover, darken the color of the background */\n",
       "#sk-container-id-1 div.sk-label:hover label.sk-toggleable__label {\n",
       "  color: var(--sklearn-color-text);\n",
       "  background-color: var(--sklearn-color-unfitted-level-2);\n",
       "}\n",
       "\n",
       "/* Label box, darken color on hover, fitted */\n",
       "#sk-container-id-1 div.sk-label.fitted:hover label.sk-toggleable__label.fitted {\n",
       "  color: var(--sklearn-color-text);\n",
       "  background-color: var(--sklearn-color-fitted-level-2);\n",
       "}\n",
       "\n",
       "/* Estimator label */\n",
       "\n",
       "#sk-container-id-1 div.sk-label label {\n",
       "  font-family: monospace;\n",
       "  font-weight: bold;\n",
       "  display: inline-block;\n",
       "  line-height: 1.2em;\n",
       "}\n",
       "\n",
       "#sk-container-id-1 div.sk-label-container {\n",
       "  text-align: center;\n",
       "}\n",
       "\n",
       "/* Estimator-specific */\n",
       "#sk-container-id-1 div.sk-estimator {\n",
       "  font-family: monospace;\n",
       "  border: 1px dotted var(--sklearn-color-border-box);\n",
       "  border-radius: 0.25em;\n",
       "  box-sizing: border-box;\n",
       "  margin-bottom: 0.5em;\n",
       "  /* unfitted */\n",
       "  background-color: var(--sklearn-color-unfitted-level-0);\n",
       "}\n",
       "\n",
       "#sk-container-id-1 div.sk-estimator.fitted {\n",
       "  /* fitted */\n",
       "  background-color: var(--sklearn-color-fitted-level-0);\n",
       "}\n",
       "\n",
       "/* on hover */\n",
       "#sk-container-id-1 div.sk-estimator:hover {\n",
       "  /* unfitted */\n",
       "  background-color: var(--sklearn-color-unfitted-level-2);\n",
       "}\n",
       "\n",
       "#sk-container-id-1 div.sk-estimator.fitted:hover {\n",
       "  /* fitted */\n",
       "  background-color: var(--sklearn-color-fitted-level-2);\n",
       "}\n",
       "\n",
       "/* Specification for estimator info (e.g. \"i\" and \"?\") */\n",
       "\n",
       "/* Common style for \"i\" and \"?\" */\n",
       "\n",
       ".sk-estimator-doc-link,\n",
       "a:link.sk-estimator-doc-link,\n",
       "a:visited.sk-estimator-doc-link {\n",
       "  float: right;\n",
       "  font-size: smaller;\n",
       "  line-height: 1em;\n",
       "  font-family: monospace;\n",
       "  background-color: var(--sklearn-color-background);\n",
       "  border-radius: 1em;\n",
       "  height: 1em;\n",
       "  width: 1em;\n",
       "  text-decoration: none !important;\n",
       "  margin-left: 1ex;\n",
       "  /* unfitted */\n",
       "  border: var(--sklearn-color-unfitted-level-1) 1pt solid;\n",
       "  color: var(--sklearn-color-unfitted-level-1);\n",
       "}\n",
       "\n",
       ".sk-estimator-doc-link.fitted,\n",
       "a:link.sk-estimator-doc-link.fitted,\n",
       "a:visited.sk-estimator-doc-link.fitted {\n",
       "  /* fitted */\n",
       "  border: var(--sklearn-color-fitted-level-1) 1pt solid;\n",
       "  color: var(--sklearn-color-fitted-level-1);\n",
       "}\n",
       "\n",
       "/* On hover */\n",
       "div.sk-estimator:hover .sk-estimator-doc-link:hover,\n",
       ".sk-estimator-doc-link:hover,\n",
       "div.sk-label-container:hover .sk-estimator-doc-link:hover,\n",
       ".sk-estimator-doc-link:hover {\n",
       "  /* unfitted */\n",
       "  background-color: var(--sklearn-color-unfitted-level-3);\n",
       "  color: var(--sklearn-color-background);\n",
       "  text-decoration: none;\n",
       "}\n",
       "\n",
       "div.sk-estimator.fitted:hover .sk-estimator-doc-link.fitted:hover,\n",
       ".sk-estimator-doc-link.fitted:hover,\n",
       "div.sk-label-container:hover .sk-estimator-doc-link.fitted:hover,\n",
       ".sk-estimator-doc-link.fitted:hover {\n",
       "  /* fitted */\n",
       "  background-color: var(--sklearn-color-fitted-level-3);\n",
       "  color: var(--sklearn-color-background);\n",
       "  text-decoration: none;\n",
       "}\n",
       "\n",
       "/* Span, style for the box shown on hovering the info icon */\n",
       ".sk-estimator-doc-link span {\n",
       "  display: none;\n",
       "  z-index: 9999;\n",
       "  position: relative;\n",
       "  font-weight: normal;\n",
       "  right: .2ex;\n",
       "  padding: .5ex;\n",
       "  margin: .5ex;\n",
       "  width: min-content;\n",
       "  min-width: 20ex;\n",
       "  max-width: 50ex;\n",
       "  color: var(--sklearn-color-text);\n",
       "  box-shadow: 2pt 2pt 4pt #999;\n",
       "  /* unfitted */\n",
       "  background: var(--sklearn-color-unfitted-level-0);\n",
       "  border: .5pt solid var(--sklearn-color-unfitted-level-3);\n",
       "}\n",
       "\n",
       ".sk-estimator-doc-link.fitted span {\n",
       "  /* fitted */\n",
       "  background: var(--sklearn-color-fitted-level-0);\n",
       "  border: var(--sklearn-color-fitted-level-3);\n",
       "}\n",
       "\n",
       ".sk-estimator-doc-link:hover span {\n",
       "  display: block;\n",
       "}\n",
       "\n",
       "/* \"?\"-specific style due to the `<a>` HTML tag */\n",
       "\n",
       "#sk-container-id-1 a.estimator_doc_link {\n",
       "  float: right;\n",
       "  font-size: 1rem;\n",
       "  line-height: 1em;\n",
       "  font-family: monospace;\n",
       "  background-color: var(--sklearn-color-background);\n",
       "  border-radius: 1rem;\n",
       "  height: 1rem;\n",
       "  width: 1rem;\n",
       "  text-decoration: none;\n",
       "  /* unfitted */\n",
       "  color: var(--sklearn-color-unfitted-level-1);\n",
       "  border: var(--sklearn-color-unfitted-level-1) 1pt solid;\n",
       "}\n",
       "\n",
       "#sk-container-id-1 a.estimator_doc_link.fitted {\n",
       "  /* fitted */\n",
       "  border: var(--sklearn-color-fitted-level-1) 1pt solid;\n",
       "  color: var(--sklearn-color-fitted-level-1);\n",
       "}\n",
       "\n",
       "/* On hover */\n",
       "#sk-container-id-1 a.estimator_doc_link:hover {\n",
       "  /* unfitted */\n",
       "  background-color: var(--sklearn-color-unfitted-level-3);\n",
       "  color: var(--sklearn-color-background);\n",
       "  text-decoration: none;\n",
       "}\n",
       "\n",
       "#sk-container-id-1 a.estimator_doc_link.fitted:hover {\n",
       "  /* fitted */\n",
       "  background-color: var(--sklearn-color-fitted-level-3);\n",
       "}\n",
       "</style><div id=\"sk-container-id-1\" class=\"sk-top-container\"><div class=\"sk-text-repr-fallback\"><pre>Ridge()</pre><b>In a Jupyter environment, please rerun this cell to show the HTML representation or trust the notebook. <br />On GitHub, the HTML representation is unable to render, please try loading this page with nbviewer.org.</b></div><div class=\"sk-container\" hidden><div class=\"sk-item\"><div class=\"sk-estimator fitted sk-toggleable\"><input class=\"sk-toggleable__control sk-hidden--visually\" id=\"sk-estimator-id-1\" type=\"checkbox\" checked><label for=\"sk-estimator-id-1\" class=\"sk-toggleable__label fitted sk-toggleable__label-arrow fitted\">&nbsp;&nbsp;Ridge<a class=\"sk-estimator-doc-link fitted\" rel=\"noreferrer\" target=\"_blank\" href=\"https://scikit-learn.org/1.4/modules/generated/sklearn.linear_model.Ridge.html\">?<span>Documentation for Ridge</span></a><span class=\"sk-estimator-doc-link fitted\">i<span>Fitted</span></span></label><div class=\"sk-toggleable__content fitted\"><pre>Ridge()</pre></div> </div></div></div></div>"
      ],
      "text/plain": [
       "Ridge()"
      ]
     },
     "execution_count": 8,
     "metadata": {},
     "output_type": "execute_result"
    }
   ],
   "source": [
    "# Logistic Regression model with L2 regularization\n",
    "model = Ridge()\n",
    "model.fit(bow_train_scaled, y_train)"
   ]
  },
  {
   "cell_type": "markdown",
   "id": "3af65987",
   "metadata": {},
   "source": [
    "After we train our model, we can make predictions on our test dataset."
   ]
  },
  {
   "cell_type": "code",
   "execution_count": 9,
   "id": "51511264",
   "metadata": {},
   "outputs": [],
   "source": [
    "# Predictions\n",
    "y_pred = model.predict(bow_test_scaled)"
   ]
  },
  {
   "cell_type": "markdown",
   "id": "19a1423d",
   "metadata": {},
   "source": [
    "In order to properly evaluate the predictions, we need to invert the scaling to turn them back in the desired range of values."
   ]
  },
  {
   "cell_type": "code",
   "execution_count": 10,
   "id": "10f12b9e",
   "metadata": {},
   "outputs": [],
   "source": [
    "# Inverse transform the predictions and actual test values\n",
    "y_pred = y_scaler.inverse_transform(y_pred.reshape(-1, 1)).flatten()\n",
    "y_test = y_scaler.inverse_transform(y_test.reshape(-1, 1)).flatten()"
   ]
  },
  {
   "cell_type": "code",
   "execution_count": 11,
   "id": "83944d80",
   "metadata": {},
   "outputs": [
    {
     "data": {
      "text/plain": [
       "array([-0.81484475,  2.3423072 ,  5.39278123, ...,  1.51370284,\n",
       "        3.72792163,  3.82034695])"
      ]
     },
     "execution_count": 11,
     "metadata": {},
     "output_type": "execute_result"
    }
   ],
   "source": [
    "y_pred"
   ]
  },
  {
   "cell_type": "code",
   "execution_count": 12,
   "id": "c692abcc",
   "metadata": {},
   "outputs": [
    {
     "data": {
      "text/plain": [
       "array([1., 1., 5., ..., 1., 1., 4.])"
      ]
     },
     "execution_count": 12,
     "metadata": {},
     "output_type": "execute_result"
    }
   ],
   "source": [
    "y_test"
   ]
  },
  {
   "cell_type": "markdown",
   "id": "bb3bbca0",
   "metadata": {},
   "source": [
    "Moreover, we notice that some values are less than 1 and more than 5, so we clip them in 1-5 range"
   ]
  },
  {
   "cell_type": "code",
   "execution_count": 13,
   "id": "8aa3c83f",
   "metadata": {},
   "outputs": [],
   "source": [
    "# Clip predictions to stay within the 1-5 range\n",
    "y_pred_original_clipped = np.clip(y_pred, 1, 5)"
   ]
  },
  {
   "cell_type": "code",
   "execution_count": 14,
   "id": "4768d830",
   "metadata": {},
   "outputs": [
    {
     "data": {
      "text/plain": [
       "array([1.        , 2.3423072 , 5.        , ..., 1.51370284, 3.72792163,\n",
       "       3.82034695])"
      ]
     },
     "execution_count": 14,
     "metadata": {},
     "output_type": "execute_result"
    }
   ],
   "source": [
    "y_pred_original_clipped"
   ]
  },
  {
   "cell_type": "markdown",
   "id": "298ff86c",
   "metadata": {},
   "source": [
    "### Evalutation\n",
    "\n",
    "After we have made some predictions, we can evaluate our model using the Mean Squared Error for regression tasks."
   ]
  },
  {
   "cell_type": "code",
   "execution_count": 15,
   "id": "f20c6796",
   "metadata": {},
   "outputs": [
    {
     "name": "stdout",
     "output_type": "stream",
     "text": [
      "Mean Squared Error: 1.5188466468997632\n"
     ]
    }
   ],
   "source": [
    "# Evaluate the model using mean squared error\n",
    "mse = mean_squared_error(y_test, y_pred_original_clipped)\n",
    "print(f\"Mean Squared Error: {mse}\")"
   ]
  },
  {
   "cell_type": "markdown",
   "id": "5887a835",
   "metadata": {},
   "source": [
    "We also print some prediction examples, along with the true value and the review content. We can see that the model performance is satisfying."
   ]
  },
  {
   "cell_type": "code",
   "execution_count": 16,
   "id": "8d45e5e5",
   "metadata": {},
   "outputs": [
    {
     "name": "stdout",
     "output_type": "stream",
     "text": [
      "\n",
      "Example predictions:\n",
      "Review 11:\n",
      "Content: it takes like 2 3 minute to open the app that really freaks me out please do something\n",
      "Predicted score = 2.95, Actual score = 5.00\n",
      "\n",
      "Review 12:\n",
      "Content: wh0 does not love netflix the nest shows and movies are on there the on problem is that you pay for about everything you need to pay for more than 1 person to download stuff and you need to pay for more than 1 person to be able to watch\n",
      "Predicted score = 3.96, Actual score = 4.00\n",
      "\n",
      "Review 13:\n",
      "Content: why has my app changed side i used to scroll from right to left and now it is reversed i know it is tiny bug but ui bugs are the worse\n",
      "Predicted score = 1.73, Actual score = 1.00\n",
      "\n",
      "Review 14:\n",
      "Content: it is awesome to wear that you can use so many pictures now i love the updates and also they are putting brand new movies on it and i love it is so amazing how you can just watch a brand new movie on your phone\n",
      "Predicted score = 5.00, Actual score = 5.00\n",
      "\n",
      "Review 15:\n",
      "Content: the resolution paired with more devices package was a d1ck move why cannot you separate that\n",
      "Predicted score = 2.78, Actual score = 1.00\n",
      "\n",
      "Review 16:\n",
      "Content: cannot even log in to netflix error 1001 i am canceling my subscription because i only watch on my phone\n",
      "Predicted score = 1.37, Actual score = 1.00\n",
      "\n",
      "Review 17:\n",
      "Content: from past 10 mins i am trying to pay but its showing error with all cards i tried and also upi id worst thing to witness\n",
      "Predicted score = 1.39, Actual score = 1.00\n",
      "\n",
      "Review 18:\n",
      "Content: netflix has a lots of contents and it is really clean i love it may not be the best but it is better than most of other streaming platforms present in market\n",
      "Predicted score = 4.87, Actual score = 3.00\n",
      "\n",
      "Review 19:\n",
      "Content: i love this app it is so good you get to watch movies tv show watch kids show and a whole bunch of stuff\n",
      "Predicted score = 4.49, Actual score = 5.00\n",
      "\n",
      "Review 20:\n",
      "Content: love this app so kuch super easy to use and no adds its amazing definitely recommend\n",
      "Predicted score = 5.00, Actual score = 5.00\n",
      "\n",
      "Review 21:\n",
      "Content: i think it is a best streaming experience for watch video\n",
      "Predicted score = 4.00, Actual score = 5.00\n",
      "\n",
      "Review 22:\n",
      "Content: they are getting way to expensive for what the app is their competitors have a lot more affordable options both my mom and i are going to unsubscribe from netflix if they keep increasing their prices their content is not that great and when we first got it 9 99 thinking about replacing it with disney\n",
      "Predicted score = 2.30, Actual score = 1.00\n",
      "\n",
      "Review 23:\n",
      "Content: i am very mad at netflix because it is the resean we do not have mcsm it bought mcsm that is the only reason but mcsm was my favorite game to play so i am very mad at netflix for taking that away\n",
      "Predicted score = 2.46, Actual score = 1.00\n",
      "\n",
      "Review 24:\n",
      "Content: app is fine and works as expected it would be nice to have a sleep timer in the app that can be set based on time or episodes when watching on tv there was a are you still there and would turn off if you did not click anything for a couple of episodes\n",
      "Predicted score = 3.79, Actual score = 3.00\n",
      "\n",
      "Review 25:\n",
      "Content: this app is so good for the familly and i love naruto so i can jop on this appband start waching it piriod\n",
      "Predicted score = 4.95, Actual score = 5.00\n",
      "\n",
      "Review 26:\n",
      "Content: removing so many shows and movies that people actually watch and just leaving random unknown movies that nobody even watches and the new update does not let us skip to the next episode without having to press the next episode button it kind of just ruins it i would not have to hold the remote the whole time just to skip to a next episode this app just gets worse\n",
      "Predicted score = 1.11, Actual score = 1.00\n",
      "\n",
      "Review 27:\n",
      "Content: netflix was good for the first few months but then people started hacking us and when we wanted to get our account for netflix shut down they tried to make us pay and give them our credit card information netflix is not safe to me anymore if i could i would give ntflix a 0 star rating\n",
      "Predicted score = 1.88, Actual score = 1.00\n",
      "\n",
      "Review 28:\n",
      "Content: new update renders the app useless unless you are at your primary residence\n",
      "Predicted score = 2.50, Actual score = 1.00\n",
      "\n",
      "Review 29:\n",
      "Content: when watching videos it uses the part of the screen with the camera cutout so there is a giant black spot which is extremely annoying no way to mark videos as watched or not interested other than to just thumbs down them a lot of budget international movies and reality tv shows i am never going to watch\n",
      "Predicted score = 2.78, Actual score = 1.00\n",
      "\n",
      "Review 30:\n",
      "Content: the best i love everything about netflix the best series and movies everything in one package\n",
      "Predicted score = 5.00, Actual score = 5.00\n",
      "\n"
     ]
    }
   ],
   "source": [
    "# Print some prediction examples along with review content\n",
    "print(\"\\nExample predictions:\")\n",
    "for i in range(10, 30):\n",
    "    print(f\"Review {i+1}:\")\n",
    "    print(f\"Content: {df['content_cleaned'][test_idx[i]]}\")\n",
    "    print(f\"Predicted score = {y_pred_original_clipped[i]:.2f}, Actual score = {y_test[i]:.2f}\\n\")"
   ]
  },
  {
   "cell_type": "markdown",
   "id": "93220c27",
   "metadata": {},
   "source": [
    "### Saving the model\n",
    "\n",
    "In the end, we save our model, along with the vectorizer and the scalers we used for future use."
   ]
  },
  {
   "cell_type": "code",
   "execution_count": 17,
   "id": "3cb8b23e",
   "metadata": {},
   "outputs": [
    {
     "name": "stdout",
     "output_type": "stream",
     "text": [
      "Model and scalers saved successfully.\n"
     ]
    }
   ],
   "source": [
    "# Saving the model\n",
    "import joblib\n",
    "\n",
    "# Save the vectorizer\n",
    "joblib.dump(vectorizer, 'vectorizer.pkl')\n",
    "\n",
    "# Save the model and scalers as well\n",
    "joblib.dump(model, 'model.pkl')\n",
    "joblib.dump(scaler, 'maxabs_scaler.pkl')\n",
    "joblib.dump(y_scaler, 'minmax_scaler.pkl')\n",
    "\n",
    "print(\"Model and scalers saved successfully.\")"
   ]
  },
  {
   "cell_type": "markdown",
   "id": "80614c04",
   "metadata": {},
   "source": [
    "## Pros and Cons of the Logistic Regression model\n",
    "\n",
    "### Pros:\n",
    "- **Simplicity**: Linear Regression is straightforward to understand and interpret.\n",
    "- **Efficiency**: Computationally efficient and fast, compared to more complex models, like neural networks and ensembles.\n",
    "- **Feature Importance**: The coefficients of the Linear Regression model can give insights to the impact of different features. In NLP that means that words or semantics that affect greatly the output class will have bigger coefficients.\n",
    "\n",
    "### Cons:\n",
    "- **Assumption of Linearity**: The model assumes a linear relationship between the features and the outcome, performing poorly when complex relationships exist and the decision boundaries are not linear.\n",
    "- **Feature Scaling Required**: Features need to be scaled beforehand for optimal performance.\n",
    "- **Outlier Sensitivity**: Linear Regression is sensitive to outliers, which can unfairly affect greatly the model parameters."
   ]
  }
 ],
 "metadata": {
  "kernelspec": {
   "display_name": "Python 3 (ipykernel)",
   "language": "python",
   "name": "python3"
  },
  "language_info": {
   "codemirror_mode": {
    "name": "ipython",
    "version": 3
   },
   "file_extension": ".py",
   "mimetype": "text/x-python",
   "name": "python",
   "nbconvert_exporter": "python",
   "pygments_lexer": "ipython3",
   "version": "3.11.4"
  }
 },
 "nbformat": 4,
 "nbformat_minor": 5
}

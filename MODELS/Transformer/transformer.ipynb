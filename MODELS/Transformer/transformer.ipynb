{
 "cells": [
  {
   "cell_type": "markdown",
   "id": "5c7b15b4",
   "metadata": {},
   "source": [
    "# Transformer \n",
    "\n",
    "In this notebook we will present the Transformer Regressor with MultiHead Attention. These models use PyTorch's Embedding class, which has trainable embeddings, so we will not use any vectorization technique."
   ]
  },
  {
   "cell_type": "markdown",
   "id": "35a6fc70",
   "metadata": {},
   "source": [
    "### Implementation in Python\n",
    "\n",
    "Let's begin by importing the libraries we need."
   ]
  },
  {
   "cell_type": "code",
   "execution_count": 10,
   "id": "fd251564",
   "metadata": {},
   "outputs": [],
   "source": [
    "# Data handling\n",
    "import numpy as np\n",
    "import pandas as pd\n",
    "import math\n",
    "\n",
    "import multiprocessing\n",
    "\n",
    "import torch\n",
    "from torch.nn.utils.rnn import pad_sequence\n",
    "import torch.nn as nn\n",
    "import torch.optim as optim\n",
    "from torch.utils.data import DataLoader, Dataset\n",
    "\n",
    "\n",
    "from sklearn.preprocessing import MinMaxScaler\n",
    "from sklearn.model_selection import train_test_split\n",
    "import matplotlib.pyplot as plt\n",
    "from tqdm import tqdm"
   ]
  },
  {
   "cell_type": "markdown",
   "id": "0e43a3c6",
   "metadata": {},
   "source": [
    "In order to use GPU for training, we use the following cell."
   ]
  },
  {
   "cell_type": "code",
   "execution_count": 11,
   "id": "46fad3c6",
   "metadata": {},
   "outputs": [
    {
     "name": "stdout",
     "output_type": "stream",
     "text": [
      "Using cuda device\n"
     ]
    }
   ],
   "source": [
    "device = torch.device(\"cuda\" if torch.cuda.is_available() else \"cpu\")\n",
    "print(f\"Using {device} device\")"
   ]
  },
  {
   "cell_type": "markdown",
   "id": "faac1262",
   "metadata": {},
   "source": [
    "### Loading the dataset\n",
    "\n",
    "We load our dataset and add empty texts in case of missing values."
   ]
  },
  {
   "cell_type": "code",
   "execution_count": 12,
   "id": "b0e545eb",
   "metadata": {},
   "outputs": [],
   "source": [
    "df = pd.read_csv(\"../../DATASETS/preprocessed_text.csv\")"
   ]
  },
  {
   "cell_type": "code",
   "execution_count": 13,
   "id": "3e5531e9",
   "metadata": {},
   "outputs": [
    {
     "data": {
      "text/html": [
       "<div>\n",
       "<style scoped>\n",
       "    .dataframe tbody tr th:only-of-type {\n",
       "        vertical-align: middle;\n",
       "    }\n",
       "\n",
       "    .dataframe tbody tr th {\n",
       "        vertical-align: top;\n",
       "    }\n",
       "\n",
       "    .dataframe thead th {\n",
       "        text-align: right;\n",
       "    }\n",
       "</style>\n",
       "<table border=\"1\" class=\"dataframe\">\n",
       "  <thead>\n",
       "    <tr style=\"text-align: right;\">\n",
       "      <th></th>\n",
       "      <th>content</th>\n",
       "      <th>score</th>\n",
       "      <th>content_cleaned</th>\n",
       "    </tr>\n",
       "  </thead>\n",
       "  <tbody>\n",
       "    <tr>\n",
       "      <th>0</th>\n",
       "      <td>Plsssss stoppppp giving screen limit like when...</td>\n",
       "      <td>2</td>\n",
       "      <td>plss stopp giving screen limit like when you a...</td>\n",
       "    </tr>\n",
       "    <tr>\n",
       "      <th>1</th>\n",
       "      <td>Good</td>\n",
       "      <td>5</td>\n",
       "      <td>good</td>\n",
       "    </tr>\n",
       "    <tr>\n",
       "      <th>2</th>\n",
       "      <td>👍👍</td>\n",
       "      <td>5</td>\n",
       "      <td>thumbs_up</td>\n",
       "    </tr>\n",
       "    <tr>\n",
       "      <th>3</th>\n",
       "      <td>Good</td>\n",
       "      <td>3</td>\n",
       "      <td>good</td>\n",
       "    </tr>\n",
       "    <tr>\n",
       "      <th>4</th>\n",
       "      <td>App is useful to certain phone brand ,,,,it is...</td>\n",
       "      <td>1</td>\n",
       "      <td>app is useful to certain phone brand it is not...</td>\n",
       "    </tr>\n",
       "  </tbody>\n",
       "</table>\n",
       "</div>"
      ],
      "text/plain": [
       "                                             content  score  \\\n",
       "0  Plsssss stoppppp giving screen limit like when...      2   \n",
       "1                                               Good      5   \n",
       "2                                                 👍👍      5   \n",
       "3                                               Good      3   \n",
       "4  App is useful to certain phone brand ,,,,it is...      1   \n",
       "\n",
       "                                     content_cleaned  \n",
       "0  plss stopp giving screen limit like when you a...  \n",
       "1                                               good  \n",
       "2                                          thumbs_up  \n",
       "3                                               good  \n",
       "4  app is useful to certain phone brand it is not...  "
      ]
     },
     "execution_count": 13,
     "metadata": {},
     "output_type": "execute_result"
    }
   ],
   "source": [
    "df.isnull().sum()\n",
    "df.fillna('', inplace=True)\n",
    "df.head()"
   ]
  },
  {
   "cell_type": "markdown",
   "id": "18f571d9",
   "metadata": {},
   "source": [
    "### Tokenizing and padding\n",
    "\n",
    "First we need to tokenize our sequences and turn them into integers. For this we will use the keras Tokenizer function from Tensorflow.\n",
    "\n",
    "The next step is to pad the sequences so all of them are of the same size. This is done because in RNNs, the model has a set input size. Therefore, in order all the input sequences to have the same size, we introduce zero padding at the end of each sequence. For this we will use the pad_sequences function from Tensorflow."
   ]
  },
  {
   "cell_type": "code",
   "execution_count": 14,
   "id": "ac3b9978",
   "metadata": {},
   "outputs": [
    {
     "data": {
      "image/png": "[encoded data removed]",
      "text/plain": [
       "<Figure size 1000x600 with 1 Axes>"
      ]
     },
     "metadata": {},
     "output_type": "display_data"
    }
   ],
   "source": [
    "from tensorflow.keras.preprocessing.text import Tokenizer\n",
    "from tensorflow.keras.preprocessing.sequence import pad_sequences\n",
    "\n",
    "# Step 1: Initialize and fit the tokenizer\n",
    "tokenizer = Tokenizer(num_words=40000, oov_token=\"<OOV>\")  # Limit vocab size to 40000 and add an out-of-vocabulary token\n",
    "\n",
    "tokenizer.fit_on_texts(df['content_cleaned'].values)\n",
    "\n",
    "# Step 2: Convert texts to sequences of integers\n",
    "sequences = tokenizer.texts_to_sequences(df['content_cleaned'].values)\n",
    "\n",
    "sequence_lengths = [len(sequence) for sequence in sequences]\n",
    "\n",
    "# Plot histogram of sequence lengths\n",
    "plt.figure(figsize=(10, 6))\n",
    "plt.hist(sequence_lengths, bins=30, edgecolor='black', alpha=0.7)\n",
    "plt.xlabel('Sequence Length')\n",
    "plt.ylabel('Frequency')\n",
    "plt.title('Histogram of Sequence Lengths')\n",
    "plt.grid(True)\n",
    "plt.show()"
   ]
  },
  {
   "cell_type": "code",
   "execution_count": 15,
   "id": "de763478",
   "metadata": {},
   "outputs": [
    {
     "data": {
      "text/plain": [
       "['tokenizer.pkl']"
      ]
     },
     "execution_count": 15,
     "metadata": {},
     "output_type": "execute_result"
    }
   ],
   "source": [
    "import joblib\n",
    "\n",
    "joblib.dump(tokenizer, 'tokenizer.pkl')"
   ]
  },
  {
   "cell_type": "markdown",
   "id": "9662079e",
   "metadata": {},
   "source": [
    "We notice that the majority of sequences are until size 140. So we will pad all our sequences to size 140."
   ]
  },
  {
   "cell_type": "code",
   "execution_count": 16,
   "id": "ce45a320",
   "metadata": {},
   "outputs": [],
   "source": [
    "# Step 3: Pad sequences\n",
    "\n",
    "MAX_SEQUENCE_LENGTH = 140\n",
    "\n",
    "padded_sequences = pad_sequences(sequences, maxlen=MAX_SEQUENCE_LENGTH, padding='post')"
   ]
  },
  {
   "cell_type": "markdown",
   "id": "ee69a107",
   "metadata": {},
   "source": [
    "### Vectorization\n",
    "\n",
    "In RNN, we do not have to vectorize our data. The deep networks usually have an Embedding input layer, which is learnable and it turns our tokenized padded inputs into embeddings."
   ]
  },
  {
   "cell_type": "markdown",
   "id": "13e553dc",
   "metadata": {},
   "source": [
    "### Preparing the dataset\n",
    "\n",
    "PyTorch wants all the inputs and labels to be turned into tensors in order to be used in networks."
   ]
  },
  {
   "cell_type": "code",
   "execution_count": 17,
   "id": "55529fca",
   "metadata": {},
   "outputs": [],
   "source": [
    "# Turn inputs into tensors\n",
    "padded_reviews = torch.tensor(padded_sequences, dtype=torch.long)"
   ]
  },
  {
   "cell_type": "markdown",
   "id": "6fd67bd2",
   "metadata": {},
   "source": [
    "### Preparing the labels \n",
    "\n",
    "We scale the labels into the range 1 to 5 with MinMaxScaler. They are already in that range but we fit our scaler to be able to use it on new unseen data."
   ]
  },
  {
   "cell_type": "code",
   "execution_count": 18,
   "id": "3f55e395",
   "metadata": {},
   "outputs": [],
   "source": [
    "y_df = df[['score']]\n",
    "\n",
    "y_scaler = MinMaxScaler(feature_range=(1, 5))\n",
    "y = y_scaler.fit_transform(y_df)\n",
    "\n",
    "# Turn labels into tensors\n",
    "y = torch.tensor(y, dtype=torch.float)  # Labels"
   ]
  },
  {
   "cell_type": "markdown",
   "id": "6a670447",
   "metadata": {},
   "source": [
    "### Train - test split\n",
    "\n",
    "We perform the train-test split, keeping 20% of the original data for evaluation. We also keep the indices split of our dataframe."
   ]
  },
  {
   "cell_type": "code",
   "execution_count": 19,
   "id": "1a57e53d",
   "metadata": {},
   "outputs": [],
   "source": [
    "indices = df.index\n",
    "\n",
    "train_reviews, test_reviews, y_train, y_test, train_idx, test_idx = train_test_split(padded_reviews, y.flatten(), indices, test_size=0.2, random_state=42)"
   ]
  },
  {
   "cell_type": "markdown",
   "id": "ee48b819",
   "metadata": {},
   "source": [
    "### Dataset and Dataloader classes\n",
    "\n",
    "After the data have been turned into tensors and the train-test split is performed, they have to be loaded in the Dataset and Dataloader classes.\n",
    "\n",
    "The first creates dataset instances, grouping input-output pairs of data together. This is needed, since the Dataloader class only accepts Dataset objects.\n",
    "\n",
    "The Dataloader takes Dataset instances and shuffles the contents and puts them into batches."
   ]
  },
  {
   "cell_type": "code",
   "execution_count": 20,
   "id": "22b341f1",
   "metadata": {},
   "outputs": [],
   "source": [
    "# Define Custom Dataset Class\n",
    "class ReviewsDataset(Dataset):\n",
    "    def __init__(self, reviews, labels):\n",
    "        self.reviews = reviews\n",
    "        self.labels = labels\n",
    "\n",
    "    def __len__(self):\n",
    "        return len(self.reviews)\n",
    "\n",
    "    def __getitem__(self, idx):\n",
    "        return self.reviews[idx], self.labels[idx]"
   ]
  },
  {
   "cell_type": "code",
   "execution_count": 21,
   "id": "8c2e8d41",
   "metadata": {},
   "outputs": [],
   "source": [
    "# Create Train and Test Dataset Instances\n",
    "train_dataset = ReviewsDataset(train_reviews, y_train)\n",
    "test_dataset = ReviewsDataset(test_reviews, y_test)"
   ]
  },
  {
   "cell_type": "code",
   "execution_count": 22,
   "id": "0d010e41",
   "metadata": {},
   "outputs": [],
   "source": [
    "# Set the batch size\n",
    "batch_size = 32\n",
    "\n",
    "# DataLoader for training set\n",
    "train_dataloader = DataLoader(train_dataset, batch_size=batch_size, shuffle=True)\n",
    "\n",
    "# DataLoader for testing set (usually no shuffling)\n",
    "test_dataloader = DataLoader(test_dataset, batch_size=batch_size, shuffle=False)"
   ]
  },
  {
   "cell_type": "markdown",
   "id": "1ca977b1",
   "metadata": {},
   "source": [
    "### Model\n",
    "\n",
    "Next we define our Transformer model. Firstly, we define the Embedding layer, according to the transformer architecture. Ti consists of two different layers, one input embedding and one positional embedding layer. The input embedding layer is a trainable layer that turns the inputs into embeddings. The positional embeddings are not learnable and they encode the position of the tokens using two functions, one sin and one cosin. The two embeddings are then added and are passed through a dropout layer before being fed further into the model."
   ]
  },
  {
   "cell_type": "code",
   "execution_count": 23,
   "id": "040a41b3",
   "metadata": {},
   "outputs": [],
   "source": [
    "class Embedding(nn.Module):\n",
    "    def __init__(self,vocab_size,d_model=50,dropout=0.1,max_len=500):\n",
    "        super().__init__()\n",
    "        self.d_model = d_model\n",
    "        self.input_embedding = nn.Embedding(vocab_size, d_model, padding_idx=0)\n",
    "        pe = self.pos_encoding(max_len, d_model)\n",
    "        self.pos_embedding = nn.Embedding.from_pretrained(pe, freeze=True)\n",
    "        self.dropout = nn.Dropout(dropout)\n",
    "        \n",
    "    def forward(self, X):\n",
    "        pos_mat = torch.arange(X.size(dim=-1)).to(device)\n",
    "        X = self.input_embedding(X) * math.sqrt(self.d_model)\n",
    "        X += self.pos_embedding(pos_mat)\n",
    "        return self.dropout(X)\n",
    "\n",
    "    def pos_encoding(self, max_len, d_model):\n",
    "        dividend = torch.arange(max_len).unsqueeze(0).T\n",
    "        divisor = torch.pow(10000.0, torch.arange(0, d_model, 2)/d_model)\n",
    "        epsilon = 1e-8\n",
    "        angles = dividend / (divisor+epsilon)\n",
    "        pe = torch.zeros((max_len, d_model))\n",
    "        pe[:, 0::2] = torch.sin(angles)\n",
    "        pe[:, 1::2] = torch.cos(angles)\n",
    "        return pe\n",
    "\n",
    "vocab_size = 39783\n",
    "embedding = Embedding(vocab_size).to(device)"
   ]
  },
  {
   "cell_type": "markdown",
   "id": "b8e8345c",
   "metadata": {},
   "source": [
    "Then we define the Transformer architecture. After the embedding layer come several tranformer encoder layers. During the forward pass, we also take into account the padding tokens with a padding mask. This helps the model not include the padding tokens in the attention operations. The encoder is followed by averaging all the embeddings into one and passing it through a Linear layer with 1 output channel, since this is a regression task. "
   ]
  },
  {
   "cell_type": "code",
   "execution_count": 24,
   "id": "9477e64f",
   "metadata": {},
   "outputs": [],
   "source": [
    "class Model(nn.Module):\n",
    "    def __init__(self,embeddings,nhead,num_layers,nbr_classes,d_model=50,dim_feedforward=2048,dropout=0.1):\n",
    "        super().__init__()\n",
    "        self.embeddings = embeddings\n",
    "        self.encoder_layer = nn.TransformerEncoderLayer(d_model,nhead,batch_first=True,dropout=dropout,dim_feedforward=dim_feedforward, activation='gelu')\n",
    "        self.encoder = nn.TransformerEncoder(self.encoder_layer, num_layers)\n",
    "        self.fc = nn.Linear(d_model, nbr_classes)\n",
    "        \n",
    "    def forward(self, X):\n",
    "        padding_mask = (X == 0)\n",
    "        X = self.embeddings(X)\n",
    "        X = self.encoder(X, src_key_padding_mask=padding_mask)\n",
    "        X = torch.mean(X, dim=1)\n",
    "        return self.fc(X)"
   ]
  },
  {
   "cell_type": "code",
   "execution_count": 25,
   "id": "a7b9152f",
   "metadata": {},
   "outputs": [],
   "source": [
    "# Hyperparameters\n",
    "nhead = 5\n",
    "num_layers = 5  # number of LSTM layers\n",
    "nbr_classes = 1\n",
    "learning_rate = 0.0001\n",
    "num_epochs = 10"
   ]
  },
  {
   "cell_type": "markdown",
   "id": "ebd45c5e",
   "metadata": {},
   "source": [
    "Furthermore, we use the MSE loss as loss criterion and Adam as the optimizer for our training."
   ]
  },
  {
   "cell_type": "code",
   "execution_count": 26,
   "id": "578db657",
   "metadata": {},
   "outputs": [
    {
     "name": "stderr",
     "output_type": "stream",
     "text": [
      "C:\\Users\\geoch\\anaconda3\\Lib\\site-packages\\torch\\nn\\modules\\transformer.py:286: UserWarning: enable_nested_tensor is True, but self.use_nested_tensor is False because encoder_layer.self_attn.num_heads is odd\n",
      "  warnings.warn(f\"enable_nested_tensor is True, but self.use_nested_tensor is False because {why_not_sparsity_fast_path}\")\n"
     ]
    }
   ],
   "source": [
    "# Initialize the model, loss function, and optimizer\n",
    "model = Model(embedding,nhead,num_layers,nbr_classes)\n",
    "model.to(device)\n",
    "criterion = nn.MSELoss()  # Mean Squared Error for regression\n",
    "optimizer = optim.Adam(model.parameters(), lr=learning_rate)"
   ]
  },
  {
   "cell_type": "markdown",
   "id": "31a95534",
   "metadata": {},
   "source": [
    "After we have defined and initialized the model, we run the training loop"
   ]
  },
  {
   "cell_type": "code",
   "execution_count": 27,
   "id": "f7260899",
   "metadata": {},
   "outputs": [
    {
     "name": "stderr",
     "output_type": "stream",
     "text": [
      "  0%|                                                                                         | 0/2833 [00:00<?, ?it/s]C:\\Users\\geoch\\anaconda3\\Lib\\site-packages\\torch\\nn\\functional.py:5476: UserWarning: 1Torch was not compiled with flash attention. (Triggered internally at ..\\aten\\src\\ATen\\native\\transformers\\cuda\\sdp_utils.cpp:263.)\n",
      "  attn_output = scaled_dot_product_attention(q, k, v, attn_mask, dropout_p, is_causal)\n",
      "100%|██████████████████████████████████████████████████████████████████████████████| 2833/2833 [03:04<00:00, 15.32it/s]\n"
     ]
    },
    {
     "name": "stdout",
     "output_type": "stream",
     "text": [
      "Epoch [1/10], Loss: 1.6407\n"
     ]
    },
    {
     "name": "stderr",
     "output_type": "stream",
     "text": [
      "100%|██████████████████████████████████████████████████████████████████████████████| 2833/2833 [01:23<00:00, 33.83it/s]\n"
     ]
    },
    {
     "name": "stdout",
     "output_type": "stream",
     "text": [
      "Epoch [2/10], Loss: 1.2942\n"
     ]
    },
    {
     "name": "stderr",
     "output_type": "stream",
     "text": [
      "100%|██████████████████████████████████████████████████████████████████████████████| 2833/2833 [01:24<00:00, 33.51it/s]\n"
     ]
    },
    {
     "name": "stdout",
     "output_type": "stream",
     "text": [
      "Epoch [3/10], Loss: 1.1973\n"
     ]
    },
    {
     "name": "stderr",
     "output_type": "stream",
     "text": [
      "100%|██████████████████████████████████████████████████████████████████████████████| 2833/2833 [01:24<00:00, 33.55it/s]\n"
     ]
    },
    {
     "name": "stdout",
     "output_type": "stream",
     "text": [
      "Epoch [4/10], Loss: 1.1454\n"
     ]
    },
    {
     "name": "stderr",
     "output_type": "stream",
     "text": [
      "100%|██████████████████████████████████████████████████████████████████████████████| 2833/2833 [01:24<00:00, 33.61it/s]\n"
     ]
    },
    {
     "name": "stdout",
     "output_type": "stream",
     "text": [
      "Epoch [5/10], Loss: 1.1137\n"
     ]
    },
    {
     "name": "stderr",
     "output_type": "stream",
     "text": [
      "100%|██████████████████████████████████████████████████████████████████████████████| 2833/2833 [01:23<00:00, 33.85it/s]\n"
     ]
    },
    {
     "name": "stdout",
     "output_type": "stream",
     "text": [
      "Epoch [6/10], Loss: 1.0834\n"
     ]
    },
    {
     "name": "stderr",
     "output_type": "stream",
     "text": [
      "100%|██████████████████████████████████████████████████████████████████████████████| 2833/2833 [01:24<00:00, 33.52it/s]\n"
     ]
    },
    {
     "name": "stdout",
     "output_type": "stream",
     "text": [
      "Epoch [7/10], Loss: 1.0605\n"
     ]
    },
    {
     "name": "stderr",
     "output_type": "stream",
     "text": [
      "100%|██████████████████████████████████████████████████████████████████████████████| 2833/2833 [01:24<00:00, 33.52it/s]\n"
     ]
    },
    {
     "name": "stdout",
     "output_type": "stream",
     "text": [
      "Epoch [8/10], Loss: 1.0382\n"
     ]
    },
    {
     "name": "stderr",
     "output_type": "stream",
     "text": [
      "100%|██████████████████████████████████████████████████████████████████████████████| 2833/2833 [01:24<00:00, 33.64it/s]\n"
     ]
    },
    {
     "name": "stdout",
     "output_type": "stream",
     "text": [
      "Epoch [9/10], Loss: 1.0240\n"
     ]
    },
    {
     "name": "stderr",
     "output_type": "stream",
     "text": [
      "100%|██████████████████████████████████████████████████████████████████████████████| 2833/2833 [01:24<00:00, 33.54it/s]"
     ]
    },
    {
     "name": "stdout",
     "output_type": "stream",
     "text": [
      "Epoch [10/10], Loss: 1.0088\n"
     ]
    },
    {
     "name": "stderr",
     "output_type": "stream",
     "text": [
      "\n"
     ]
    }
   ],
   "source": [
    "# Training loop\n",
    "for epoch in range(num_epochs):\n",
    "    progress_bar = tqdm(train_dataloader)\n",
    "    model.train()\n",
    "    epoch_loss = 0.0\n",
    "    for step, (reviews, labels) in enumerate(progress_bar, 1):\n",
    "        \n",
    "        reviews, labels = reviews.to(device), labels.to(device)\n",
    "            \n",
    "        # Zero the gradients\n",
    "        optimizer.zero_grad()\n",
    "\n",
    "        # Forward pass\n",
    "        outputs = model(reviews)\n",
    "        outputs = outputs.squeeze(1)  # Squeeze output to match the ratings shape\n",
    "        outputs = torch.where(torch.isnan(outputs), torch.zeros_like(outputs), outputs)\n",
    "        \n",
    "        # Compute loss\n",
    "        loss = criterion(outputs, labels)\n",
    "\n",
    "        # Backward pass and optimization\n",
    "        loss.backward()\n",
    "        \n",
    "        for name, param in model.named_parameters():\n",
    "            if param.grad is not None and torch.isnan(param.grad).any():\n",
    "                print(f\"NaN detected in gradients of {name}\")\n",
    "        \n",
    "        # Apply gradient clipping\n",
    "        torch.nn.utils.clip_grad_norm_(model.parameters(), max_norm=1.0)\n",
    "        \n",
    "        optimizer.step()\n",
    "\n",
    "        epoch_loss += loss.item()\n",
    "\n",
    "    # Print epoch loss\n",
    "    avg_loss = epoch_loss / len(train_dataloader)\n",
    "    print(f'Epoch [{epoch+1}/{num_epochs}], Loss: {avg_loss:.4f}')\n"
   ]
  },
  {
   "cell_type": "markdown",
   "id": "2f516036",
   "metadata": {},
   "source": [
    "After we train our model, we can make predictions on our test dataset."
   ]
  },
  {
   "cell_type": "code",
   "execution_count": 28,
   "id": "5b34aee5",
   "metadata": {},
   "outputs": [
    {
     "name": "stderr",
     "output_type": "stream",
     "text": [
      "100%|███████████████████████████████████████████████████████████████████████████████| 709/709 [00:05<00:00, 120.01it/s]\n"
     ]
    }
   ],
   "source": [
    "model.eval()  # Set the model to evaluation mode\n",
    "\n",
    "# Test the model on the test dataset\n",
    "all_preds = []\n",
    "all_labels = []\n",
    "\n",
    "with torch.no_grad():\n",
    "    progress_bar = tqdm(test_dataloader)\n",
    "    \n",
    "    for step, (reviews, labels) in enumerate(progress_bar, 1):\n",
    "\n",
    "        reviews, labels = reviews.to(device), labels.to(device)\n",
    "        outputs = model(reviews)\n",
    "        outputs = torch.where(torch.isnan(outputs), torch.zeros_like(outputs), outputs)\n",
    "        \n",
    "        # Collect predictions and labels\n",
    "        all_preds.append(outputs.cpu().numpy())\n",
    "        all_labels.append(labels.cpu().numpy())\n",
    "\n",
    "# Concatenate all batches to form the complete arrays\n",
    "y_pred = np.concatenate(all_preds, axis=0)\n",
    "y_test = np.concatenate(all_labels, axis=0)"
   ]
  },
  {
   "cell_type": "code",
   "execution_count": 29,
   "id": "fb489bcc",
   "metadata": {},
   "outputs": [
    {
     "name": "stdout",
     "output_type": "stream",
     "text": [
      "0\n"
     ]
    }
   ],
   "source": [
    "i=0\n",
    "if np.any(np.isnan(y_pred)):\n",
    "    print(\"NaNs detected in predictions\")\n",
    "    i=i+1\n",
    "print(i)"
   ]
  },
  {
   "cell_type": "code",
   "execution_count": 30,
   "id": "b8f1eb45",
   "metadata": {},
   "outputs": [
    {
     "data": {
      "text/plain": [
       "array([[1.2725459],\n",
       "       [1.0889271],\n",
       "       [5.129243 ],\n",
       "       ...,\n",
       "       [1.3283143],\n",
       "       [4.1829977],\n",
       "       [3.930577 ]], dtype=float32)"
      ]
     },
     "execution_count": 30,
     "metadata": {},
     "output_type": "execute_result"
    }
   ],
   "source": [
    "y_pred"
   ]
  },
  {
   "cell_type": "markdown",
   "id": "db5228c0",
   "metadata": {},
   "source": [
    "In order to properly evaluate the predictions, we need to invert the scaling to turn them back in the desired range of values."
   ]
  },
  {
   "cell_type": "code",
   "execution_count": 31,
   "id": "8638ad77",
   "metadata": {},
   "outputs": [],
   "source": [
    "# Inverse transform the predictions and actual test values\n",
    "y_pred = y_scaler.inverse_transform(y_pred.reshape(-1, 1)).flatten()\n",
    "y_test = y_scaler.inverse_transform(y_test.reshape(-1, 1)).flatten()"
   ]
  },
  {
   "cell_type": "code",
   "execution_count": 32,
   "id": "4633c221",
   "metadata": {},
   "outputs": [
    {
     "data": {
      "text/plain": [
       "array([1.2725459, 1.0889271, 5.129243 , ..., 1.3283143, 4.1829977,\n",
       "       3.930577 ], dtype=float32)"
      ]
     },
     "execution_count": 32,
     "metadata": {},
     "output_type": "execute_result"
    }
   ],
   "source": [
    "y_pred"
   ]
  },
  {
   "cell_type": "code",
   "execution_count": 33,
   "id": "22a582c5",
   "metadata": {},
   "outputs": [
    {
     "data": {
      "text/plain": [
       "array([1., 1., 5., ..., 1., 1., 4.], dtype=float32)"
      ]
     },
     "execution_count": 33,
     "metadata": {},
     "output_type": "execute_result"
    }
   ],
   "source": [
    "y_test"
   ]
  },
  {
   "cell_type": "markdown",
   "id": "08ffc2ad",
   "metadata": {},
   "source": [
    "Moreover, we notice that some values are less than 1 and more than 5, so we clip them in 1-5 range."
   ]
  },
  {
   "cell_type": "code",
   "execution_count": 34,
   "id": "1fed0e3f",
   "metadata": {},
   "outputs": [],
   "source": [
    "# Clip predictions to stay within the 1-5 range\n",
    "y_pred_original_clipped = np.clip(y_pred, 1, 5)"
   ]
  },
  {
   "cell_type": "code",
   "execution_count": 35,
   "id": "1b29157b",
   "metadata": {},
   "outputs": [
    {
     "data": {
      "text/plain": [
       "array([1.2725459, 1.0889271, 5.       , ..., 1.3283143, 4.1829977,\n",
       "       3.930577 ], dtype=float32)"
      ]
     },
     "execution_count": 35,
     "metadata": {},
     "output_type": "execute_result"
    }
   ],
   "source": [
    "y_pred_original_clipped"
   ]
  },
  {
   "cell_type": "markdown",
   "id": "c0c33d76",
   "metadata": {},
   "source": [
    "### Evalutation\n",
    "After we have made some predictions, we can evaluate our model using the Mean Squared Error for regression tasks."
   ]
  },
  {
   "cell_type": "code",
   "execution_count": 36,
   "id": "4416cf5a",
   "metadata": {},
   "outputs": [
    {
     "name": "stdout",
     "output_type": "stream",
     "text": [
      "Mean Squared Error: 1.0482319593429565\n"
     ]
    }
   ],
   "source": [
    "from sklearn.metrics import mean_squared_error\n",
    "\n",
    "# Evaluate the model using mean squared error\n",
    "mse = mean_squared_error(y_test, y_pred_original_clipped)\n",
    "print(f\"Mean Squared Error: {mse}\")\n"
   ]
  },
  {
   "cell_type": "markdown",
   "id": "544705fe",
   "metadata": {},
   "source": [
    "We also print some prediction examples, along with the true value and the review content. We can see that the model performance is satisfying."
   ]
  },
  {
   "cell_type": "code",
   "execution_count": 37,
   "id": "ba6385ee",
   "metadata": {},
   "outputs": [
    {
     "name": "stdout",
     "output_type": "stream",
     "text": [
      "\n",
      "Example predictions:\n",
      "Review 11:\n",
      "Content: it takes like 2 3 minute to open the app that really freaks me out please do something\n",
      "Predicted score = 2.85, Actual score = 5.00\n",
      "\n",
      "Review 12:\n",
      "Content: wh0 does not love netflix the nest shows and movies are on there the on problem is that you pay for about everything you need to pay for more than 1 person to download stuff and you need to pay for more than 1 person to be able to watch\n",
      "Predicted score = 3.71, Actual score = 4.00\n",
      "\n",
      "Review 13:\n",
      "Content: why has my app changed side i used to scroll from right to left and now it is reversed i know it is tiny bug but ui bugs are the worse\n",
      "Predicted score = 1.26, Actual score = 1.00\n",
      "\n",
      "Review 14:\n",
      "Content: it is awesome to wear that you can use so many pictures now i love the updates and also they are putting brand new movies on it and i love it is so amazing how you can just watch a brand new movie on your phone\n",
      "Predicted score = 5.00, Actual score = 5.00\n",
      "\n",
      "Review 15:\n",
      "Content: the resolution paired with more devices package was a d1ck move why cannot you separate that\n",
      "Predicted score = 1.64, Actual score = 1.00\n",
      "\n",
      "Review 16:\n",
      "Content: cannot even log in to netflix error 1001 i am canceling my subscription because i only watch on my phone\n",
      "Predicted score = 1.04, Actual score = 1.00\n",
      "\n",
      "Review 17:\n",
      "Content: from past 10 mins i am trying to pay but its showing error with all cards i tried and also upi id worst thing to witness\n",
      "Predicted score = 1.13, Actual score = 1.00\n",
      "\n",
      "Review 18:\n",
      "Content: netflix has a lots of contents and it is really clean i love it may not be the best but it is better than most of other streaming platforms present in market\n",
      "Predicted score = 4.94, Actual score = 3.00\n",
      "\n",
      "Review 19:\n",
      "Content: i love this app it is so good you get to watch movies tv show watch kids show and a whole bunch of stuff\n",
      "Predicted score = 5.00, Actual score = 5.00\n",
      "\n",
      "Review 20:\n",
      "Content: love this app so kuch super easy to use and no adds its amazing definitely recommend\n",
      "Predicted score = 5.00, Actual score = 5.00\n",
      "\n",
      "Review 21:\n",
      "Content: i think it is a best streaming experience for watch video\n",
      "Predicted score = 5.00, Actual score = 5.00\n",
      "\n",
      "Review 22:\n",
      "Content: they are getting way to expensive for what the app is their competitors have a lot more affordable options both my mom and i are going to unsubscribe from netflix if they keep increasing their prices their content is not that great and when we first got it 9 99 thinking about replacing it with disney\n",
      "Predicted score = 1.52, Actual score = 1.00\n",
      "\n",
      "Review 23:\n",
      "Content: i am very mad at netflix because it is the resean we do not have mcsm it bought mcsm that is the only reason but mcsm was my favorite game to play so i am very mad at netflix for taking that away\n",
      "Predicted score = 4.00, Actual score = 1.00\n",
      "\n",
      "Review 24:\n",
      "Content: app is fine and works as expected it would be nice to have a sleep timer in the app that can be set based on time or episodes when watching on tv there was a are you still there and would turn off if you did not click anything for a couple of episodes\n",
      "Predicted score = 4.11, Actual score = 3.00\n",
      "\n",
      "Review 25:\n",
      "Content: this app is so good for the familly and i love naruto so i can jop on this appband start waching it piriod\n",
      "Predicted score = 5.00, Actual score = 5.00\n",
      "\n",
      "Review 26:\n",
      "Content: removing so many shows and movies that people actually watch and just leaving random unknown movies that nobody even watches and the new update does not let us skip to the next episode without having to press the next episode button it kind of just ruins it i would not have to hold the remote the whole time just to skip to a next episode this app just gets worse\n",
      "Predicted score = 1.40, Actual score = 1.00\n",
      "\n",
      "Review 27:\n",
      "Content: netflix was good for the first few months but then people started hacking us and when we wanted to get our account for netflix shut down they tried to make us pay and give them our credit card information netflix is not safe to me anymore if i could i would give ntflix a 0 star rating\n",
      "Predicted score = 1.55, Actual score = 1.00\n",
      "\n",
      "Review 28:\n",
      "Content: new update renders the app useless unless you are at your primary residence\n",
      "Predicted score = 1.22, Actual score = 1.00\n",
      "\n",
      "Review 29:\n",
      "Content: when watching videos it uses the part of the screen with the camera cutout so there is a giant black spot which is extremely annoying no way to mark videos as watched or not interested other than to just thumbs down them a lot of budget international movies and reality tv shows i am never going to watch\n",
      "Predicted score = 2.07, Actual score = 1.00\n",
      "\n",
      "Review 30:\n",
      "Content: the best i love everything about netflix the best series and movies everything in one package\n",
      "Predicted score = 5.00, Actual score = 5.00\n",
      "\n"
     ]
    }
   ],
   "source": [
    "# Print some prediction examples along with review content\n",
    "print(\"\\nExample predictions:\")\n",
    "for i in range(10, 30):\n",
    "    print(f\"Review {i+1}:\")\n",
    "    print(f\"Content: {df['content_cleaned'][test_idx[i]]}\")\n",
    "    print(f\"Predicted score = {y_pred_original_clipped[i]:.2f}, Actual score = {y_test[i]:.2f}\\n\")"
   ]
  },
  {
   "cell_type": "markdown",
   "id": "e1796138",
   "metadata": {},
   "source": [
    "### Saving the model\n",
    "\n",
    "In the end, we save our model, along with the vectorizer and the scalers we used for future use."
   ]
  },
  {
   "cell_type": "code",
   "execution_count": 38,
   "id": "74b81d1a",
   "metadata": {},
   "outputs": [
    {
     "name": "stdout",
     "output_type": "stream",
     "text": [
      "Model and scalers saved successfully.\n"
     ]
    }
   ],
   "source": [
    "# Saving the model\n",
    "import joblib\n",
    "\n",
    "# Save the model and scalers as well\n",
    "torch.save(model.state_dict(), 'model.pth')\n",
    "joblib.dump(y_scaler, 'minmax_scaler.pkl')\n",
    "\n",
    "print(\"Model and scalers saved successfully.\")"
   ]
  }
 ],
 "metadata": {
  "kernelspec": {
   "display_name": "Python 3 (ipykernel)",
   "language": "python",
   "name": "python3"
  },
  "language_info": {
   "codemirror_mode": {
    "name": "ipython",
    "version": 3
   },
   "file_extension": ".py",
   "mimetype": "text/x-python",
   "name": "python",
   "nbconvert_exporter": "python",
   "pygments_lexer": "ipython3",
   "version": "3.11.4"
  }
 },
 "nbformat": 4,
 "nbformat_minor": 5
}

{
 "cells": [
  {
   "cell_type": "markdown",
   "metadata": {},
   "source": [
    "## Introduction to Bag of Words (BoW)\n",
    "\n",
    "Welcome to this notebook where we explore the Bag of Words (BoW) model, a foundational technique in natural language processing (NLP). BoW is particularly useful for converting text into numerical representations that can be fed into various machine learning models. This notebook will guide you through applying the BoW model to analyze customer reviews of the Netflix app.\n",
    "\n",
    "### What is Bag of Words?\n",
    "\n",
    "The Bag of Words model is a way of extracting features from text for use in modeling, such as machine learning algorithms. It involves two primary steps:\n",
    "1. **Tokenization**: Splitting text into individual words or tokens.\n",
    "2. **Vectorization**: Counting how many times each word (token) in the dataset occurs in each document and using this count as a feature.\n",
    "\n",
    "### Why is BoW Important?\n",
    "\n",
    "BoW is crucial for many NLP tasks because it simplifies the complex task of understanding human language by reducing text to a bag of individual words. This model can be used for document classification, sentiment analysis, and other applications where text needs to be converted into a form that algorithms can process. Let's explore how we can implement and utilize this model effectively."
   ]
  },
  {
   "cell_type": "code",
   "execution_count": 21,
   "metadata": {},
   "outputs": [],
   "source": [
    "# Importing necessary libraries\n",
    "import pandas as pd\n",
    "from sklearn.feature_extraction.text import CountVectorizer"
   ]
  },
  {
   "cell_type": "markdown",
   "metadata": {},
   "source": [
    "### Sample Dataset Preview\n",
    "\n",
    "We believe that the best way to grasp this algorithm is through an easy example. So for now, we'll use a simple dataset. Here's a quick look at the one we'll be using in this notebook:"
   ]
  },
  {
   "cell_type": "code",
   "execution_count": 22,
   "metadata": {},
   "outputs": [],
   "source": [
    "# Sample DataFrame with Netflix app reviews\n",
    "df = pd.DataFrame({\n",
    "    'Content_cleaned': [\n",
    "        'the app is great new features but crashes often',\n",
    "        'love the app love the content but it crashes',\n",
    "        'the app crashes too much it is frustrating',\n",
    "        'the content is great it is easy to use it is great'\n",
    "    ]\n",
    "})"
   ]
  },
  {
   "cell_type": "markdown",
   "metadata": {},
   "source": [
    "### Understanding the DataFrame\n",
    "\n",
    "Our DataFrame `df` contains one column, `content_cleaned`, just like we did in the `text_preprocessing.ipynb` file."
   ]
  },
  {
   "cell_type": "code",
   "execution_count": 23,
   "metadata": {},
   "outputs": [
    {
     "name": "stdout",
     "output_type": "stream",
     "text": [
      "                                      Content_cleaned\n",
      "0     the app is great new features but crashes often\n",
      "1        love the app love the content but it crashes\n",
      "2          the app crashes too much it is frustrating\n",
      "3  the content is great it is easy to use it is great\n"
     ]
    }
   ],
   "source": [
    "print(df.to_string())"
   ]
  },
  {
   "cell_type": "markdown",
   "metadata": {},
   "source": [
    "Let's start by applying the Bag-of-Words (BoW) technique on the simple dataset to see how it works."
   ]
  },
  {
   "cell_type": "code",
   "execution_count": 24,
   "metadata": {},
   "outputs": [
    {
     "data": {
      "text/html": [
       "<div>\n",
       "<style scoped>\n",
       "    .dataframe tbody tr th:only-of-type {\n",
       "        vertical-align: middle;\n",
       "    }\n",
       "\n",
       "    .dataframe tbody tr th {\n",
       "        vertical-align: top;\n",
       "    }\n",
       "\n",
       "    .dataframe thead th {\n",
       "        text-align: right;\n",
       "    }\n",
       "</style>\n",
       "<table border=\"1\" class=\"dataframe\">\n",
       "  <thead>\n",
       "    <tr style=\"text-align: right;\">\n",
       "      <th></th>\n",
       "      <th>Original_Review</th>\n",
       "      <th>app</th>\n",
       "      <th>but</th>\n",
       "      <th>content</th>\n",
       "      <th>crashes</th>\n",
       "      <th>easy</th>\n",
       "      <th>features</th>\n",
       "      <th>frustrating</th>\n",
       "      <th>great</th>\n",
       "      <th>is</th>\n",
       "      <th>it</th>\n",
       "      <th>love</th>\n",
       "      <th>much</th>\n",
       "      <th>new</th>\n",
       "      <th>often</th>\n",
       "      <th>the</th>\n",
       "      <th>to</th>\n",
       "      <th>too</th>\n",
       "      <th>use</th>\n",
       "    </tr>\n",
       "  </thead>\n",
       "  <tbody>\n",
       "    <tr>\n",
       "      <th>0</th>\n",
       "      <td>the app is great new features but crashes often</td>\n",
       "      <td>1</td>\n",
       "      <td>1</td>\n",
       "      <td>0</td>\n",
       "      <td>1</td>\n",
       "      <td>0</td>\n",
       "      <td>1</td>\n",
       "      <td>0</td>\n",
       "      <td>1</td>\n",
       "      <td>1</td>\n",
       "      <td>0</td>\n",
       "      <td>0</td>\n",
       "      <td>0</td>\n",
       "      <td>1</td>\n",
       "      <td>1</td>\n",
       "      <td>1</td>\n",
       "      <td>0</td>\n",
       "      <td>0</td>\n",
       "      <td>0</td>\n",
       "    </tr>\n",
       "    <tr>\n",
       "      <th>1</th>\n",
       "      <td>love the app love the content but it crashes</td>\n",
       "      <td>1</td>\n",
       "      <td>1</td>\n",
       "      <td>1</td>\n",
       "      <td>1</td>\n",
       "      <td>0</td>\n",
       "      <td>0</td>\n",
       "      <td>0</td>\n",
       "      <td>0</td>\n",
       "      <td>0</td>\n",
       "      <td>1</td>\n",
       "      <td>2</td>\n",
       "      <td>0</td>\n",
       "      <td>0</td>\n",
       "      <td>0</td>\n",
       "      <td>2</td>\n",
       "      <td>0</td>\n",
       "      <td>0</td>\n",
       "      <td>0</td>\n",
       "    </tr>\n",
       "    <tr>\n",
       "      <th>2</th>\n",
       "      <td>the app crashes too much it is frustrating</td>\n",
       "      <td>1</td>\n",
       "      <td>0</td>\n",
       "      <td>0</td>\n",
       "      <td>1</td>\n",
       "      <td>0</td>\n",
       "      <td>0</td>\n",
       "      <td>1</td>\n",
       "      <td>0</td>\n",
       "      <td>1</td>\n",
       "      <td>1</td>\n",
       "      <td>0</td>\n",
       "      <td>1</td>\n",
       "      <td>0</td>\n",
       "      <td>0</td>\n",
       "      <td>1</td>\n",
       "      <td>0</td>\n",
       "      <td>1</td>\n",
       "      <td>0</td>\n",
       "    </tr>\n",
       "    <tr>\n",
       "      <th>3</th>\n",
       "      <td>the content is great it is easy to use it is g...</td>\n",
       "      <td>0</td>\n",
       "      <td>0</td>\n",
       "      <td>1</td>\n",
       "      <td>0</td>\n",
       "      <td>1</td>\n",
       "      <td>0</td>\n",
       "      <td>0</td>\n",
       "      <td>2</td>\n",
       "      <td>3</td>\n",
       "      <td>2</td>\n",
       "      <td>0</td>\n",
       "      <td>0</td>\n",
       "      <td>0</td>\n",
       "      <td>0</td>\n",
       "      <td>1</td>\n",
       "      <td>1</td>\n",
       "      <td>0</td>\n",
       "      <td>1</td>\n",
       "    </tr>\n",
       "  </tbody>\n",
       "</table>\n",
       "</div>"
      ],
      "text/plain": [
       "                                     Original_Review  app  but  content  \\\n",
       "0    the app is great new features but crashes often    1    1        0   \n",
       "1       love the app love the content but it crashes    1    1        1   \n",
       "2         the app crashes too much it is frustrating    1    0        0   \n",
       "3  the content is great it is easy to use it is g...    0    0        1   \n",
       "\n",
       "   crashes  easy  features  frustrating  great  is  it  love  much  new  \\\n",
       "0        1     0         1            0      1   1   0     0     0    1   \n",
       "1        1     0         0            0      0   0   1     2     0    0   \n",
       "2        1     0         0            1      0   1   1     0     1    0   \n",
       "3        0     1         0            0      2   3   2     0     0    0   \n",
       "\n",
       "   often  the  to  too  use  \n",
       "0      1    1   0    0    0  \n",
       "1      0    2   0    0    0  \n",
       "2      0    1   0    1    0  \n",
       "3      0    1   1    0    1  "
      ]
     },
     "execution_count": 24,
     "metadata": {},
     "output_type": "execute_result"
    }
   ],
   "source": [
    "# Initialize CountVectorizer, our BoW tool\n",
    "vectorizer = CountVectorizer()\n",
    "\n",
    "# Fit and transform the reviews into a matrix of token counts\n",
    "document_term_matrix = vectorizer.fit_transform(df['Content_cleaned'])\n",
    "\n",
    "# Extract the feature names (vocabulary) from the vectorizer\n",
    "feature_names = vectorizer.get_feature_names_out()\n",
    "\n",
    "# Convert the matrix into a readable DataFrame with tokens as columns\n",
    "bow_df = pd.DataFrame(document_term_matrix.toarray(), columns=feature_names, index=df.index)\n",
    "\n",
    "# Insert the original reviews as the first column in the DataFrame\n",
    "bow_df.insert(0, 'Original_Review', df['Content_cleaned'])\n",
    "\n",
    "# Display the resulting Bag of Words matrix\n",
    "bow_df"
   ]
  },
  {
   "cell_type": "markdown",
   "metadata": {},
   "source": [
    "### Explanation\n",
    "\n",
    "The matrix we just created converts our text data into a format suitable for machine learning algorithms. Here's what it represents:\n",
    "\n",
    "- Rows: Each row corresponds to a review from our dataset.\n",
    "- Columns: Each column represents a word from our entire vocabulary (i.e., all the unique words found across the reviews), listed in alphabetical order.\n",
    "- Values: The numbers in the matrix represent how many times each word appears in each review. Most values will be zero since not every word appears in every review."
   ]
  },
  {
   "cell_type": "markdown",
   "metadata": {},
   "source": [
    "### Applying BoW on our Netflix dataset\n",
    "\n",
    "Now, let's apply the Bag-of-Words model to our full dataset and explore its output."
   ]
  },
  {
   "cell_type": "code",
   "execution_count": 25,
   "metadata": {},
   "outputs": [
    {
     "name": "stdout",
     "output_type": "stream",
     "text": [
      "Vocabulary size: 39783\n",
      "Shape of the matrix: (113292, 39783)\n"
     ]
    }
   ],
   "source": [
    "# Read the dataset\n",
    "df = pd.read_csv('../DATASETS/preprocessed_text.csv')\n",
    "\n",
    "# Filling empty text that occured after the text preprocessing\n",
    "df.fillna('', inplace=True)\n",
    "\n",
    "# Initialize the CountVectorizer\n",
    "vectorizer = CountVectorizer()\n",
    "\n",
    "# Fit the model and transform the data\n",
    "bow = vectorizer.fit_transform(df['content_cleaned'])\n",
    "\n",
    "# Print the size of the vocabulary and the shape of the matrix\n",
    "print(f\"Vocabulary size: {len(vectorizer.vocabulary_)}\")\n",
    "print(f\"Shape of the matrix: {bow.shape}\")\n"
   ]
  },
  {
   "cell_type": "markdown",
   "metadata": {},
   "source": [
    "Here’s what the output means:\n",
    "\n",
    "- Vocabulary size (39,783): This represents the number of unique words found across all the reviews.\n",
    "- Matrix shape (113,292, 39,783): This matrix has 113,292 rows (one for each review) and 39,783 columns (one for each unique word).\n",
    "\n",
    "This means that each review will be represented as a vector of size 39,783, with mostly zeroes for the words that don’t appear in that particular review."
   ]
  },
  {
   "cell_type": "markdown",
   "metadata": {},
   "source": [
    "### Sparse Matrix Representation\n",
    "\n",
    "The BoW transformation results in a sparse matrix. Sparse matrices are extremely useful when dealing with high-dimensional data like text, where the majority of values are zero. Storing all those zeros explicitly would be highly inefficient, so instead, we use a sparse matrix format.\n",
    "\n",
    "**Characteristics of a Sparse Matrix**:\n",
    "\n",
    "- **Memory Efficiency**: Only the non-zero values are stored, significantly reducing the amount of memory required compared to a dense matrix.\n",
    "- **Performance**: Many operations on sparse matrices are faster due to the reduced number of elements that need to be processed.\n",
    "\n",
    "**Example of Sparse Matrix:**\n",
    "\n",
    "Consider a simplified example where our document-term matrix might look like this:\n",
    "\n",
    "| Document | Word A | Word B | Word C |\n",
    "|----------|--------|--------|--------|\n",
    "| Doc1     | 2      | 0      | 1      |\n",
    "| Doc2     | 1      | 3      | 0      |\n",
    "| Doc3     | 0      | 1      | 2      |\n",
    "\n",
    "The sparse matrix representation of the document-term matrix is shown below:\n",
    "\n",
    "| Row Index | Column Index | Value |\n",
    "|-----------|--------------|-------|\n",
    "| 0         | 0            | 2     |\n",
    "| 0         | 2            | 1     |\n",
    "| 1         | 0            | 1     |\n",
    "| 1         | 1            | 3     |\n",
    "| 2         | 1            | 1     |\n",
    "| 2         | 2            | 2     |"
   ]
  },
  {
   "cell_type": "markdown",
   "metadata": {},
   "source": [
    "\n",
    "Here, `(row_index, column_index) value` represents the non-zero values in the matrix. The sparse matrix format significantly reduces memory usage by storing only these non-zero entries."
   ]
  },
  {
   "cell_type": "markdown",
   "metadata": {},
   "source": [
    "**Visualizing a Single Row of the Sparse Matrix**:\n",
    "\n",
    "Let’s take a look at how the sparse matrix is represented for a single review:"
   ]
  },
  {
   "cell_type": "code",
   "execution_count": 29,
   "metadata": {},
   "outputs": [
    {
     "name": "stdout",
     "output_type": "stream",
     "text": [
      "Original Text:\n",
      "\n",
      "i love to watch the movie s you have on here and the tv shows i love them growing_heart\n",
      "\n",
      "\n",
      "Sparse Matrix Representation as a Table:\n",
      "\n",
      "    Row Index    Column Index (Word)  Count\n",
      "0          44            38860 (you)      1\n",
      "1          44             2769 (and)      1\n",
      "2          44            34247 (the)      2\n",
      "3          44             34829 (to)      1\n",
      "4          44           16108 (have)      1\n",
      "5          44          31090 (shows)      1\n",
      "6          44             24131 (on)      1\n",
      "7          44          22367 (movie)      1\n",
      "8          44           20654 (love)      2\n",
      "9          44           34287 (them)      1\n",
      "10         44          37517 (watch)      1\n",
      "11         44           16371 (here)      1\n",
      "12         44             35537 (tv)      1\n",
      "13         44  15596 (growing_heart)      1\n"
     ]
    }
   ],
   "source": [
    "row_index = 44  # Specific row (review) we are inspecting\n",
    "\n",
    "# Display the original review text\n",
    "print(\"Original Text:\\n\")\n",
    "print(df['content_cleaned'][row_index])\n",
    "\n",
    "# Get the non-zero column indices and corresponding counts for the specific row\n",
    "non_zero_elements = bow[row_index].nonzero()  # Get non-zero column indices for the row\n",
    "\n",
    "# Prepare data for the DataFrame\n",
    "data = {\n",
    "    'Row Index': [],\n",
    "    'Column Index (Word)': [],\n",
    "    'Count': []\n",
    "}\n",
    "\n",
    "# Get the feature names (vocabulary) from the vectorizer\n",
    "words = vectorizer.get_feature_names_out()\n",
    "\n",
    "# Populate the data\n",
    "for col_index in non_zero_elements[1]:\n",
    "    count = bow[row_index, col_index]  # Get the count of the word in the specific document\n",
    "    word = words[col_index]  # Get the actual word corresponding to the column index\n",
    "    data['Row Index'].append(row_index)\n",
    "    data['Column Index (Word)'].append(f\"{col_index} ({word})\")  # Merge index and word\n",
    "    data['Count'].append(count)\n",
    "\n",
    "# Create a DataFrame to display the row index, combined column index and word, and count\n",
    "sparse_matrix_df = pd.DataFrame(data)\n",
    "\n",
    "# Display the DataFrame\n",
    "print(\"\\n\\nSparse Matrix Representation as a Table:\\n\")\n",
    "print(sparse_matrix_df)"
   ]
  },
  {
   "cell_type": "markdown",
   "metadata": {},
   "source": [
    "**Note**: All the single characters tokens are ignored by the default tokenizer (CountVectorizer). If you want single character tokens to be in the vocabulary, then you have to use a custom tokenizer."
   ]
  },
  {
   "cell_type": "markdown",
   "metadata": {},
   "source": [
    "## Pros and Cons of the Bag of Words Model\n",
    "\n",
    "### Pros:\n",
    "- **Simplicity**: BoW is easy and fast to implement and interpret.\n",
    "- **Flexibility**: Easily adaptable for various NLP tasks.\n",
    "- **Scalability**: Works well with large datasets and can be easily scaled.\n",
    "\n",
    "### Cons:\n",
    "- **Context Ignorance**: Fails to capture the context and semantics of words as order is not preserved.\n",
    "- **High Dimensionality**: Can lead to very high-dimensional feature spaces with sparse matrices, especially with large vocabularies.\n",
    "- **Common Words Issue**: Frequent words may dominate unless techniques like TF-IDF are used to normalize the counts.\n",
    "- **Out-Of-Vocabulary Issue**: It does not work with new sequences that contain words not included in the vocabulary used for fitting."
   ]
  }
 ],
 "metadata": {
  "kernelspec": {
   "display_name": "Python 3 (ipykernel)",
   "language": "python",
   "name": "python3"
  },
  "language_info": {
   "codemirror_mode": {
    "name": "ipython",
    "version": 3
   },
   "file_extension": ".py",
   "mimetype": "text/x-python",
   "name": "python",
   "nbconvert_exporter": "python",
   "pygments_lexer": "ipython3",
   "version": "3.9.19"
  }
 },
 "nbformat": 4,
 "nbformat_minor": 2
}

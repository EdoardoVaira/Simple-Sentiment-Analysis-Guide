{
 "cells": [
  {
   "cell_type": "markdown",
   "metadata": {},
   "source": [
    "## Text Preprocessing"
   ]
  },
  {
   "cell_type": "markdown",
   "metadata": {},
   "source": [
    "### Introduction\n",
    "\n",
    "This notebook is for cleaning up the actual content of the review. This is because the reviews might contain many repeated characters, random emojis, and even punctuations..."
   ]
  },
  {
   "cell_type": "markdown",
   "metadata": {},
   "source": [
    "### Setup and Initial Data Viewing\n",
    "\n",
    "First, we will load the dataset we cleaned up and view it."
   ]
  },
  {
   "cell_type": "code",
   "execution_count": 2,
   "metadata": {},
   "outputs": [
    {
     "data": {
      "text/html": [
       "<div>\n",
       "<style scoped>\n",
       "    .dataframe tbody tr th:only-of-type {\n",
       "        vertical-align: middle;\n",
       "    }\n",
       "\n",
       "    .dataframe tbody tr th {\n",
       "        vertical-align: top;\n",
       "    }\n",
       "\n",
       "    .dataframe thead th {\n",
       "        text-align: right;\n",
       "    }\n",
       "</style>\n",
       "<table border=\"1\" class=\"dataframe\">\n",
       "  <thead>\n",
       "    <tr style=\"text-align: right;\">\n",
       "      <th></th>\n",
       "      <th>content</th>\n",
       "      <th>sentiment</th>\n",
       "    </tr>\n",
       "  </thead>\n",
       "  <tbody>\n",
       "    <tr>\n",
       "      <th>0</th>\n",
       "      <td>Plsssss stoppppp giving screen limit like when...</td>\n",
       "      <td>negative</td>\n",
       "    </tr>\n",
       "    <tr>\n",
       "      <th>1</th>\n",
       "      <td>Good</td>\n",
       "      <td>positive</td>\n",
       "    </tr>\n",
       "    <tr>\n",
       "      <th>2</th>\n",
       "      <td>👍👍</td>\n",
       "      <td>positive</td>\n",
       "    </tr>\n",
       "    <tr>\n",
       "      <th>3</th>\n",
       "      <td>Good</td>\n",
       "      <td>neutral</td>\n",
       "    </tr>\n",
       "    <tr>\n",
       "      <th>4</th>\n",
       "      <td>App is useful to certain phone brand ,,,,it is...</td>\n",
       "      <td>negative</td>\n",
       "    </tr>\n",
       "  </tbody>\n",
       "</table>\n",
       "</div>"
      ],
      "text/plain": [
       "                                             content sentiment\n",
       "0  Plsssss stoppppp giving screen limit like when...  negative\n",
       "1                                               Good  positive\n",
       "2                                                 👍👍  positive\n",
       "3                                               Good   neutral\n",
       "4  App is useful to certain phone brand ,,,,it is...  negative"
      ]
     },
     "execution_count": 2,
     "metadata": {},
     "output_type": "execute_result"
    }
   ],
   "source": [
    "# Importing the pandas library to work with dataframes\n",
    "import pandas as pd\n",
    "\n",
    "# Loading the cleaned data from a CSV file\n",
    "df = pd.read_csv('../DATASETS/cleaned_data.csv')\n",
    "\n",
    "# Displaying the first few rows to get a sense of the data\n",
    "df.head()"
   ]
  },
  {
   "cell_type": "markdown",
   "metadata": {},
   "source": [
    "### Importing Necessary Libraries for Text Processing\n",
    "\n",
    "We will use the `emoji` library to interpret emojis, the `re` library for regex operations, which are critical for text cleaning, and the `contractions` library to expand any possible contractions:"
   ]
  },
  {
   "cell_type": "code",
   "execution_count": 4,
   "metadata": {},
   "outputs": [],
   "source": [
    "# Importing libraries for handling text data\n",
    "import emoji  # For converting emojis to text\n",
    "import re  # For regex operations\n",
    "import contractions  # For expanding contractions"
   ]
  },
  {
   "cell_type": "markdown",
   "metadata": {},
   "source": [
    "### Defining the Text Cleaning Function\n",
    "\n",
    "We define a comprehensive function that cleans the text by performing several operations:"
   ]
  },
  {
   "cell_type": "code",
   "execution_count": 5,
   "metadata": {},
   "outputs": [],
   "source": [
    "def text_cleaner(text):\n",
    "    # Convert text to lowercase to standardize it\n",
    "    text = text.lower()\n",
    "\n",
    "    # Replace emojis with a text description to capture their sentiment\n",
    "    text = emoji.demojize(text, delimiters=(\" \", \" \"))\n",
    "\n",
    "    # Expand contractions to aid in the uniformity of the text\n",
    "    text = contractions.fix(text)\n",
    "\n",
    "    # Remove URLs as they are not useful for sentiment analysis\n",
    "    text = re.sub(r'http\\S+', '', text)\n",
    "\n",
    "    # Remove HTML tags to clean up the text\n",
    "    text = re.sub(r'<.*?>', '', text)\n",
    "\n",
    "    # Replace non-word characters with a space to separate words better\n",
    "    text = re.sub(r'[^\\w\\s]', ' ', text)\n",
    "\n",
    "    # Reduce characters repeated more than twice to two to reduce exaggeration\n",
    "    text = re.sub(r'(.)\\1{2,}', r'\\1\\1', text)\n",
    "\n",
    "    # Normalize white spaces\n",
    "    text = re.sub(r'\\s+', ' ', text).strip()  \n",
    "\n",
    "    return text"
   ]
  },
  {
   "cell_type": "markdown",
   "metadata": {},
   "source": [
    "### Testing the Text Cleaning Function\n",
    "\n",
    "It's helpful to test the function with a sample text to ensure it performs as expected:"
   ]
  },
  {
   "cell_type": "code",
   "execution_count": 6,
   "metadata": {},
   "outputs": [
    {
     "data": {
      "text/plain": [
       "'this is not good'"
      ]
     },
     "execution_count": 6,
     "metadata": {},
     "output_type": "execute_result"
    }
   ],
   "source": [
    "# Testing the text cleaner with a sample text\n",
    "text_cleaner(\"This iSn't Gooood!!!\")  # Output should be a cleaned version of the input"
   ]
  },
  {
   "cell_type": "markdown",
   "metadata": {},
   "source": [
    "### Applying the Text Cleaning Function\n",
    "\n",
    "Next, we apply the text cleaning function to the entire dataset:"
   ]
  },
  {
   "cell_type": "code",
   "execution_count": 7,
   "metadata": {},
   "outputs": [],
   "source": [
    "# Applying the cleaning function to each review in the dataset\n",
    "df['content_cleaned'] = df['content'].apply(text_cleaner)"
   ]
  },
  {
   "cell_type": "markdown",
   "metadata": {},
   "source": [
    "After that, we have a new column in our dataset called \"content_cleaned\". We view our preprocessed dataset here:"
   ]
  },
  {
   "cell_type": "code",
   "execution_count": 10,
   "metadata": {},
   "outputs": [
    {
     "data": {
      "text/html": [
       "<div>\n",
       "<style scoped>\n",
       "    .dataframe tbody tr th:only-of-type {\n",
       "        vertical-align: middle;\n",
       "    }\n",
       "\n",
       "    .dataframe tbody tr th {\n",
       "        vertical-align: top;\n",
       "    }\n",
       "\n",
       "    .dataframe thead th {\n",
       "        text-align: right;\n",
       "    }\n",
       "</style>\n",
       "<table border=\"1\" class=\"dataframe\">\n",
       "  <thead>\n",
       "    <tr style=\"text-align: right;\">\n",
       "      <th></th>\n",
       "      <th>content</th>\n",
       "      <th>sentiment</th>\n",
       "      <th>content_cleaned</th>\n",
       "    </tr>\n",
       "  </thead>\n",
       "  <tbody>\n",
       "    <tr>\n",
       "      <th>0</th>\n",
       "      <td>Plsssss stoppppp giving screen limit like when...</td>\n",
       "      <td>Negative</td>\n",
       "      <td>plss stopp giving screen limit like when you a...</td>\n",
       "    </tr>\n",
       "    <tr>\n",
       "      <th>1</th>\n",
       "      <td>Good</td>\n",
       "      <td>Positive</td>\n",
       "      <td>good</td>\n",
       "    </tr>\n",
       "    <tr>\n",
       "      <th>2</th>\n",
       "      <td>👍👍</td>\n",
       "      <td>Positive</td>\n",
       "      <td>thumbs_up thumbs_up</td>\n",
       "    </tr>\n",
       "    <tr>\n",
       "      <th>3</th>\n",
       "      <td>Good</td>\n",
       "      <td>Neutral</td>\n",
       "      <td>good</td>\n",
       "    </tr>\n",
       "    <tr>\n",
       "      <th>4</th>\n",
       "      <td>App is useful to certain phone brand ,,,,it is...</td>\n",
       "      <td>Negative</td>\n",
       "      <td>app is useful to certain phone brand it is not...</td>\n",
       "    </tr>\n",
       "  </tbody>\n",
       "</table>\n",
       "</div>"
      ],
      "text/plain": [
       "                                             content sentiment  \\\n",
       "0  Plsssss stoppppp giving screen limit like when...  Negative   \n",
       "1                                               Good  Positive   \n",
       "2                                                 👍👍  Positive   \n",
       "3                                               Good   Neutral   \n",
       "4  App is useful to certain phone brand ,,,,it is...  Negative   \n",
       "\n",
       "                                     content_cleaned  \n",
       "0  plss stopp giving screen limit like when you a...  \n",
       "1                                               good  \n",
       "2                                thumbs_up thumbs_up  \n",
       "3                                               good  \n",
       "4  app is useful to certain phone brand it is not...  "
      ]
     },
     "execution_count": 10,
     "metadata": {},
     "output_type": "execute_result"
    }
   ],
   "source": [
    "df.head()"
   ]
  },
  {
   "cell_type": "markdown",
   "metadata": {},
   "source": [
    "### Displaying Some Preprocessed Reviews\n",
    "\n",
    "To verify the cleaning process, let's look at some before-and-after examples of the cleaned text:"
   ]
  },
  {
   "cell_type": "code",
   "execution_count": 8,
   "metadata": {},
   "outputs": [
    {
     "name": "stdout",
     "output_type": "stream",
     "text": [
      "Original: Great App💙\n",
      "Cleaned: great app blue_heart\n",
      "\n",
      "Original: Great audio and video\n",
      "Cleaned: great audio and video\n",
      "\n",
      "Original: Every time I request a movie that I would like to watch I get the same \"Sorry, we don't have that one.\" Then I am referred to movies like \"Three Stooges Conquer Space\" or something like that.\n",
      "Cleaned: every time i request a movie that i would like to watch i get the same sorry we do not have that one then i am referred to movies like three stooges conquer space or something like that\n",
      "\n",
      "Original: Best ott app\n",
      "Cleaned: best ott app\n",
      "\n",
      "Original: The in-app help call feature on Netflix is an absolute disaster. This was hands down the worst customer service experience I have ever had. First off, once you initiate the help call within the app, there's no way to go back. You’re trapped in an endless loop with no escape, forced to deal with whatever horrors await. The app essentially hijacks your device, and you can't access any other features while on the call. The representative I finally got through to was completely unhelpful. It was c\n",
      "Cleaned: the in app help call feature on netflix is an absolute disaster this was hands down the worst customer service experience i have ever had first off once you initiate the help call within the app there is no way to go back you are trapped in an endless loop with no escape forced to deal with whatever horrors await the app essentially hijacks your device and you cannot access any other features while on the call the representative i finally got through to was completely unhelpful it was c\n",
      "\n",
      "Original: Good\n",
      "Cleaned: good\n",
      "\n",
      "Original: Good\n",
      "Cleaned: good\n",
      "\n",
      "Original: I live Netflix just like the rest of the world. However my personal opinion is that the should put more syfi movie action like the movie immortals and thinks like the boyka movies. I love action movies and not too many action or syfi movies catch my eye on Netflix. I'd give 5 stars if more bought my eye\n",
      "Cleaned: i live netflix just like the rest of the world however my personal opinion is that the should put more syfi movie action like the movie immortals and thinks like the boyka movies i love action movies and not too many action or syfi movies catch my eye on netflix i would give 5 stars if more bought my eye\n",
      "\n",
      "Original: Excellent 👌\n",
      "Cleaned: excellent OK_hand\n",
      "\n",
      "Original: Go woke go broke Netflix\n",
      "Cleaned: go woke go broke netflix\n",
      "\n"
     ]
    }
   ],
   "source": [
    "# Printing some original and cleaned reviews to compare\n",
    "for i in range(1000, 1010):\n",
    "    print('Original:', df['content'][i])\n",
    "    print('Cleaned:', df['content_cleaned'][i])\n",
    "    print()"
   ]
  },
  {
   "cell_type": "markdown",
   "metadata": {},
   "source": [
    "### Saving the Preprocessed Data\n",
    "\n",
    "Finally, we save the preprocessed text data for further analysis or modeling:"
   ]
  },
  {
   "cell_type": "code",
   "execution_count": 11,
   "metadata": {},
   "outputs": [],
   "source": [
    "# Saving the preprocessed data to a new CSV file\n",
    "df.to_csv('../DATASETS/preprocessed_text.csv', index=False)"
   ]
  }
 ],
 "metadata": {
  "kernelspec": {
   "display_name": "Python 3 (ipykernel)",
   "language": "python",
   "name": "python3"
  },
  "language_info": {
   "codemirror_mode": {
    "name": "ipython",
    "version": 3
   },
   "file_extension": ".py",
   "mimetype": "text/x-python",
   "name": "python",
   "nbconvert_exporter": "python",
   "pygments_lexer": "ipython3",
   "version": "3.11.4"
  }
 },
 "nbformat": 4,
 "nbformat_minor": 2
}

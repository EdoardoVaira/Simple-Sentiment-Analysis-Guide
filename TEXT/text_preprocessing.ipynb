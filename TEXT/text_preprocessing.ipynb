{
 "cells": [
  {
   "cell_type": "markdown",
   "metadata": {},
   "source": [
    "## Text Preprocessing"
   ]
  },
  {
   "cell_type": "markdown",
   "metadata": {},
   "source": [
    "### Introduction\n",
    "\n",
    "In this notebook, we'll be taking a look at how to clean up the content of the reviews. User reviews often have repeated characters, random emojis, and unnecessary punctuation, which can make the data harder to work with. Here, you'll find a range of techniques and ideas for cleaning and preparing text data for analysis, which you can use in your own projects."
   ]
  },
  {
   "cell_type": "markdown",
   "metadata": {},
   "source": [
    "### Setup and Initial Data Viewing\n",
    "\n",
    "As always, we'll start by loading the cleaned dataset and taking a quick look at it."
   ]
  },
  {
   "cell_type": "code",
   "execution_count": 37,
   "metadata": {},
   "outputs": [
    {
     "data": {
      "text/html": [
       "<div>\n",
       "<style scoped>\n",
       "    .dataframe tbody tr th:only-of-type {\n",
       "        vertical-align: middle;\n",
       "    }\n",
       "\n",
       "    .dataframe tbody tr th {\n",
       "        vertical-align: top;\n",
       "    }\n",
       "\n",
       "    .dataframe thead th {\n",
       "        text-align: right;\n",
       "    }\n",
       "</style>\n",
       "<table border=\"1\" class=\"dataframe\">\n",
       "  <thead>\n",
       "    <tr style=\"text-align: right;\">\n",
       "      <th></th>\n",
       "      <th>content</th>\n",
       "      <th>sentiment</th>\n",
       "    </tr>\n",
       "  </thead>\n",
       "  <tbody>\n",
       "    <tr>\n",
       "      <th>0</th>\n",
       "      <td>Plsssss stoppppp giving screen limit like when...</td>\n",
       "      <td>negative</td>\n",
       "    </tr>\n",
       "    <tr>\n",
       "      <th>1</th>\n",
       "      <td>Good</td>\n",
       "      <td>positive</td>\n",
       "    </tr>\n",
       "    <tr>\n",
       "      <th>2</th>\n",
       "      <td>👍👍</td>\n",
       "      <td>positive</td>\n",
       "    </tr>\n",
       "    <tr>\n",
       "      <th>3</th>\n",
       "      <td>Good</td>\n",
       "      <td>neutral</td>\n",
       "    </tr>\n",
       "    <tr>\n",
       "      <th>4</th>\n",
       "      <td>App is useful to certain phone brand ,,,,it is...</td>\n",
       "      <td>negative</td>\n",
       "    </tr>\n",
       "  </tbody>\n",
       "</table>\n",
       "</div>"
      ],
      "text/plain": [
       "                                             content sentiment\n",
       "0  Plsssss stoppppp giving screen limit like when...  negative\n",
       "1                                               Good  positive\n",
       "2                                                 👍👍  positive\n",
       "3                                               Good   neutral\n",
       "4  App is useful to certain phone brand ,,,,it is...  negative"
      ]
     },
     "execution_count": 37,
     "metadata": {},
     "output_type": "execute_result"
    }
   ],
   "source": [
    "# Importing the pandas library to work with dataframes\n",
    "import pandas as pd\n",
    "\n",
    "# Loading the cleaned data from a CSV file\n",
    "df = pd.read_csv('../DATASETS/cleaned_data.csv')\n",
    "\n",
    "# Displaying the first few rows to get a sense of the data\n",
    "df.head()"
   ]
  },
  {
   "cell_type": "markdown",
   "metadata": {},
   "source": [
    "As you can see from the first few rows, the dataset contains repeated emojis, characters, and random punctuation marks, all of which need to be cleaned up before we can do any further analysis."
   ]
  },
  {
   "cell_type": "markdown",
   "metadata": {},
   "source": [
    "### Importing Necessary Libraries for Text Processing\n",
    "\n",
    "To effectively clean the text, we'll use several libraries:\n",
    "\n",
    "- The emoji library helps us interpret and convert emojis into text descriptions.\n",
    "- The re library provides tools for regex operations, crucial for identifying and replacing patterns in text.\n",
    "- The contractions library will be used to expand contractions (like \"isn't\" to \"is not\"), which helps standardize the text."
   ]
  },
  {
   "cell_type": "code",
   "execution_count": 38,
   "metadata": {},
   "outputs": [],
   "source": [
    "# Importing libraries for handling text data\n",
    "import emoji  # For converting emojis to text\n",
    "import re  # For regex operations\n",
    "import contractions  # For expanding contractions"
   ]
  },
  {
   "cell_type": "markdown",
   "metadata": {},
   "source": [
    "### Defining the Text Cleaning Function\n",
    "\n",
    "We'll create a function that systematically cleans the text by following these steps:\n",
    "\n",
    "1. **Convert the text to lowercase for consistency.**  \n",
    "   *Example:*  \n",
    "   `\"This is GREAT!\"` → `\"this is great!\"`\n",
    "\n",
    "2. **Replace emojis with descriptive text.**  \n",
    "   *Example:*  \n",
    "   `\"I'm so happy 😊\"` → `\"i'm so happy smiling_face_with_smiling_eyes\"`\n",
    "\n",
    "3. **Expand contractions to standardize the language.**  \n",
    "   *Example:*  \n",
    "   `\"I'll be there\"` → `\"i will be there\"`\n",
    "\n",
    "4. **Replace non-word characters with spaces to improve word separation.**  \n",
    "   *Example:*  \n",
    "   `\"Hello!!! How's it going?\"` → `\"hello how s it going\"`\n",
    "\n",
    "5. **Reduce exaggerated characters to a standard form.**  \n",
    "   *Example:*  \n",
    "   `\"Soooo goooood!!!\"` → `\"soo good\"`\n",
    "\n",
    "6. **Remove consecutive repeated words to avoid redundancy.**  \n",
    "   *Example:*  \n",
    "   `\"This is is amazing\"` → `\"this is amazing\"`\n",
    "\n",
    "7. **Normalize white spaces for clean and properly spaced text.**  \n",
    "   *Example:*  \n",
    "   `\"Too    many    spaces!\"` → `\"too many spaces!\"`"
   ]
  },
  {
   "cell_type": "code",
   "execution_count": 39,
   "metadata": {},
   "outputs": [],
   "source": [
    "def text_cleaner(text):\n",
    "    \n",
    "    # Convert text to lowercase\n",
    "    text = text.lower()\n",
    "\n",
    "    # Replace emojis with a text description to capture their sentiment\n",
    "    text = emoji.demojize(text, delimiters=(\" \", \" \"))\n",
    "\n",
    "    # Expand contractions\n",
    "    text = contractions.fix(text)\n",
    "\n",
    "    # Replace non-word characters with a space to separate words better\n",
    "    text = re.sub(r'[^\\w\\s]', ' ', text)\n",
    "\n",
    "    # Reduce characters repeated more than twice to two to reduce exaggeration\n",
    "    text = re.sub(r'(.)\\1{2,}', r'\\1\\1', text)\n",
    "\n",
    "    # Remove consecutive repeated words\n",
    "    text = re.sub(r'\\b(\\w+)(?:\\s+\\1)+\\b', r'\\1', text)\n",
    "\n",
    "    # Normalize white spaces\n",
    "    text = re.sub(r'\\s+', ' ', text).strip()  \n",
    "\n",
    "    return text"
   ]
  },
  {
   "cell_type": "markdown",
   "metadata": {},
   "source": [
    "### Testing the Text Cleaning Function\n",
    "\n",
    "It's a good idea to test this function on a sample text before you apply it to the whole dataset, just to make sure it's working as it should:"
   ]
  },
  {
   "cell_type": "code",
   "execution_count": 40,
   "metadata": {},
   "outputs": [
    {
     "data": {
      "text/plain": [
       "'this is not good'"
      ]
     },
     "execution_count": 40,
     "metadata": {},
     "output_type": "execute_result"
    }
   ],
   "source": [
    "# Testing the text cleaner with a sample text\n",
    "text_cleaner(\"This....iSn't GoOoOood!!!\")  # Output should be a cleaned version of the input"
   ]
  },
  {
   "cell_type": "markdown",
   "metadata": {},
   "source": [
    "### Applying the Text Cleaning Function\n",
    "\n",
    "At this point, we can apply the text cleaning function to the entire dataset:"
   ]
  },
  {
   "cell_type": "code",
   "execution_count": 41,
   "metadata": {},
   "outputs": [],
   "source": [
    "# Applying the cleaning function to each review in the dataset\n",
    "df['content_cleaned'] = df['content'].apply(text_cleaner)"
   ]
  },
  {
   "cell_type": "markdown",
   "metadata": {},
   "source": [
    "After that, we have a new column in our dataset called \"content_cleaned\". Let's view it."
   ]
  },
  {
   "cell_type": "code",
   "execution_count": 42,
   "metadata": {},
   "outputs": [
    {
     "data": {
      "text/html": [
       "<div>\n",
       "<style scoped>\n",
       "    .dataframe tbody tr th:only-of-type {\n",
       "        vertical-align: middle;\n",
       "    }\n",
       "\n",
       "    .dataframe tbody tr th {\n",
       "        vertical-align: top;\n",
       "    }\n",
       "\n",
       "    .dataframe thead th {\n",
       "        text-align: right;\n",
       "    }\n",
       "</style>\n",
       "<table border=\"1\" class=\"dataframe\">\n",
       "  <thead>\n",
       "    <tr style=\"text-align: right;\">\n",
       "      <th></th>\n",
       "      <th>content</th>\n",
       "      <th>sentiment</th>\n",
       "      <th>content_cleaned</th>\n",
       "    </tr>\n",
       "  </thead>\n",
       "  <tbody>\n",
       "    <tr>\n",
       "      <th>0</th>\n",
       "      <td>Plsssss stoppppp giving screen limit like when...</td>\n",
       "      <td>negative</td>\n",
       "      <td>plss stopp giving screen limit like when you a...</td>\n",
       "    </tr>\n",
       "    <tr>\n",
       "      <th>1</th>\n",
       "      <td>Good</td>\n",
       "      <td>positive</td>\n",
       "      <td>good</td>\n",
       "    </tr>\n",
       "    <tr>\n",
       "      <th>2</th>\n",
       "      <td>👍👍</td>\n",
       "      <td>positive</td>\n",
       "      <td>thumbs_up</td>\n",
       "    </tr>\n",
       "    <tr>\n",
       "      <th>3</th>\n",
       "      <td>Good</td>\n",
       "      <td>neutral</td>\n",
       "      <td>good</td>\n",
       "    </tr>\n",
       "    <tr>\n",
       "      <th>4</th>\n",
       "      <td>App is useful to certain phone brand ,,,,it is...</td>\n",
       "      <td>negative</td>\n",
       "      <td>app is useful to certain phone brand it is not...</td>\n",
       "    </tr>\n",
       "  </tbody>\n",
       "</table>\n",
       "</div>"
      ],
      "text/plain": [
       "                                             content sentiment  \\\n",
       "0  Plsssss stoppppp giving screen limit like when...  negative   \n",
       "1                                               Good  positive   \n",
       "2                                                 👍👍  positive   \n",
       "3                                               Good   neutral   \n",
       "4  App is useful to certain phone brand ,,,,it is...  negative   \n",
       "\n",
       "                                     content_cleaned  \n",
       "0  plss stopp giving screen limit like when you a...  \n",
       "1                                               good  \n",
       "2                                          thumbs_up  \n",
       "3                                               good  \n",
       "4  app is useful to certain phone brand it is not...  "
      ]
     },
     "execution_count": 42,
     "metadata": {},
     "output_type": "execute_result"
    }
   ],
   "source": [
    "df.head()"
   ]
  },
  {
   "cell_type": "markdown",
   "metadata": {},
   "source": [
    "### Displaying Some Preprocessed Reviews\n",
    "\n",
    "To verify the cleaning process, let's look at some before-and-after examples of the cleaned text:"
   ]
  },
  {
   "cell_type": "code",
   "execution_count": 43,
   "metadata": {},
   "outputs": [
    {
     "name": "stdout",
     "output_type": "stream",
     "text": [
      "Original: hhaha\n",
      "Cleaned: hhaha\n",
      "\n",
      "Original: The bloodline Roman Reigns Jackie Redmond wwe\n",
      "Cleaned: the bloodline roman reigns jackie redmond wwe\n",
      "\n",
      "Original: Have had netflix since it first went digital. Canceled membership today. I'm not paying $8 extra dollars a month on top of the $16 I already pay for my 90 year old grandma to be able to watch now and then. In addition....now I can't even use my own account that I pay for on other TVs when I'm traveling for work or at a friends house? Get lost. I'll give Nana my other streaming passwords. Greedy nonsense.\n",
      "Cleaned: have had netflix since it first went digital canceled membership today i am not paying 8 extra dollars a month on top of the 16 i already pay for my 90 year old grandma to be able to watch now and then in addition now i cannot even use my own account that i pay for on other tvs when i am traveling for work or at a friends house get lost i will give nana my other streaming passwords greedy nonsense\n",
      "\n",
      "Original: No me gustó lo de que tús dispositivos no formarán parte de tu hogar en Netflix\n",
      "Cleaned: no me gustó lo de que tús dispositivos no formarán parte de tu hogar en netflix\n",
      "\n",
      "Original: I love to watch the movie's you have on here and the TV shows I love them 💗💗💗\n",
      "Cleaned: i love to watch the movie s you have on here and the tv shows i love them growing_heart\n",
      "\n"
     ]
    }
   ],
   "source": [
    "# Printing some original and cleaned reviews to compare\n",
    "for i in range(40, 45):\n",
    "    print('Original:', df['content'][i])\n",
    "    print('Cleaned:', df['content_cleaned'][i])\n",
    "    print()"
   ]
  },
  {
   "cell_type": "markdown",
   "metadata": {},
   "source": [
    "### Saving the Preprocessed Data\n",
    "\n",
    "Finally, we save the preprocessed text data for further analysis or modeling:"
   ]
  },
  {
   "cell_type": "code",
   "execution_count": 44,
   "metadata": {},
   "outputs": [],
   "source": [
    "# Saving the preprocessed data to a new CSV file\n",
    "df.to_csv('../DATASETS/preprocessed_text.csv', index=False)"
   ]
  }
 ],
 "metadata": {
  "kernelspec": {
   "display_name": "Python 3 (ipykernel)",
   "language": "python",
   "name": "python3"
  },
  "language_info": {
   "codemirror_mode": {
    "name": "ipython",
    "version": 3
   },
   "file_extension": ".py",
   "mimetype": "text/x-python",
   "name": "python",
   "nbconvert_exporter": "python",
   "pygments_lexer": "ipython3",
   "version": "3.11.4"
  }
 },
 "nbformat": 4,
 "nbformat_minor": 2
}

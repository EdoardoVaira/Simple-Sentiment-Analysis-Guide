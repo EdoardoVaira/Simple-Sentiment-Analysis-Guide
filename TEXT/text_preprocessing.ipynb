{
 "cells": [
  {
   "cell_type": "markdown",
   "metadata": {},
   "source": [
    "## Text Preprocessing"
   ]
  },
  {
   "cell_type": "markdown",
   "metadata": {},
   "source": [
    "### Introduction\n",
    "\n",
    "In this notebook, we'll be taking a look at how to clean up the content of the reviews. User reviews often have repeated characters, random emoticons, and unnecessary punctuation, which can make the data harder to work with. Here, you'll find a range of techniques and ideas for cleaning and preparing text data for analysis, which you can use in your own projects."
   ]
  },
  {
   "cell_type": "markdown",
   "metadata": {},
   "source": [
    "### Setup and Initial Data Viewing\n",
    "\n",
    "As always, we'll start by loading the cleaned dataset and taking a quick look at it."
   ]
  },
  {
   "cell_type": "code",
   "execution_count": 24,
   "metadata": {},
   "outputs": [
    {
     "data": {
      "text/html": [
       "<div>\n",
       "<style scoped>\n",
       "    .dataframe tbody tr th:only-of-type {\n",
       "        vertical-align: middle;\n",
       "    }\n",
       "\n",
       "    .dataframe tbody tr th {\n",
       "        vertical-align: top;\n",
       "    }\n",
       "\n",
       "    .dataframe thead th {\n",
       "        text-align: right;\n",
       "    }\n",
       "</style>\n",
       "<table border=\"1\" class=\"dataframe\">\n",
       "  <thead>\n",
       "    <tr style=\"text-align: right;\">\n",
       "      <th></th>\n",
       "      <th>content</th>\n",
       "      <th>score</th>\n",
       "    </tr>\n",
       "  </thead>\n",
       "  <tbody>\n",
       "    <tr>\n",
       "      <th>0</th>\n",
       "      <td>Plsssss stoppppp giving screen limit like when...</td>\n",
       "      <td>2</td>\n",
       "    </tr>\n",
       "    <tr>\n",
       "      <th>1</th>\n",
       "      <td>Good</td>\n",
       "      <td>5</td>\n",
       "    </tr>\n",
       "    <tr>\n",
       "      <th>2</th>\n",
       "      <td>👍👍</td>\n",
       "      <td>5</td>\n",
       "    </tr>\n",
       "    <tr>\n",
       "      <th>3</th>\n",
       "      <td>Good</td>\n",
       "      <td>3</td>\n",
       "    </tr>\n",
       "    <tr>\n",
       "      <th>4</th>\n",
       "      <td>App is useful to certain phone brand ,,,,it is...</td>\n",
       "      <td>1</td>\n",
       "    </tr>\n",
       "  </tbody>\n",
       "</table>\n",
       "</div>"
      ],
      "text/plain": [
       "                                             content  score\n",
       "0  Plsssss stoppppp giving screen limit like when...      2\n",
       "1                                               Good      5\n",
       "2                                                 👍👍      5\n",
       "3                                               Good      3\n",
       "4  App is useful to certain phone brand ,,,,it is...      1"
      ]
     },
     "execution_count": 24,
     "metadata": {},
     "output_type": "execute_result"
    }
   ],
   "source": [
    "# Importing pandas\n",
    "import pandas as pd\n",
    "\n",
    "# Loading the cleaned data\n",
    "df = pd.read_csv('../DATASETS/cleaned_data.csv')\n",
    "\n",
    "# Displaying the first few rows to get a sense of the data\n",
    "df.head()"
   ]
  },
  {
   "cell_type": "markdown",
   "metadata": {},
   "source": [
    "As you can see from the first few rows, the dataset contains repeated emojis, characters, and random punctuation marks, all of which need to be cleaned up before we can do any further analysis."
   ]
  },
  {
   "cell_type": "markdown",
   "metadata": {},
   "source": [
    "### Importing Necessary Libraries for Text Processing\n",
    "\n",
    "To clean up the text effectively, we'll use a couple of libraries:\n",
    "\n",
    "- The emoji library helps us interpret and convert emojis into text descriptions.\n",
    "- The re library provides tools for regex operations, which are crucial for identifying and replacing patterns in text.\n",
    "- The contractions library will be used to expand contractions (like \"isn't\" to \"is not\"), which helps standardize the text."
   ]
  },
  {
   "cell_type": "code",
   "execution_count": 25,
   "metadata": {},
   "outputs": [],
   "source": [
    "# Importing libraries for handling text data\n",
    "import emoji  # For converting emojis to text\n",
    "import re  # For regex operations\n",
    "import contractions  # For expanding contractions"
   ]
  },
  {
   "cell_type": "markdown",
   "metadata": {},
   "source": [
    "### Defining the Text Cleaning Function\n",
    "\n",
    "We'll create a function that systematically cleans the text by following these steps:\n",
    "\n",
    "1. **Convert the text to lowercase for consistency.**  \n",
    "   *Example:*  \n",
    "   `\"This is GREAT!\"` → `\"this is great!\"`\n",
    "\n",
    "2. **Replace emojis with descriptive text.**  \n",
    "   *Example:*  \n",
    "   `\"I'm so happy 👍\"` → `\"i'm so happy thumbs_up\"`\n",
    "\n",
    "3. **Expand contractions to standardize the language.**  \n",
    "   *Example:*  \n",
    "   `\"I'll be there\"` → `\"i will be there\"`\n",
    "\n",
    "4. **Replace non-word characters with spaces to improve word separation.**  \n",
    "   *Example:*  \n",
    "   `\"Hello!!! How's it going?\"` → `\"hello how s it going\"`\n",
    "\n",
    "5. **Reduce exaggerated characters to a standard form.**  \n",
    "   *Example:*  \n",
    "   `\"Soooo goooood!!!\"` → `\"soo good\"`\n",
    "\n",
    "6. **Remove consecutive repeated words to avoid redundancy.**  \n",
    "   *Example:*  \n",
    "   `\"This is is amazing\"` → `\"this is amazing\"`\n",
    "\n",
    "7. **Normalize white spaces for clean and properly spaced text.**  \n",
    "   *Example:*  \n",
    "   `\"Too    many    spaces!\"` → `\"too many spaces!\"`"
   ]
  },
  {
   "cell_type": "markdown",
   "metadata": {},
   "source": [
    "**NOTE**: There is no \"one-size-fits-all\" solution to text preprocessing. The steps above are suggestions only and you should adapt them to the specific needs of your project."
   ]
  },
  {
   "cell_type": "code",
   "execution_count": 26,
   "metadata": {},
   "outputs": [],
   "source": [
    "def text_cleaner(text):\n",
    "    \n",
    "    # Convert text to lowercase\n",
    "    text = text.lower()\n",
    "\n",
    "    # Replace emojis with a text description to capture their sentiment\n",
    "    text = emoji.demojize(text, delimiters=(\" \", \" \"))\n",
    "\n",
    "    # Expand contractions\n",
    "    text = contractions.fix(text)\n",
    "\n",
    "    # Replace non-word characters with a space to separate words better\n",
    "    text = re.sub(r'[^\\w\\s]', ' ', text)\n",
    "\n",
    "    # Reduce characters repeated more than twice to two to reduce exaggeration\n",
    "    text = re.sub(r'(.)\\1{2,}', r'\\1\\1', text)\n",
    "\n",
    "    # Remove consecutive repeated words\n",
    "    text = re.sub(r'\\b(\\w+)(?:\\s+\\1)+\\b', r'\\1', text)\n",
    "\n",
    "    # Normalize white spaces\n",
    "    text = re.sub(r'\\s+', ' ', text).strip()  \n",
    "\n",
    "    return text"
   ]
  },
  {
   "cell_type": "markdown",
   "metadata": {},
   "source": [
    "### Testing the Text Cleaning Function\n",
    "\n",
    "It's a good idea to test this function on a sample of text before applying it to the entire dataset. This will ensure that it works as it should:"
   ]
  },
  {
   "cell_type": "code",
   "execution_count": 27,
   "metadata": {},
   "outputs": [
    {
     "data": {
      "text/plain": [
       "'this is not good thumbs_down'"
      ]
     },
     "execution_count": 27,
     "metadata": {},
     "output_type": "execute_result"
    }
   ],
   "source": [
    "# Testing the text cleaner with a sample text\n",
    "text_cleaner(\"This....iSn't GoOoOood good!!! 👎👎👎\")  # Output should be a cleaned version of the input"
   ]
  },
  {
   "cell_type": "markdown",
   "metadata": {},
   "source": [
    "### Applying the Text Cleaning Function\n",
    "\n",
    "Now that we've defined the text cleaning function, we can apply it to the entire dataset. After cleaning the text, we will add a new column named `content_cleaned` to the dataset. This column will contain the cleaned version of the text."
   ]
  },
  {
   "cell_type": "code",
   "execution_count": 28,
   "metadata": {},
   "outputs": [],
   "source": [
    "# Applying the cleaning function to each review in the dataset\n",
    "df['content_cleaned'] = df['content'].apply(text_cleaner)"
   ]
  },
  {
   "cell_type": "markdown",
   "metadata": {},
   "source": [
    "We can see now that we have the new `content_cleaned` column:"
   ]
  },
  {
   "cell_type": "code",
   "execution_count": 29,
   "metadata": {},
   "outputs": [
    {
     "data": {
      "text/html": [
       "<div>\n",
       "<style scoped>\n",
       "    .dataframe tbody tr th:only-of-type {\n",
       "        vertical-align: middle;\n",
       "    }\n",
       "\n",
       "    .dataframe tbody tr th {\n",
       "        vertical-align: top;\n",
       "    }\n",
       "\n",
       "    .dataframe thead th {\n",
       "        text-align: right;\n",
       "    }\n",
       "</style>\n",
       "<table border=\"1\" class=\"dataframe\">\n",
       "  <thead>\n",
       "    <tr style=\"text-align: right;\">\n",
       "      <th></th>\n",
       "      <th>content</th>\n",
       "      <th>score</th>\n",
       "      <th>content_cleaned</th>\n",
       "    </tr>\n",
       "  </thead>\n",
       "  <tbody>\n",
       "    <tr>\n",
       "      <th>0</th>\n",
       "      <td>Plsssss stoppppp giving screen limit like when...</td>\n",
       "      <td>2</td>\n",
       "      <td>plss stopp giving screen limit like when you a...</td>\n",
       "    </tr>\n",
       "    <tr>\n",
       "      <th>1</th>\n",
       "      <td>Good</td>\n",
       "      <td>5</td>\n",
       "      <td>good</td>\n",
       "    </tr>\n",
       "    <tr>\n",
       "      <th>2</th>\n",
       "      <td>👍👍</td>\n",
       "      <td>5</td>\n",
       "      <td>thumbs_up</td>\n",
       "    </tr>\n",
       "    <tr>\n",
       "      <th>3</th>\n",
       "      <td>Good</td>\n",
       "      <td>3</td>\n",
       "      <td>good</td>\n",
       "    </tr>\n",
       "    <tr>\n",
       "      <th>4</th>\n",
       "      <td>App is useful to certain phone brand ,,,,it is...</td>\n",
       "      <td>1</td>\n",
       "      <td>app is useful to certain phone brand it is not...</td>\n",
       "    </tr>\n",
       "  </tbody>\n",
       "</table>\n",
       "</div>"
      ],
      "text/plain": [
       "                                             content  score  \\\n",
       "0  Plsssss stoppppp giving screen limit like when...      2   \n",
       "1                                               Good      5   \n",
       "2                                                 👍👍      5   \n",
       "3                                               Good      3   \n",
       "4  App is useful to certain phone brand ,,,,it is...      1   \n",
       "\n",
       "                                     content_cleaned  \n",
       "0  plss stopp giving screen limit like when you a...  \n",
       "1                                               good  \n",
       "2                                          thumbs_up  \n",
       "3                                               good  \n",
       "4  app is useful to certain phone brand it is not...  "
      ]
     },
     "execution_count": 29,
     "metadata": {},
     "output_type": "execute_result"
    }
   ],
   "source": [
    "df.head()"
   ]
  },
  {
   "cell_type": "markdown",
   "metadata": {},
   "source": [
    "### Displaying Some Preprocessed Reviews\n",
    "\n",
    "We can compare some original and cleaned text examples to make sure that the clean function works as expected. This will help us to see how the function transforms the text."
   ]
  },
  {
   "cell_type": "code",
   "execution_count": 30,
   "metadata": {},
   "outputs": [
    {
     "name": "stdout",
     "output_type": "stream",
     "text": [
      "Original: Account sharing? Lol. Very expensive subscription. Very limited quality choices. Not worth it. Just pirate.\n",
      "Cleaned: account sharing lol very expensive subscription very limited quality choices not worth it just pirate\n",
      "\n",
      "Original: Netflix is ​​a great medium for movies and TV shows. I hope more great movies and series will come on Netflix.\n",
      "Cleaned: netflix is a great medium for movies and tv shows i hope more great movies and series will come on netflix\n",
      "\n",
      "Original: Worst very Very Very bad 👎 😕 😞 😑\n",
      "Cleaned: worst very bad thumbs_down confused_face disappointed_face expressionless_face\n",
      "\n",
      "Original: Because you can watch movies and relax while it plays and I can just give this 5 starts for everything it does\n",
      "Cleaned: because you can watch movies and relax while it plays and i can just give this 5 starts for everything it does\n",
      "\n",
      "Original: Back then Netflix was my favorite app because it had alot of newly released movies but now There's no good movies and the ones that is newly released isn't even available on Netflix feels sad for that. This month will be my last subscription after this I'll forever transfer to Amazon Prime, thank Netflix for being there with me for 7 years, time to say goodbye now❤.\n",
      "Cleaned: back then netflix was my favorite app because it had alot of newly released movies but now there is no good movies and the ones that is newly released is not even available on netflix feels sad for that this month will be my last subscription after this i will forever transfer to amazon prime thank netflix for being there with me for 7 years time to say goodbye now red_heart\n",
      "\n"
     ]
    }
   ],
   "source": [
    "# Printing some original and cleaned reviews to compare\n",
    "for i in range(80, 85):\n",
    "    print('Original:', df['content'][i])\n",
    "    print('Cleaned:', df['content_cleaned'][i])\n",
    "    print()"
   ]
  },
  {
   "cell_type": "markdown",
   "metadata": {},
   "source": [
    "### Saving the Preprocessed Data\n",
    "\n",
    "Finally, we save the preprocessed text data for further analysis or modeling:"
   ]
  },
  {
   "cell_type": "code",
   "execution_count": 31,
   "metadata": {},
   "outputs": [],
   "source": [
    "# Saving the preprocessed data to a new CSV file\n",
    "df.to_csv('../DATASETS/preprocessed_text.csv', index=False)"
   ]
  }
 ],
 "metadata": {
  "kernelspec": {
   "display_name": "Python 3 (ipykernel)",
   "language": "python",
   "name": "python3"
  },
  "language_info": {
   "codemirror_mode": {
    "name": "ipython",
    "version": 3
   },
   "file_extension": ".py",
   "mimetype": "text/x-python",
   "name": "python",
   "nbconvert_exporter": "python",
   "pygments_lexer": "ipython3",
   "version": "3.12.4"
  }
 },
 "nbformat": 4,
 "nbformat_minor": 2
}

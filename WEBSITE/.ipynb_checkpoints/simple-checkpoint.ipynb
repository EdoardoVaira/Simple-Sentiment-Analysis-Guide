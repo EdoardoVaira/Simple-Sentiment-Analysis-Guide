{
 "cells": [
  {
   "cell_type": "code",
   "execution_count": 17,
   "metadata": {},
   "outputs": [],
   "source": [
    "import pandas as pd "
   ]
  },
  {
   "cell_type": "code",
   "execution_count": 18,
   "metadata": {},
   "outputs": [],
   "source": [
    "df = pd.read_csv('../DATASETS/preprocessed_text.csv')"
   ]
  },
  {
   "cell_type": "code",
   "execution_count": 19,
   "metadata": {},
   "outputs": [],
   "source": [
    "# Fill NaN values with an empty string\n",
    "df.fillna('', inplace=True)"
   ]
  },
  {
   "cell_type": "code",
   "execution_count": 20,
   "metadata": {},
   "outputs": [
    {
     "data": {
      "text/html": [
       "<div>\n",
       "<style scoped>\n",
       "    .dataframe tbody tr th:only-of-type {\n",
       "        vertical-align: middle;\n",
       "    }\n",
       "\n",
       "    .dataframe tbody tr th {\n",
       "        vertical-align: top;\n",
       "    }\n",
       "\n",
       "    .dataframe thead th {\n",
       "        text-align: right;\n",
       "    }\n",
       "</style>\n",
       "<table border=\"1\" class=\"dataframe\">\n",
       "  <thead>\n",
       "    <tr style=\"text-align: right;\">\n",
       "      <th></th>\n",
       "      <th>content</th>\n",
       "      <th>score</th>\n",
       "      <th>content_cleaned</th>\n",
       "    </tr>\n",
       "  </thead>\n",
       "  <tbody>\n",
       "    <tr>\n",
       "      <th>0</th>\n",
       "      <td>Plsssss stoppppp giving screen limit like when...</td>\n",
       "      <td>2</td>\n",
       "      <td>plss stopp giving screen limit like when you a...</td>\n",
       "    </tr>\n",
       "    <tr>\n",
       "      <th>1</th>\n",
       "      <td>Good</td>\n",
       "      <td>5</td>\n",
       "      <td>good</td>\n",
       "    </tr>\n",
       "    <tr>\n",
       "      <th>2</th>\n",
       "      <td>👍👍</td>\n",
       "      <td>5</td>\n",
       "      <td>thumbs_up</td>\n",
       "    </tr>\n",
       "    <tr>\n",
       "      <th>3</th>\n",
       "      <td>Good</td>\n",
       "      <td>3</td>\n",
       "      <td>good</td>\n",
       "    </tr>\n",
       "    <tr>\n",
       "      <th>4</th>\n",
       "      <td>App is useful to certain phone brand ,,,,it is...</td>\n",
       "      <td>1</td>\n",
       "      <td>app is useful to certain phone brand it is not...</td>\n",
       "    </tr>\n",
       "  </tbody>\n",
       "</table>\n",
       "</div>"
      ],
      "text/plain": [
       "                                             content  score  \\\n",
       "0  Plsssss stoppppp giving screen limit like when...      2   \n",
       "1                                               Good      5   \n",
       "2                                                 👍👍      5   \n",
       "3                                               Good      3   \n",
       "4  App is useful to certain phone brand ,,,,it is...      1   \n",
       "\n",
       "                                     content_cleaned  \n",
       "0  plss stopp giving screen limit like when you a...  \n",
       "1                                               good  \n",
       "2                                          thumbs_up  \n",
       "3                                               good  \n",
       "4  app is useful to certain phone brand it is not...  "
      ]
     },
     "execution_count": 20,
     "metadata": {},
     "output_type": "execute_result"
    }
   ],
   "source": [
    "df.head()"
   ]
  },
  {
   "cell_type": "code",
   "execution_count": 21,
   "metadata": {},
   "outputs": [],
   "source": [
    "import numpy as np\n",
    "from sklearn.feature_extraction.text import CountVectorizer\n",
    "from sklearn.preprocessing import MinMaxScaler\n",
    "from sklearn.preprocessing import MaxAbsScaler\n",
    "from sklearn.model_selection import train_test_split\n",
    "from sklearn.linear_model import Ridge\n",
    "from sklearn.metrics import mean_squared_error"
   ]
  },
  {
   "cell_type": "code",
   "execution_count": 22,
   "metadata": {},
   "outputs": [],
   "source": [
    "# Step 1: Vectorize the 'content_cleaned' using Bag-of-Words\n",
    "vectorizer = CountVectorizer()  # Limit to top 10,000 features\n",
    "X_bow = vectorizer.fit_transform(df['content_cleaned'])"
   ]
  },
  {
   "cell_type": "code",
   "execution_count": 23,
   "metadata": {},
   "outputs": [],
   "source": [
    "# Step 2: Normalize the features using MinMaxScaler\n",
    "scaler = MaxAbsScaler()\n",
    "X_normalized = scaler.fit_transform(X_bow)"
   ]
  },
  {
   "cell_type": "code",
   "execution_count": 24,
   "metadata": {},
   "outputs": [],
   "source": [
    "# Step 3: Prepare and normalize the target variable (score)\n",
    "y = df['score'].values.reshape(-1, 1)\n",
    "y_scaler = MinMaxScaler(feature_range=(1, 5))  # Scale between 1 and 5 (the range of the scores)\n",
    "y_normalized = y_scaler.fit_transform(y)"
   ]
  },
  {
   "cell_type": "code",
   "execution_count": 25,
   "metadata": {},
   "outputs": [],
   "source": [
    "# Step 4: Split data into training and test sets\n",
    "X_train, X_test, y_train, y_test, review_train, review_test = train_test_split(\n",
    "    X_normalized, y_normalized, df['content_cleaned'], test_size=0.2, random_state=42\n",
    ")"
   ]
  },
  {
   "cell_type": "code",
   "execution_count": 26,
   "metadata": {},
   "outputs": [
    {
     "data": {
      "text/html": [
       "<style>#sk-container-id-2 {color: black;}#sk-container-id-2 pre{padding: 0;}#sk-container-id-2 div.sk-toggleable {background-color: white;}#sk-container-id-2 label.sk-toggleable__label {cursor: pointer;display: block;width: 100%;margin-bottom: 0;padding: 0.3em;box-sizing: border-box;text-align: center;}#sk-container-id-2 label.sk-toggleable__label-arrow:before {content: \"▸\";float: left;margin-right: 0.25em;color: #696969;}#sk-container-id-2 label.sk-toggleable__label-arrow:hover:before {color: black;}#sk-container-id-2 div.sk-estimator:hover label.sk-toggleable__label-arrow:before {color: black;}#sk-container-id-2 div.sk-toggleable__content {max-height: 0;max-width: 0;overflow: hidden;text-align: left;background-color: #f0f8ff;}#sk-container-id-2 div.sk-toggleable__content pre {margin: 0.2em;color: black;border-radius: 0.25em;background-color: #f0f8ff;}#sk-container-id-2 input.sk-toggleable__control:checked~div.sk-toggleable__content {max-height: 200px;max-width: 100%;overflow: auto;}#sk-container-id-2 input.sk-toggleable__control:checked~label.sk-toggleable__label-arrow:before {content: \"▾\";}#sk-container-id-2 div.sk-estimator input.sk-toggleable__control:checked~label.sk-toggleable__label {background-color: #d4ebff;}#sk-container-id-2 div.sk-label input.sk-toggleable__control:checked~label.sk-toggleable__label {background-color: #d4ebff;}#sk-container-id-2 input.sk-hidden--visually {border: 0;clip: rect(1px 1px 1px 1px);clip: rect(1px, 1px, 1px, 1px);height: 1px;margin: -1px;overflow: hidden;padding: 0;position: absolute;width: 1px;}#sk-container-id-2 div.sk-estimator {font-family: monospace;background-color: #f0f8ff;border: 1px dotted black;border-radius: 0.25em;box-sizing: border-box;margin-bottom: 0.5em;}#sk-container-id-2 div.sk-estimator:hover {background-color: #d4ebff;}#sk-container-id-2 div.sk-parallel-item::after {content: \"\";width: 100%;border-bottom: 1px solid gray;flex-grow: 1;}#sk-container-id-2 div.sk-label:hover label.sk-toggleable__label {background-color: #d4ebff;}#sk-container-id-2 div.sk-serial::before {content: \"\";position: absolute;border-left: 1px solid gray;box-sizing: border-box;top: 0;bottom: 0;left: 50%;z-index: 0;}#sk-container-id-2 div.sk-serial {display: flex;flex-direction: column;align-items: center;background-color: white;padding-right: 0.2em;padding-left: 0.2em;position: relative;}#sk-container-id-2 div.sk-item {position: relative;z-index: 1;}#sk-container-id-2 div.sk-parallel {display: flex;align-items: stretch;justify-content: center;background-color: white;position: relative;}#sk-container-id-2 div.sk-item::before, #sk-container-id-2 div.sk-parallel-item::before {content: \"\";position: absolute;border-left: 1px solid gray;box-sizing: border-box;top: 0;bottom: 0;left: 50%;z-index: -1;}#sk-container-id-2 div.sk-parallel-item {display: flex;flex-direction: column;z-index: 1;position: relative;background-color: white;}#sk-container-id-2 div.sk-parallel-item:first-child::after {align-self: flex-end;width: 50%;}#sk-container-id-2 div.sk-parallel-item:last-child::after {align-self: flex-start;width: 50%;}#sk-container-id-2 div.sk-parallel-item:only-child::after {width: 0;}#sk-container-id-2 div.sk-dashed-wrapped {border: 1px dashed gray;margin: 0 0.4em 0.5em 0.4em;box-sizing: border-box;padding-bottom: 0.4em;background-color: white;}#sk-container-id-2 div.sk-label label {font-family: monospace;font-weight: bold;display: inline-block;line-height: 1.2em;}#sk-container-id-2 div.sk-label-container {text-align: center;}#sk-container-id-2 div.sk-container {/* jupyter's `normalize.less` sets `[hidden] { display: none; }` but bootstrap.min.css set `[hidden] { display: none !important; }` so we also need the `!important` here to be able to override the default hidden behavior on the sphinx rendered scikit-learn.org. See: https://github.com/scikit-learn/scikit-learn/issues/21755 */display: inline-block !important;position: relative;}#sk-container-id-2 div.sk-text-repr-fallback {display: none;}</style><div id=\"sk-container-id-2\" class=\"sk-top-container\"><div class=\"sk-text-repr-fallback\"><pre>Ridge()</pre><b>In a Jupyter environment, please rerun this cell to show the HTML representation or trust the notebook. <br />On GitHub, the HTML representation is unable to render, please try loading this page with nbviewer.org.</b></div><div class=\"sk-container\" hidden><div class=\"sk-item\"><div class=\"sk-estimator sk-toggleable\"><input class=\"sk-toggleable__control sk-hidden--visually\" id=\"sk-estimator-id-2\" type=\"checkbox\" checked><label for=\"sk-estimator-id-2\" class=\"sk-toggleable__label sk-toggleable__label-arrow\">Ridge</label><div class=\"sk-toggleable__content\"><pre>Ridge()</pre></div></div></div></div></div>"
      ],
      "text/plain": [
       "Ridge()"
      ]
     },
     "execution_count": 26,
     "metadata": {},
     "output_type": "execute_result"
    }
   ],
   "source": [
    "# Step 5: Train a regression model (Ridge Regression in this case)\n",
    "model = Ridge()\n",
    "model.fit(X_train, y_train)"
   ]
  },
  {
   "cell_type": "code",
   "execution_count": 27,
   "metadata": {},
   "outputs": [],
   "source": [
    "# Step 6: Make predictions on the test set\n",
    "y_pred = model.predict(X_test)"
   ]
  },
  {
   "cell_type": "code",
   "execution_count": 28,
   "metadata": {},
   "outputs": [],
   "source": [
    "# Step 7: Inverse transform the predictions and actual test values\n",
    "y_pred_original = y_scaler.inverse_transform(y_pred)\n",
    "y_test_original = y_scaler.inverse_transform(y_test)"
   ]
  },
  {
   "cell_type": "code",
   "execution_count": 29,
   "metadata": {},
   "outputs": [],
   "source": [
    "# Step 8: Clip predictions to stay within the 1-5 range\n",
    "y_pred_original_clipped = np.clip(y_pred_original, 1, 5)"
   ]
  },
  {
   "cell_type": "code",
   "execution_count": 30,
   "metadata": {},
   "outputs": [
    {
     "name": "stdout",
     "output_type": "stream",
     "text": [
      "Mean Squared Error: 1.3063148663941409\n"
     ]
    }
   ],
   "source": [
    "# Step 9: Evaluate the model using mean squared error\n",
    "mse = mean_squared_error(y_test_original, y_pred_original_clipped)\n",
    "print(f\"Mean Squared Error: {mse}\")"
   ]
  },
  {
   "cell_type": "code",
   "execution_count": 31,
   "metadata": {},
   "outputs": [
    {
     "name": "stdout",
     "output_type": "stream",
     "text": [
      "\n",
      "Example predictions:\n",
      "Review 21:\n",
      "Content: i think it is a best streaming experience for watch video\n",
      "Predicted score = 4.01, Actual score = 5.00\n",
      "\n",
      "Review 22:\n",
      "Content: they are getting way to expensive for what the app is their competitors have a lot more affordable options both my mom and i are going to unsubscribe from netflix if they keep increasing their prices their content is not that great and when we first got it 9 99 thinking about replacing it with disney\n",
      "Predicted score = 2.29, Actual score = 1.00\n",
      "\n",
      "Review 23:\n",
      "Content: i am very mad at netflix because it is the resean we do not have mcsm it bought mcsm that is the only reason but mcsm was my favorite game to play so i am very mad at netflix for taking that away\n",
      "Predicted score = 2.52, Actual score = 1.00\n",
      "\n",
      "Review 24:\n",
      "Content: app is fine and works as expected it would be nice to have a sleep timer in the app that can be set based on time or episodes when watching on tv there was a are you still there and would turn off if you did not click anything for a couple of episodes\n",
      "Predicted score = 3.94, Actual score = 3.00\n",
      "\n",
      "Review 25:\n",
      "Content: this app is so good for the familly and i love naruto so i can jop on this appband start waching it piriod\n",
      "Predicted score = 4.61, Actual score = 5.00\n",
      "\n",
      "Review 26:\n",
      "Content: removing so many shows and movies that people actually watch and just leaving random unknown movies that nobody even watches and the new update does not let us skip to the next episode without having to press the next episode button it kind of just ruins it i would not have to hold the remote the whole time just to skip to a next episode this app just gets worse\n",
      "Predicted score = 1.13, Actual score = 1.00\n",
      "\n",
      "Review 27:\n",
      "Content: netflix was good for the first few months but then people started hacking us and when we wanted to get our account for netflix shut down they tried to make us pay and give them our credit card information netflix is not safe to me anymore if i could i would give ntflix a 0 star rating\n",
      "Predicted score = 1.81, Actual score = 1.00\n",
      "\n",
      "Review 28:\n",
      "Content: new update renders the app useless unless you are at your primary residence\n",
      "Predicted score = 2.60, Actual score = 1.00\n",
      "\n",
      "Review 29:\n",
      "Content: when watching videos it uses the part of the screen with the camera cutout so there is a giant black spot which is extremely annoying no way to mark videos as watched or not interested other than to just thumbs down them a lot of budget international movies and reality tv shows i am never going to watch\n",
      "Predicted score = 2.89, Actual score = 1.00\n",
      "\n",
      "Review 30:\n",
      "Content: the best i love everything about netflix the best series and movies everything in one package\n",
      "Predicted score = 5.00, Actual score = 5.00\n",
      "\n",
      "Review 31:\n",
      "Content: i like netflix although it is most of the time the same stuff apparently my plan is no longer available and i do not understand why you do not create a plan that can be for one household i have no use for 2 so the only way to watch things without ads is to pay more seems quite unfair\n",
      "Predicted score = 1.47, Actual score = 2.00\n",
      "\n",
      "Review 32:\n",
      "Content: you all over charge and expect a person be okay paying 20 for nothing on this app one time fee for the service every month and then another fee for a test fee how dose that even make sense that is fraud as hell you all are just a scam looking for extra money\n",
      "Predicted score = 1.07, Actual score = 1.00\n",
      "\n",
      "Review 33:\n",
      "Content: i like this app it is a leading subscription service for watching tv episodes and moves\n",
      "Predicted score = 3.49, Actual score = 5.00\n",
      "\n",
      "Review 34:\n",
      "Content: update thank you my app is now better so you deserve a flash 5 star review the best keep it up and upgrade more p last review i am stucked at home and now this app is not working it just says sorry we can not reach the netflix service please try again later i even tried restarting my phone uninstalled and installed again the app but it still not working please fix this smirking_face i would be glad to update my review if you can fix this thank you\n",
      "Predicted score = 1.55, Actual score = 5.00\n",
      "\n",
      "Review 35:\n",
      "Content: it is great but the video playback section has a problem on my android phone clicking on video only hides the brightness slider instead of all the playback menu items\n",
      "Predicted score = 3.36, Actual score = 3.00\n",
      "\n",
      "Review 36:\n",
      "Content: removed almost all of my little pony fim series really disappointed this was one of the reasons i had this app wold not recomend\n",
      "Predicted score = 3.20, Actual score = 1.00\n",
      "\n",
      "Review 37:\n",
      "Content: love it if only it would add the movie the next best thing have not seen that movie in years and alot more movies from the 90s ealry 200 s\n",
      "Predicted score = 4.75, Actual score = 5.00\n",
      "\n",
      "Review 38:\n",
      "Content: keep raising their prices without adding anything different the excuse they are using that password sharing is the reason they are losing subscriptions is not true it is due to the content that they stream everything seems to have an agenda and stuff is not quality anymore they have also lost big shows like friends and himym which is a main reason i do not use netflix as much anymore the only thing keeping me there is the office and that might leave too so\n",
      "Predicted score = 1.00, Actual score = 1.00\n",
      "\n",
      "Review 39:\n",
      "Content: when it update i cannot get to download anything properly when i press on the movie it only shows the preview\n",
      "Predicted score = 2.46, Actual score = 3.00\n",
      "\n",
      "Review 40:\n",
      "Content: i like netflix a lot but the problem is the seasons depends on the country\n",
      "Predicted score = 3.30, Actual score = 5.00\n",
      "\n"
     ]
    }
   ],
   "source": [
    "# Step 10: Print some prediction examples along with review content\n",
    "print(\"\\nExample predictions:\")\n",
    "for i in range(20, 40):\n",
    "    print(f\"Review {i+1}:\")\n",
    "    print(f\"Content: {review_test.iloc[i]}\")\n",
    "    print(f\"Predicted score = {y_pred_original_clipped[i][0]:.2f}, Actual score = {y_test_original[i][0]:.2f}\\n\")"
   ]
  },
  {
   "cell_type": "code",
   "execution_count": 34,
   "metadata": {},
   "outputs": [
    {
     "name": "stdout",
     "output_type": "stream",
     "text": [
      "Model and scalers saved successfully.\n"
     ]
    }
   ],
   "source": [
    "# Saving the model\n",
    "import joblib\n",
    "\n",
    "# Save the vectorizer\n",
    "joblib.dump(vectorizer, 'vectorizer.pkl')\n",
    "\n",
    "# Save the model and scalers as well\n",
    "joblib.dump(model, 'model.pkl')\n",
    "joblib.dump(scaler, 'maxabs_scaler.pkl')\n",
    "joblib.dump(y_scaler, 'minmax_scaler.pkl')\n",
    "\n",
    "print(\"Model and scalers saved successfully.\")"
   ]
  }
 ],
 "metadata": {
  "kernelspec": {
   "display_name": "Python 3 (ipykernel)",
   "language": "python",
   "name": "python3"
  },
  "language_info": {
   "codemirror_mode": {
    "name": "ipython",
    "version": 3
   },
   "file_extension": ".py",
   "mimetype": "text/x-python",
   "name": "python",
   "nbconvert_exporter": "python",
   "pygments_lexer": "ipython3",
   "version": "3.11.4"
  }
 },
 "nbformat": 4,
 "nbformat_minor": 2
}

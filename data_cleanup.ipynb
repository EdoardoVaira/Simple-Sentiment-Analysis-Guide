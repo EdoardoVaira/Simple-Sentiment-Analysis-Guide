{
 "cells": [
  {
   "cell_type": "code",
   "execution_count": 23,
   "metadata": {},
   "outputs": [],
   "source": [
    "import pandas as pd"
   ]
  },
  {
   "cell_type": "code",
   "execution_count": 24,
   "metadata": {},
   "outputs": [],
   "source": [
    "df = pd.read_csv(\"netflix_reviews.csv\")"
   ]
  },
  {
   "cell_type": "code",
   "execution_count": 25,
   "metadata": {},
   "outputs": [
    {
     "data": {
      "text/html": [
       "<div>\n",
       "<style scoped>\n",
       "    .dataframe tbody tr th:only-of-type {\n",
       "        vertical-align: middle;\n",
       "    }\n",
       "\n",
       "    .dataframe tbody tr th {\n",
       "        vertical-align: top;\n",
       "    }\n",
       "\n",
       "    .dataframe thead th {\n",
       "        text-align: right;\n",
       "    }\n",
       "</style>\n",
       "<table border=\"1\" class=\"dataframe\">\n",
       "  <thead>\n",
       "    <tr style=\"text-align: right;\">\n",
       "      <th></th>\n",
       "      <th>reviewId</th>\n",
       "      <th>userName</th>\n",
       "      <th>content</th>\n",
       "      <th>score</th>\n",
       "      <th>thumbsUpCount</th>\n",
       "      <th>reviewCreatedVersion</th>\n",
       "      <th>at</th>\n",
       "      <th>appVersion</th>\n",
       "    </tr>\n",
       "  </thead>\n",
       "  <tbody>\n",
       "    <tr>\n",
       "      <th>0</th>\n",
       "      <td>cc1cfcd2-dc8a-4ead-88d1-7f2b2dbb2662</td>\n",
       "      <td>NR Bharadwaj</td>\n",
       "      <td>Plsssss stoppppp giving screen limit like when...</td>\n",
       "      <td>2</td>\n",
       "      <td>0</td>\n",
       "      <td>8.120.0 build 10 50712</td>\n",
       "      <td>2024-07-02 17:17:53</td>\n",
       "      <td>8.120.0 build 10 50712</td>\n",
       "    </tr>\n",
       "    <tr>\n",
       "      <th>1</th>\n",
       "      <td>7dfb1f90-f185-4e81-a97f-d38f0128e5a4</td>\n",
       "      <td>Maxwell Ntloko</td>\n",
       "      <td>Good</td>\n",
       "      <td>5</td>\n",
       "      <td>1</td>\n",
       "      <td>NaN</td>\n",
       "      <td>2024-06-26 15:38:06</td>\n",
       "      <td>NaN</td>\n",
       "    </tr>\n",
       "    <tr>\n",
       "      <th>2</th>\n",
       "      <td>3009acc4-8554-41cf-88de-cc5e2f6e45b2</td>\n",
       "      <td>Dilhani Mahanama</td>\n",
       "      <td>👍👍</td>\n",
       "      <td>5</td>\n",
       "      <td>0</td>\n",
       "      <td>NaN</td>\n",
       "      <td>2024-06-24 15:29:54</td>\n",
       "      <td>NaN</td>\n",
       "    </tr>\n",
       "    <tr>\n",
       "      <th>3</th>\n",
       "      <td>b3d27852-9a3b-4f74-9e16-15434d3ee324</td>\n",
       "      <td>Karen Gulli</td>\n",
       "      <td>Good</td>\n",
       "      <td>3</td>\n",
       "      <td>0</td>\n",
       "      <td>NaN</td>\n",
       "      <td>2024-06-22 15:41:54</td>\n",
       "      <td>NaN</td>\n",
       "    </tr>\n",
       "    <tr>\n",
       "      <th>4</th>\n",
       "      <td>8be10073-2368-4677-b828-9ff5d06ea0b7</td>\n",
       "      <td>Ronny Magadi</td>\n",
       "      <td>App is useful to certain phone brand ,,,,it is...</td>\n",
       "      <td>1</td>\n",
       "      <td>0</td>\n",
       "      <td>8.105.0 build 15 50626</td>\n",
       "      <td>2024-06-22 05:16:03</td>\n",
       "      <td>8.105.0 build 15 50626</td>\n",
       "    </tr>\n",
       "  </tbody>\n",
       "</table>\n",
       "</div>"
      ],
      "text/plain": [
       "                               reviewId          userName  \\\n",
       "0  cc1cfcd2-dc8a-4ead-88d1-7f2b2dbb2662      NR Bharadwaj   \n",
       "1  7dfb1f90-f185-4e81-a97f-d38f0128e5a4    Maxwell Ntloko   \n",
       "2  3009acc4-8554-41cf-88de-cc5e2f6e45b2  Dilhani Mahanama   \n",
       "3  b3d27852-9a3b-4f74-9e16-15434d3ee324       Karen Gulli   \n",
       "4  8be10073-2368-4677-b828-9ff5d06ea0b7      Ronny Magadi   \n",
       "\n",
       "                                             content  score  thumbsUpCount  \\\n",
       "0  Plsssss stoppppp giving screen limit like when...      2              0   \n",
       "1                                               Good      5              1   \n",
       "2                                                 👍👍      5              0   \n",
       "3                                               Good      3              0   \n",
       "4  App is useful to certain phone brand ,,,,it is...      1              0   \n",
       "\n",
       "     reviewCreatedVersion                   at              appVersion  \n",
       "0  8.120.0 build 10 50712  2024-07-02 17:17:53  8.120.0 build 10 50712  \n",
       "1                     NaN  2024-06-26 15:38:06                     NaN  \n",
       "2                     NaN  2024-06-24 15:29:54                     NaN  \n",
       "3                     NaN  2024-06-22 15:41:54                     NaN  \n",
       "4  8.105.0 build 15 50626  2024-06-22 05:16:03  8.105.0 build 15 50626  "
      ]
     },
     "execution_count": 25,
     "metadata": {},
     "output_type": "execute_result"
    }
   ],
   "source": [
    "df.head()"
   ]
  },
  {
   "cell_type": "markdown",
   "metadata": {},
   "source": [
    "Many of the columns are completely useless for our stuff. So we can remove them.\n",
    "\n",
    "Like:\n",
    "- reviewId\n",
    "- userName\n",
    "- reviewCreatedVersion\n",
    "- appVersion"
   ]
  },
  {
   "cell_type": "code",
   "execution_count": 26,
   "metadata": {},
   "outputs": [],
   "source": [
    "df = df[['content', 'score', 'thumbsUpCount', 'at']]"
   ]
  },
  {
   "cell_type": "code",
   "execution_count": 27,
   "metadata": {},
   "outputs": [
    {
     "data": {
      "text/html": [
       "<div>\n",
       "<style scoped>\n",
       "    .dataframe tbody tr th:only-of-type {\n",
       "        vertical-align: middle;\n",
       "    }\n",
       "\n",
       "    .dataframe tbody tr th {\n",
       "        vertical-align: top;\n",
       "    }\n",
       "\n",
       "    .dataframe thead th {\n",
       "        text-align: right;\n",
       "    }\n",
       "</style>\n",
       "<table border=\"1\" class=\"dataframe\">\n",
       "  <thead>\n",
       "    <tr style=\"text-align: right;\">\n",
       "      <th></th>\n",
       "      <th>content</th>\n",
       "      <th>score</th>\n",
       "      <th>thumbsUpCount</th>\n",
       "      <th>at</th>\n",
       "    </tr>\n",
       "  </thead>\n",
       "  <tbody>\n",
       "    <tr>\n",
       "      <th>0</th>\n",
       "      <td>Plsssss stoppppp giving screen limit like when...</td>\n",
       "      <td>2</td>\n",
       "      <td>0</td>\n",
       "      <td>2024-07-02 17:17:53</td>\n",
       "    </tr>\n",
       "    <tr>\n",
       "      <th>1</th>\n",
       "      <td>Good</td>\n",
       "      <td>5</td>\n",
       "      <td>1</td>\n",
       "      <td>2024-06-26 15:38:06</td>\n",
       "    </tr>\n",
       "    <tr>\n",
       "      <th>2</th>\n",
       "      <td>👍👍</td>\n",
       "      <td>5</td>\n",
       "      <td>0</td>\n",
       "      <td>2024-06-24 15:29:54</td>\n",
       "    </tr>\n",
       "    <tr>\n",
       "      <th>3</th>\n",
       "      <td>Good</td>\n",
       "      <td>3</td>\n",
       "      <td>0</td>\n",
       "      <td>2024-06-22 15:41:54</td>\n",
       "    </tr>\n",
       "    <tr>\n",
       "      <th>4</th>\n",
       "      <td>App is useful to certain phone brand ,,,,it is...</td>\n",
       "      <td>1</td>\n",
       "      <td>0</td>\n",
       "      <td>2024-06-22 05:16:03</td>\n",
       "    </tr>\n",
       "  </tbody>\n",
       "</table>\n",
       "</div>"
      ],
      "text/plain": [
       "                                             content  score  thumbsUpCount  \\\n",
       "0  Plsssss stoppppp giving screen limit like when...      2              0   \n",
       "1                                               Good      5              1   \n",
       "2                                                 👍👍      5              0   \n",
       "3                                               Good      3              0   \n",
       "4  App is useful to certain phone brand ,,,,it is...      1              0   \n",
       "\n",
       "                    at  \n",
       "0  2024-07-02 17:17:53  \n",
       "1  2024-06-26 15:38:06  \n",
       "2  2024-06-24 15:29:54  \n",
       "3  2024-06-22 15:41:54  \n",
       "4  2024-06-22 05:16:03  "
      ]
     },
     "execution_count": 27,
     "metadata": {},
     "output_type": "execute_result"
    }
   ],
   "source": [
    "df.head()"
   ]
  },
  {
   "cell_type": "code",
   "execution_count": 28,
   "metadata": {},
   "outputs": [
    {
     "data": {
      "text/plain": [
       "content          2\n",
       "score            0\n",
       "thumbsUpCount    0\n",
       "at               0\n",
       "dtype: int64"
      ]
     },
     "execution_count": 28,
     "metadata": {},
     "output_type": "execute_result"
    }
   ],
   "source": [
    "# We can see that there is some stuff missing. \n",
    "\n",
    "df.isna().sum()"
   ]
  },
  {
   "cell_type": "code",
   "execution_count": 29,
   "metadata": {},
   "outputs": [],
   "source": [
    "df.fillna('', inplace=True)"
   ]
  },
  {
   "cell_type": "code",
   "execution_count": 30,
   "metadata": {},
   "outputs": [
    {
     "data": {
      "text/html": [
       "<div>\n",
       "<style scoped>\n",
       "    .dataframe tbody tr th:only-of-type {\n",
       "        vertical-align: middle;\n",
       "    }\n",
       "\n",
       "    .dataframe tbody tr th {\n",
       "        vertical-align: top;\n",
       "    }\n",
       "\n",
       "    .dataframe thead th {\n",
       "        text-align: right;\n",
       "    }\n",
       "</style>\n",
       "<table border=\"1\" class=\"dataframe\">\n",
       "  <thead>\n",
       "    <tr style=\"text-align: right;\">\n",
       "      <th></th>\n",
       "      <th>content</th>\n",
       "      <th>score</th>\n",
       "      <th>thumbsUpCount</th>\n",
       "      <th>at</th>\n",
       "    </tr>\n",
       "  </thead>\n",
       "  <tbody>\n",
       "    <tr>\n",
       "      <th>0</th>\n",
       "      <td>Plsssss stoppppp giving screen limit like when...</td>\n",
       "      <td>2</td>\n",
       "      <td>0</td>\n",
       "      <td>2024-07-02 17:17:53</td>\n",
       "    </tr>\n",
       "    <tr>\n",
       "      <th>1</th>\n",
       "      <td>Good</td>\n",
       "      <td>5</td>\n",
       "      <td>1</td>\n",
       "      <td>2024-06-26 15:38:06</td>\n",
       "    </tr>\n",
       "    <tr>\n",
       "      <th>2</th>\n",
       "      <td>👍👍</td>\n",
       "      <td>5</td>\n",
       "      <td>0</td>\n",
       "      <td>2024-06-24 15:29:54</td>\n",
       "    </tr>\n",
       "    <tr>\n",
       "      <th>3</th>\n",
       "      <td>Good</td>\n",
       "      <td>3</td>\n",
       "      <td>0</td>\n",
       "      <td>2024-06-22 15:41:54</td>\n",
       "    </tr>\n",
       "    <tr>\n",
       "      <th>4</th>\n",
       "      <td>App is useful to certain phone brand ,,,,it is...</td>\n",
       "      <td>1</td>\n",
       "      <td>0</td>\n",
       "      <td>2024-06-22 05:16:03</td>\n",
       "    </tr>\n",
       "  </tbody>\n",
       "</table>\n",
       "</div>"
      ],
      "text/plain": [
       "                                             content  score  thumbsUpCount  \\\n",
       "0  Plsssss stoppppp giving screen limit like when...      2              0   \n",
       "1                                               Good      5              1   \n",
       "2                                                 👍👍      5              0   \n",
       "3                                               Good      3              0   \n",
       "4  App is useful to certain phone brand ,,,,it is...      1              0   \n",
       "\n",
       "                    at  \n",
       "0  2024-07-02 17:17:53  \n",
       "1  2024-06-26 15:38:06  \n",
       "2  2024-06-24 15:29:54  \n",
       "3  2024-06-22 15:41:54  \n",
       "4  2024-06-22 05:16:03  "
      ]
     },
     "execution_count": 30,
     "metadata": {},
     "output_type": "execute_result"
    }
   ],
   "source": [
    "df.head()"
   ]
  },
  {
   "cell_type": "code",
   "execution_count": 31,
   "metadata": {},
   "outputs": [],
   "source": [
    "df['at'] = pd.to_datetime(df['at'])"
   ]
  },
  {
   "cell_type": "code",
   "execution_count": 32,
   "metadata": {},
   "outputs": [
    {
     "name": "stdout",
     "output_type": "stream",
     "text": [
      "<class 'pandas.core.frame.DataFrame'>\n",
      "RangeIndex: 113610 entries, 0 to 113609\n",
      "Data columns (total 4 columns):\n",
      " #   Column         Non-Null Count   Dtype         \n",
      "---  ------         --------------   -----         \n",
      " 0   content        113610 non-null  object        \n",
      " 1   score          113610 non-null  int64         \n",
      " 2   thumbsUpCount  113610 non-null  int64         \n",
      " 3   at             113610 non-null  datetime64[ns]\n",
      "dtypes: datetime64[ns](1), int64(2), object(1)\n",
      "memory usage: 3.5+ MB\n"
     ]
    }
   ],
   "source": [
    "# Check if date is converted now\n",
    "\n",
    "df.info()"
   ]
  },
  {
   "cell_type": "code",
   "execution_count": 33,
   "metadata": {},
   "outputs": [
    {
     "data": {
      "text/html": [
       "<div>\n",
       "<style scoped>\n",
       "    .dataframe tbody tr th:only-of-type {\n",
       "        vertical-align: middle;\n",
       "    }\n",
       "\n",
       "    .dataframe tbody tr th {\n",
       "        vertical-align: top;\n",
       "    }\n",
       "\n",
       "    .dataframe thead th {\n",
       "        text-align: right;\n",
       "    }\n",
       "</style>\n",
       "<table border=\"1\" class=\"dataframe\">\n",
       "  <thead>\n",
       "    <tr style=\"text-align: right;\">\n",
       "      <th></th>\n",
       "      <th>content</th>\n",
       "      <th>score</th>\n",
       "      <th>thumbsUpCount</th>\n",
       "      <th>at</th>\n",
       "    </tr>\n",
       "  </thead>\n",
       "  <tbody>\n",
       "    <tr>\n",
       "      <th>0</th>\n",
       "      <td>Plsssss stoppppp giving screen limit like when...</td>\n",
       "      <td>2</td>\n",
       "      <td>0</td>\n",
       "      <td>2024-07-02 17:17:53</td>\n",
       "    </tr>\n",
       "    <tr>\n",
       "      <th>1</th>\n",
       "      <td>Good</td>\n",
       "      <td>5</td>\n",
       "      <td>1</td>\n",
       "      <td>2024-06-26 15:38:06</td>\n",
       "    </tr>\n",
       "    <tr>\n",
       "      <th>2</th>\n",
       "      <td>👍👍</td>\n",
       "      <td>5</td>\n",
       "      <td>0</td>\n",
       "      <td>2024-06-24 15:29:54</td>\n",
       "    </tr>\n",
       "    <tr>\n",
       "      <th>3</th>\n",
       "      <td>Good</td>\n",
       "      <td>3</td>\n",
       "      <td>0</td>\n",
       "      <td>2024-06-22 15:41:54</td>\n",
       "    </tr>\n",
       "    <tr>\n",
       "      <th>4</th>\n",
       "      <td>App is useful to certain phone brand ,,,,it is...</td>\n",
       "      <td>1</td>\n",
       "      <td>0</td>\n",
       "      <td>2024-06-22 05:16:03</td>\n",
       "    </tr>\n",
       "  </tbody>\n",
       "</table>\n",
       "</div>"
      ],
      "text/plain": [
       "                                             content  score  thumbsUpCount  \\\n",
       "0  Plsssss stoppppp giving screen limit like when...      2              0   \n",
       "1                                               Good      5              1   \n",
       "2                                                 👍👍      5              0   \n",
       "3                                               Good      3              0   \n",
       "4  App is useful to certain phone brand ,,,,it is...      1              0   \n",
       "\n",
       "                   at  \n",
       "0 2024-07-02 17:17:53  \n",
       "1 2024-06-26 15:38:06  \n",
       "2 2024-06-24 15:29:54  \n",
       "3 2024-06-22 15:41:54  \n",
       "4 2024-06-22 05:16:03  "
      ]
     },
     "execution_count": 33,
     "metadata": {},
     "output_type": "execute_result"
    }
   ],
   "source": [
    "df.head()"
   ]
  },
  {
   "cell_type": "code",
   "execution_count": 34,
   "metadata": {},
   "outputs": [],
   "source": [
    "# Generating the sentiment column\n",
    "\n",
    "def map_sentiment(score):\n",
    "    if score in [1, 2]:\n",
    "        return -1\n",
    "    elif score == 3:\n",
    "        return 0\n",
    "    elif score in [4, 5]:\n",
    "        return 1"
   ]
  },
  {
   "cell_type": "code",
   "execution_count": 35,
   "metadata": {},
   "outputs": [],
   "source": [
    "df['sentiment'] = df['score'].apply(map_sentiment)"
   ]
  },
  {
   "cell_type": "code",
   "execution_count": 36,
   "metadata": {},
   "outputs": [
    {
     "data": {
      "text/html": [
       "<div>\n",
       "<style scoped>\n",
       "    .dataframe tbody tr th:only-of-type {\n",
       "        vertical-align: middle;\n",
       "    }\n",
       "\n",
       "    .dataframe tbody tr th {\n",
       "        vertical-align: top;\n",
       "    }\n",
       "\n",
       "    .dataframe thead th {\n",
       "        text-align: right;\n",
       "    }\n",
       "</style>\n",
       "<table border=\"1\" class=\"dataframe\">\n",
       "  <thead>\n",
       "    <tr style=\"text-align: right;\">\n",
       "      <th></th>\n",
       "      <th>Content</th>\n",
       "      <th>Score</th>\n",
       "      <th>ThumbsUpCount</th>\n",
       "      <th>Date</th>\n",
       "      <th>Sentiment</th>\n",
       "    </tr>\n",
       "  </thead>\n",
       "  <tbody>\n",
       "    <tr>\n",
       "      <th>0</th>\n",
       "      <td>Plsssss stoppppp giving screen limit like when...</td>\n",
       "      <td>2</td>\n",
       "      <td>0</td>\n",
       "      <td>2024-07-02 17:17:53</td>\n",
       "      <td>-1</td>\n",
       "    </tr>\n",
       "    <tr>\n",
       "      <th>1</th>\n",
       "      <td>Good</td>\n",
       "      <td>5</td>\n",
       "      <td>1</td>\n",
       "      <td>2024-06-26 15:38:06</td>\n",
       "      <td>1</td>\n",
       "    </tr>\n",
       "    <tr>\n",
       "      <th>2</th>\n",
       "      <td>👍👍</td>\n",
       "      <td>5</td>\n",
       "      <td>0</td>\n",
       "      <td>2024-06-24 15:29:54</td>\n",
       "      <td>1</td>\n",
       "    </tr>\n",
       "    <tr>\n",
       "      <th>3</th>\n",
       "      <td>Good</td>\n",
       "      <td>3</td>\n",
       "      <td>0</td>\n",
       "      <td>2024-06-22 15:41:54</td>\n",
       "      <td>0</td>\n",
       "    </tr>\n",
       "    <tr>\n",
       "      <th>4</th>\n",
       "      <td>App is useful to certain phone brand ,,,,it is...</td>\n",
       "      <td>1</td>\n",
       "      <td>0</td>\n",
       "      <td>2024-06-22 05:16:03</td>\n",
       "      <td>-1</td>\n",
       "    </tr>\n",
       "  </tbody>\n",
       "</table>\n",
       "</div>"
      ],
      "text/plain": [
       "                                             Content  Score  ThumbsUpCount  \\\n",
       "0  Plsssss stoppppp giving screen limit like when...      2              0   \n",
       "1                                               Good      5              1   \n",
       "2                                                 👍👍      5              0   \n",
       "3                                               Good      3              0   \n",
       "4  App is useful to certain phone brand ,,,,it is...      1              0   \n",
       "\n",
       "                 Date  Sentiment  \n",
       "0 2024-07-02 17:17:53         -1  \n",
       "1 2024-06-26 15:38:06          1  \n",
       "2 2024-06-24 15:29:54          1  \n",
       "3 2024-06-22 15:41:54          0  \n",
       "4 2024-06-22 05:16:03         -1  "
      ]
     },
     "execution_count": 36,
     "metadata": {},
     "output_type": "execute_result"
    }
   ],
   "source": [
    "df.columns = ['Content', 'Score', 'ThumbsUpCount', 'Date', 'Sentiment']\n",
    "\n",
    "df.head()"
   ]
  },
  {
   "cell_type": "markdown",
   "metadata": {},
   "source": [
    "We can save the cleaned up dataset now."
   ]
  },
  {
   "cell_type": "code",
   "execution_count": 37,
   "metadata": {},
   "outputs": [],
   "source": [
    "df.to_csv('cleaned_data.csv', index=False)"
   ]
  }
 ],
 "metadata": {
  "kernelspec": {
   "display_name": "Python 3",
   "language": "python",
   "name": "python3"
  },
  "language_info": {
   "codemirror_mode": {
    "name": "ipython",
    "version": 3
   },
   "file_extension": ".py",
   "mimetype": "text/x-python",
   "name": "python",
   "nbconvert_exporter": "python",
   "pygments_lexer": "ipython3",
   "version": "3.12.4"
  }
 },
 "nbformat": 4,
 "nbformat_minor": 2
}

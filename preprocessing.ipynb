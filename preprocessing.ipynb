{
 "cells": [
  {
   "cell_type": "markdown",
   "id": "57033c81",
   "metadata": {},
   "source": [
    "# Import all needed libraries"
   ]
  },
  {
   "cell_type": "code",
   "execution_count": 1,
   "id": "54358086",
   "metadata": {},
   "outputs": [],
   "source": [
    "# Data handling\n",
    "import numpy as np\n",
    "import pandas as pd\n",
    "\n",
    "# Data visualization\n",
    "import seaborn as sns\n",
    "import matplotlib.pyplot as plt\n",
    "\n",
    "# Text processing\n",
    "import re\n",
    "import string\n",
    "import emoji\n",
    "import spacy\n",
    "import nltk\n",
    "from nltk.corpus import stopwords\n",
    "from nltk.tokenize import word_tokenize\n",
    "from nltk.stem import WordNetLemmatizer\n",
    "from nltk.corpus import wordnet"
   ]
  },
  {
   "cell_type": "markdown",
   "id": "4c00571a",
   "metadata": {},
   "source": [
    "# Overview of the dataset"
   ]
  },
  {
   "cell_type": "code",
   "execution_count": 24,
   "id": "74199213",
   "metadata": {},
   "outputs": [],
   "source": [
    "df = pd.read_csv(\"netflix_reviews.csv\")"
   ]
  },
  {
   "cell_type": "code",
   "execution_count": 25,
   "id": "67497de3",
   "metadata": {},
   "outputs": [
    {
     "data": {
      "text/html": [
       "<div>\n",
       "<style scoped>\n",
       "    .dataframe tbody tr th:only-of-type {\n",
       "        vertical-align: middle;\n",
       "    }\n",
       "\n",
       "    .dataframe tbody tr th {\n",
       "        vertical-align: top;\n",
       "    }\n",
       "\n",
       "    .dataframe thead th {\n",
       "        text-align: right;\n",
       "    }\n",
       "</style>\n",
       "<table border=\"1\" class=\"dataframe\">\n",
       "  <thead>\n",
       "    <tr style=\"text-align: right;\">\n",
       "      <th></th>\n",
       "      <th>reviewId</th>\n",
       "      <th>userName</th>\n",
       "      <th>content</th>\n",
       "      <th>score</th>\n",
       "      <th>thumbsUpCount</th>\n",
       "      <th>reviewCreatedVersion</th>\n",
       "      <th>at</th>\n",
       "      <th>appVersion</th>\n",
       "    </tr>\n",
       "  </thead>\n",
       "  <tbody>\n",
       "    <tr>\n",
       "      <th>0</th>\n",
       "      <td>cc1cfcd2-dc8a-4ead-88d1-7f2b2dbb2662</td>\n",
       "      <td>NR Bharadwaj</td>\n",
       "      <td>Plsssss stoppppp giving screen limit like when...</td>\n",
       "      <td>2</td>\n",
       "      <td>0</td>\n",
       "      <td>8.120.0 build 10 50712</td>\n",
       "      <td>2024-07-02 17:17:53</td>\n",
       "      <td>8.120.0 build 10 50712</td>\n",
       "    </tr>\n",
       "    <tr>\n",
       "      <th>1</th>\n",
       "      <td>7dfb1f90-f185-4e81-a97f-d38f0128e5a4</td>\n",
       "      <td>Maxwell Ntloko</td>\n",
       "      <td>Good</td>\n",
       "      <td>5</td>\n",
       "      <td>1</td>\n",
       "      <td>NaN</td>\n",
       "      <td>2024-06-26 15:38:06</td>\n",
       "      <td>NaN</td>\n",
       "    </tr>\n",
       "    <tr>\n",
       "      <th>2</th>\n",
       "      <td>3009acc4-8554-41cf-88de-cc5e2f6e45b2</td>\n",
       "      <td>Dilhani Mahanama</td>\n",
       "      <td>👍👍</td>\n",
       "      <td>5</td>\n",
       "      <td>0</td>\n",
       "      <td>NaN</td>\n",
       "      <td>2024-06-24 15:29:54</td>\n",
       "      <td>NaN</td>\n",
       "    </tr>\n",
       "    <tr>\n",
       "      <th>3</th>\n",
       "      <td>b3d27852-9a3b-4f74-9e16-15434d3ee324</td>\n",
       "      <td>Karen Gulli</td>\n",
       "      <td>Good</td>\n",
       "      <td>3</td>\n",
       "      <td>0</td>\n",
       "      <td>NaN</td>\n",
       "      <td>2024-06-22 15:41:54</td>\n",
       "      <td>NaN</td>\n",
       "    </tr>\n",
       "    <tr>\n",
       "      <th>4</th>\n",
       "      <td>8be10073-2368-4677-b828-9ff5d06ea0b7</td>\n",
       "      <td>Ronny Magadi</td>\n",
       "      <td>App is useful to certain phone brand ,,,,it is...</td>\n",
       "      <td>1</td>\n",
       "      <td>0</td>\n",
       "      <td>8.105.0 build 15 50626</td>\n",
       "      <td>2024-06-22 05:16:03</td>\n",
       "      <td>8.105.0 build 15 50626</td>\n",
       "    </tr>\n",
       "  </tbody>\n",
       "</table>\n",
       "</div>"
      ],
      "text/plain": [
       "                               reviewId          userName  \\\n",
       "0  cc1cfcd2-dc8a-4ead-88d1-7f2b2dbb2662      NR Bharadwaj   \n",
       "1  7dfb1f90-f185-4e81-a97f-d38f0128e5a4    Maxwell Ntloko   \n",
       "2  3009acc4-8554-41cf-88de-cc5e2f6e45b2  Dilhani Mahanama   \n",
       "3  b3d27852-9a3b-4f74-9e16-15434d3ee324       Karen Gulli   \n",
       "4  8be10073-2368-4677-b828-9ff5d06ea0b7      Ronny Magadi   \n",
       "\n",
       "                                             content  score  thumbsUpCount  \\\n",
       "0  Plsssss stoppppp giving screen limit like when...      2              0   \n",
       "1                                               Good      5              1   \n",
       "2                                                 👍👍      5              0   \n",
       "3                                               Good      3              0   \n",
       "4  App is useful to certain phone brand ,,,,it is...      1              0   \n",
       "\n",
       "     reviewCreatedVersion                   at              appVersion  \n",
       "0  8.120.0 build 10 50712  2024-07-02 17:17:53  8.120.0 build 10 50712  \n",
       "1                     NaN  2024-06-26 15:38:06                     NaN  \n",
       "2                     NaN  2024-06-24 15:29:54                     NaN  \n",
       "3                     NaN  2024-06-22 15:41:54                     NaN  \n",
       "4  8.105.0 build 15 50626  2024-06-22 05:16:03  8.105.0 build 15 50626  "
      ]
     },
     "execution_count": 25,
     "metadata": {},
     "output_type": "execute_result"
    }
   ],
   "source": [
    "df.head()"
   ]
  },
  {
   "cell_type": "code",
   "execution_count": 26,
   "id": "a2259660",
   "metadata": {},
   "outputs": [
    {
     "data": {
      "text/html": [
       "<div>\n",
       "<style scoped>\n",
       "    .dataframe tbody tr th:only-of-type {\n",
       "        vertical-align: middle;\n",
       "    }\n",
       "\n",
       "    .dataframe tbody tr th {\n",
       "        vertical-align: top;\n",
       "    }\n",
       "\n",
       "    .dataframe thead th {\n",
       "        text-align: right;\n",
       "    }\n",
       "</style>\n",
       "<table border=\"1\" class=\"dataframe\">\n",
       "  <thead>\n",
       "    <tr style=\"text-align: right;\">\n",
       "      <th></th>\n",
       "      <th>score</th>\n",
       "      <th>thumbsUpCount</th>\n",
       "    </tr>\n",
       "  </thead>\n",
       "  <tbody>\n",
       "    <tr>\n",
       "      <th>count</th>\n",
       "      <td>113610.000000</td>\n",
       "      <td>113610.000000</td>\n",
       "    </tr>\n",
       "    <tr>\n",
       "      <th>mean</th>\n",
       "      <td>2.812613</td>\n",
       "      <td>10.434724</td>\n",
       "    </tr>\n",
       "    <tr>\n",
       "      <th>std</th>\n",
       "      <td>1.700543</td>\n",
       "      <td>101.013411</td>\n",
       "    </tr>\n",
       "    <tr>\n",
       "      <th>min</th>\n",
       "      <td>1.000000</td>\n",
       "      <td>0.000000</td>\n",
       "    </tr>\n",
       "    <tr>\n",
       "      <th>25%</th>\n",
       "      <td>1.000000</td>\n",
       "      <td>0.000000</td>\n",
       "    </tr>\n",
       "    <tr>\n",
       "      <th>50%</th>\n",
       "      <td>3.000000</td>\n",
       "      <td>0.000000</td>\n",
       "    </tr>\n",
       "    <tr>\n",
       "      <th>75%</th>\n",
       "      <td>5.000000</td>\n",
       "      <td>1.000000</td>\n",
       "    </tr>\n",
       "    <tr>\n",
       "      <th>max</th>\n",
       "      <td>5.000000</td>\n",
       "      <td>8032.000000</td>\n",
       "    </tr>\n",
       "  </tbody>\n",
       "</table>\n",
       "</div>"
      ],
      "text/plain": [
       "               score  thumbsUpCount\n",
       "count  113610.000000  113610.000000\n",
       "mean        2.812613      10.434724\n",
       "std         1.700543     101.013411\n",
       "min         1.000000       0.000000\n",
       "25%         1.000000       0.000000\n",
       "50%         3.000000       0.000000\n",
       "75%         5.000000       1.000000\n",
       "max         5.000000    8032.000000"
      ]
     },
     "execution_count": 26,
     "metadata": {},
     "output_type": "execute_result"
    }
   ],
   "source": [
    "df.describe()"
   ]
  },
  {
   "cell_type": "code",
   "execution_count": 27,
   "id": "72d51bc6",
   "metadata": {},
   "outputs": [
    {
     "name": "stdout",
     "output_type": "stream",
     "text": [
      "Shape of the dataset: (113610, 8)\n"
     ]
    }
   ],
   "source": [
    "print(\"Shape of the dataset:\", df.shape)"
   ]
  },
  {
   "cell_type": "code",
   "execution_count": 28,
   "id": "754fdf25",
   "metadata": {},
   "outputs": [
    {
     "name": "stdout",
     "output_type": "stream",
     "text": [
      "Columns in the dataset: Index(['reviewId', 'userName', 'content', 'score', 'thumbsUpCount',\n",
      "       'reviewCreatedVersion', 'at', 'appVersion'],\n",
      "      dtype='object')\n"
     ]
    }
   ],
   "source": [
    "print(\"Columns in the dataset:\", df.columns)"
   ]
  },
  {
   "cell_type": "markdown",
   "id": "c904325a",
   "metadata": {},
   "source": [
    "# Preprocessing"
   ]
  },
  {
   "cell_type": "markdown",
   "id": "006d9c1a",
   "metadata": {},
   "source": [
    "From these columns only the content and the score will be of use in the end so we drop the rest."
   ]
  },
  {
   "cell_type": "code",
   "execution_count": 29,
   "id": "9cd01d8f",
   "metadata": {},
   "outputs": [
    {
     "data": {
      "text/html": [
       "<div>\n",
       "<style scoped>\n",
       "    .dataframe tbody tr th:only-of-type {\n",
       "        vertical-align: middle;\n",
       "    }\n",
       "\n",
       "    .dataframe tbody tr th {\n",
       "        vertical-align: top;\n",
       "    }\n",
       "\n",
       "    .dataframe thead th {\n",
       "        text-align: right;\n",
       "    }\n",
       "</style>\n",
       "<table border=\"1\" class=\"dataframe\">\n",
       "  <thead>\n",
       "    <tr style=\"text-align: right;\">\n",
       "      <th></th>\n",
       "      <th>reviewId</th>\n",
       "      <th>content</th>\n",
       "      <th>score</th>\n",
       "    </tr>\n",
       "  </thead>\n",
       "  <tbody>\n",
       "    <tr>\n",
       "      <th>0</th>\n",
       "      <td>cc1cfcd2-dc8a-4ead-88d1-7f2b2dbb2662</td>\n",
       "      <td>Plsssss stoppppp giving screen limit like when...</td>\n",
       "      <td>2</td>\n",
       "    </tr>\n",
       "    <tr>\n",
       "      <th>1</th>\n",
       "      <td>7dfb1f90-f185-4e81-a97f-d38f0128e5a4</td>\n",
       "      <td>Good</td>\n",
       "      <td>5</td>\n",
       "    </tr>\n",
       "    <tr>\n",
       "      <th>2</th>\n",
       "      <td>3009acc4-8554-41cf-88de-cc5e2f6e45b2</td>\n",
       "      <td>👍👍</td>\n",
       "      <td>5</td>\n",
       "    </tr>\n",
       "    <tr>\n",
       "      <th>3</th>\n",
       "      <td>b3d27852-9a3b-4f74-9e16-15434d3ee324</td>\n",
       "      <td>Good</td>\n",
       "      <td>3</td>\n",
       "    </tr>\n",
       "    <tr>\n",
       "      <th>4</th>\n",
       "      <td>8be10073-2368-4677-b828-9ff5d06ea0b7</td>\n",
       "      <td>App is useful to certain phone brand ,,,,it is...</td>\n",
       "      <td>1</td>\n",
       "    </tr>\n",
       "  </tbody>\n",
       "</table>\n",
       "</div>"
      ],
      "text/plain": [
       "                               reviewId  \\\n",
       "0  cc1cfcd2-dc8a-4ead-88d1-7f2b2dbb2662   \n",
       "1  7dfb1f90-f185-4e81-a97f-d38f0128e5a4   \n",
       "2  3009acc4-8554-41cf-88de-cc5e2f6e45b2   \n",
       "3  b3d27852-9a3b-4f74-9e16-15434d3ee324   \n",
       "4  8be10073-2368-4677-b828-9ff5d06ea0b7   \n",
       "\n",
       "                                             content  score  \n",
       "0  Plsssss stoppppp giving screen limit like when...      2  \n",
       "1                                               Good      5  \n",
       "2                                                 👍👍      5  \n",
       "3                                               Good      3  \n",
       "4  App is useful to certain phone brand ,,,,it is...      1  "
      ]
     },
     "execution_count": 29,
     "metadata": {},
     "output_type": "execute_result"
    }
   ],
   "source": [
    "df = df[['reviewId','content','score']]\n",
    "df.head()"
   ]
  },
  {
   "cell_type": "markdown",
   "id": "54422a3c",
   "metadata": {},
   "source": [
    "With the following function we can check the number and the percentage of the missing and duplicated values in comparison with the whole dataset."
   ]
  },
  {
   "cell_type": "code",
   "execution_count": 30,
   "id": "a5874a55",
   "metadata": {},
   "outputs": [],
   "source": [
    "def show_details(dataset):\n",
    "    missed_values = dataset.isnull().sum()\n",
    "    missed_values_percent = (dataset.isnull().sum()) / len(dataset)\n",
    "    duplicated_values = dataset.duplicated().sum()\n",
    "    duplicated_values_percent = (dataset.duplicated().sum()) / len(dataset)\n",
    "    info_frame = pd.DataFrame({'Missing_Values' : missed_values , \n",
    "                              'Missing_Values %' :missed_values_percent,\n",
    "                              'Duplicated values' :duplicated_values,\n",
    "                              'Duplicated values %':duplicated_values_percent})\n",
    "    return info_frame.T"
   ]
  },
  {
   "cell_type": "code",
   "execution_count": 31,
   "id": "2ae3d166",
   "metadata": {},
   "outputs": [
    {
     "data": {
      "text/html": [
       "<div>\n",
       "<style scoped>\n",
       "    .dataframe tbody tr th:only-of-type {\n",
       "        vertical-align: middle;\n",
       "    }\n",
       "\n",
       "    .dataframe tbody tr th {\n",
       "        vertical-align: top;\n",
       "    }\n",
       "\n",
       "    .dataframe thead th {\n",
       "        text-align: right;\n",
       "    }\n",
       "</style>\n",
       "<table border=\"1\" class=\"dataframe\">\n",
       "  <thead>\n",
       "    <tr style=\"text-align: right;\">\n",
       "      <th></th>\n",
       "      <th>reviewId</th>\n",
       "      <th>content</th>\n",
       "      <th>score</th>\n",
       "    </tr>\n",
       "  </thead>\n",
       "  <tbody>\n",
       "    <tr>\n",
       "      <th>Missing_Values</th>\n",
       "      <td>0.000000</td>\n",
       "      <td>2.000000</td>\n",
       "      <td>0.000000</td>\n",
       "    </tr>\n",
       "    <tr>\n",
       "      <th>Missing_Values %</th>\n",
       "      <td>0.000000</td>\n",
       "      <td>0.000018</td>\n",
       "      <td>0.000000</td>\n",
       "    </tr>\n",
       "    <tr>\n",
       "      <th>Duplicated values</th>\n",
       "      <td>316.000000</td>\n",
       "      <td>316.000000</td>\n",
       "      <td>316.000000</td>\n",
       "    </tr>\n",
       "    <tr>\n",
       "      <th>Duplicated values %</th>\n",
       "      <td>0.002781</td>\n",
       "      <td>0.002781</td>\n",
       "      <td>0.002781</td>\n",
       "    </tr>\n",
       "  </tbody>\n",
       "</table>\n",
       "</div>"
      ],
      "text/plain": [
       "                       reviewId     content       score\n",
       "Missing_Values         0.000000    2.000000    0.000000\n",
       "Missing_Values %       0.000000    0.000018    0.000000\n",
       "Duplicated values    316.000000  316.000000  316.000000\n",
       "Duplicated values %    0.002781    0.002781    0.002781"
      ]
     },
     "execution_count": 31,
     "metadata": {},
     "output_type": "execute_result"
    }
   ],
   "source": [
    "show_details(df)"
   ]
  },
  {
   "cell_type": "markdown",
   "id": "dd495926",
   "metadata": {},
   "source": [
    "We notice that there are no missing values, while the duplicated values are a tiny percentage, so we decide to drop them."
   ]
  },
  {
   "cell_type": "code",
   "execution_count": 32,
   "id": "403a61a9",
   "metadata": {},
   "outputs": [
    {
     "data": {
      "text/html": [
       "<div>\n",
       "<style scoped>\n",
       "    .dataframe tbody tr th:only-of-type {\n",
       "        vertical-align: middle;\n",
       "    }\n",
       "\n",
       "    .dataframe tbody tr th {\n",
       "        vertical-align: top;\n",
       "    }\n",
       "\n",
       "    .dataframe thead th {\n",
       "        text-align: right;\n",
       "    }\n",
       "</style>\n",
       "<table border=\"1\" class=\"dataframe\">\n",
       "  <thead>\n",
       "    <tr style=\"text-align: right;\">\n",
       "      <th></th>\n",
       "      <th>reviewId</th>\n",
       "      <th>content</th>\n",
       "      <th>score</th>\n",
       "    </tr>\n",
       "  </thead>\n",
       "  <tbody>\n",
       "    <tr>\n",
       "      <th>Missing_Values</th>\n",
       "      <td>0.0</td>\n",
       "      <td>0.0</td>\n",
       "      <td>0.0</td>\n",
       "    </tr>\n",
       "    <tr>\n",
       "      <th>Missing_Values %</th>\n",
       "      <td>0.0</td>\n",
       "      <td>0.0</td>\n",
       "      <td>0.0</td>\n",
       "    </tr>\n",
       "    <tr>\n",
       "      <th>Duplicated values</th>\n",
       "      <td>0.0</td>\n",
       "      <td>0.0</td>\n",
       "      <td>0.0</td>\n",
       "    </tr>\n",
       "    <tr>\n",
       "      <th>Duplicated values %</th>\n",
       "      <td>0.0</td>\n",
       "      <td>0.0</td>\n",
       "      <td>0.0</td>\n",
       "    </tr>\n",
       "  </tbody>\n",
       "</table>\n",
       "</div>"
      ],
      "text/plain": [
       "                     reviewId  content  score\n",
       "Missing_Values            0.0      0.0    0.0\n",
       "Missing_Values %          0.0      0.0    0.0\n",
       "Duplicated values         0.0      0.0    0.0\n",
       "Duplicated values %       0.0      0.0    0.0"
      ]
     },
     "execution_count": 32,
     "metadata": {},
     "output_type": "execute_result"
    }
   ],
   "source": [
    "df.drop_duplicates(inplace=True)\n",
    "df.dropna(inplace=True)\n",
    "show_details(df)"
   ]
  },
  {
   "cell_type": "markdown",
   "id": "69065e96",
   "metadata": {},
   "source": [
    "We need to translate the scores/ratings into an output value which will serve as the class in our classification problem. We decide to do so by dividing the scores into 3 ranges:\n",
    "- negative if score = [1,2]\n",
    "- neutral if score = 3\n",
    "- positive if score = [4,5]\n",
    "\n",
    "Later on we will use a LabelEncoder before passing them as labels into our models."
   ]
  },
  {
   "cell_type": "code",
   "execution_count": 33,
   "id": "625042df",
   "metadata": {},
   "outputs": [
    {
     "data": {
      "text/html": [
       "<div>\n",
       "<style scoped>\n",
       "    .dataframe tbody tr th:only-of-type {\n",
       "        vertical-align: middle;\n",
       "    }\n",
       "\n",
       "    .dataframe tbody tr th {\n",
       "        vertical-align: top;\n",
       "    }\n",
       "\n",
       "    .dataframe thead th {\n",
       "        text-align: right;\n",
       "    }\n",
       "</style>\n",
       "<table border=\"1\" class=\"dataframe\">\n",
       "  <thead>\n",
       "    <tr style=\"text-align: right;\">\n",
       "      <th></th>\n",
       "      <th>reviewId</th>\n",
       "      <th>content</th>\n",
       "      <th>score</th>\n",
       "      <th>sentiment_label</th>\n",
       "    </tr>\n",
       "  </thead>\n",
       "  <tbody>\n",
       "    <tr>\n",
       "      <th>0</th>\n",
       "      <td>cc1cfcd2-dc8a-4ead-88d1-7f2b2dbb2662</td>\n",
       "      <td>Plsssss stoppppp giving screen limit like when...</td>\n",
       "      <td>2</td>\n",
       "      <td>negative</td>\n",
       "    </tr>\n",
       "    <tr>\n",
       "      <th>1</th>\n",
       "      <td>7dfb1f90-f185-4e81-a97f-d38f0128e5a4</td>\n",
       "      <td>Good</td>\n",
       "      <td>5</td>\n",
       "      <td>positive</td>\n",
       "    </tr>\n",
       "    <tr>\n",
       "      <th>2</th>\n",
       "      <td>3009acc4-8554-41cf-88de-cc5e2f6e45b2</td>\n",
       "      <td>👍👍</td>\n",
       "      <td>5</td>\n",
       "      <td>positive</td>\n",
       "    </tr>\n",
       "    <tr>\n",
       "      <th>3</th>\n",
       "      <td>b3d27852-9a3b-4f74-9e16-15434d3ee324</td>\n",
       "      <td>Good</td>\n",
       "      <td>3</td>\n",
       "      <td>neutral</td>\n",
       "    </tr>\n",
       "    <tr>\n",
       "      <th>4</th>\n",
       "      <td>8be10073-2368-4677-b828-9ff5d06ea0b7</td>\n",
       "      <td>App is useful to certain phone brand ,,,,it is...</td>\n",
       "      <td>1</td>\n",
       "      <td>negative</td>\n",
       "    </tr>\n",
       "  </tbody>\n",
       "</table>\n",
       "</div>"
      ],
      "text/plain": [
       "                               reviewId  \\\n",
       "0  cc1cfcd2-dc8a-4ead-88d1-7f2b2dbb2662   \n",
       "1  7dfb1f90-f185-4e81-a97f-d38f0128e5a4   \n",
       "2  3009acc4-8554-41cf-88de-cc5e2f6e45b2   \n",
       "3  b3d27852-9a3b-4f74-9e16-15434d3ee324   \n",
       "4  8be10073-2368-4677-b828-9ff5d06ea0b7   \n",
       "\n",
       "                                             content  score sentiment_label  \n",
       "0  Plsssss stoppppp giving screen limit like when...      2        negative  \n",
       "1                                               Good      5        positive  \n",
       "2                                                 👍👍      5        positive  \n",
       "3                                               Good      3         neutral  \n",
       "4  App is useful to certain phone brand ,,,,it is...      1        negative  "
      ]
     },
     "execution_count": 33,
     "metadata": {},
     "output_type": "execute_result"
    }
   ],
   "source": [
    "df['sentiment_label'] = df['score'].apply(lambda x: 'positive' if x > 3 else ('negative' if x < 3 else 'neutral'))\n",
    "df.head()"
   ]
  },
  {
   "cell_type": "markdown",
   "id": "13537596",
   "metadata": {},
   "source": [
    "Then we will start handling the reviews in the \"content\" column.\n",
    "\n",
    "First, we define a function that turns emojis into their respective name. Emojis can have great significance in a review, as they can showcase the feelings of the writer. Therefore, we decided to keep them translated into text instead of just removing them.\n",
    "\n",
    "Then, we define the text_cleaner function, which turns the characters into lowercase, replaces the emojis, fixes basic grammatical errors and removes urls, html tags, numbers, punctuations and extra spaces. "
   ]
  },
  {
   "cell_type": "code",
   "execution_count": 34,
   "id": "e628fcd9",
   "metadata": {},
   "outputs": [],
   "source": [
    "def emoji_replacer(text):\n",
    "    # Function to replace emoji with its name\n",
    "    def emoji_replacer(match):\n",
    "        emoji_char = match.group(0)\n",
    "        emoji_name = emoji.demojize(emoji_char)\n",
    "        # Removing colons from the emoji name\n",
    "        return emoji_name.replace(':', ' ')\n",
    "\n",
    "    # Regular expression pattern to match emojis\n",
    "    emoji_pattern = re.compile(\n",
    "        \"[\" \n",
    "        \"\\U0001F600-\\U0001F64F\"  # emoticons\n",
    "        \"\\U0001F300-\\U0001F5FF\"  # symbols & pictographs\n",
    "        \"\\U0001F680-\\U0001F6FF\"  # transport & map symbols\n",
    "        \"\\U0001F1E0-\\U0001F1FF\"  # flags (iOS)\n",
    "        \"\\U00002702-\\U000027B0\"  # Dingbats\n",
    "        \"\\U000024C2-\\U0001F251\" \n",
    "        \"]+\", flags=re.UNICODE)\n",
    "    \n",
    "    # Replace emojis with their respective names\n",
    "    return emoji_pattern.sub(emoji_replacer, text)"
   ]
  },
  {
   "cell_type": "code",
   "execution_count": 35,
   "id": "38b75255",
   "metadata": {},
   "outputs": [],
   "source": [
    "def text_cleaner(text):\n",
    "    \n",
    "    # Convert text to lowercase\n",
    "    text = text.lower()\n",
    "    \n",
    "    # Replace emojis\n",
    "    text = emoji_replacer(text)\n",
    "    \n",
    "    # Fix possible grammatical problems\n",
    "    text = re.sub(r\"won\\'t\", \"would not\", text)\n",
    "    text = re.sub(r\"can\\'t\", \"can not\", text)\n",
    "    text = re.sub(r\"don\\'t\", \"do not\", text)\n",
    "    text = re.sub(r\"shouldn\\'t\", \"should not\", text)\n",
    "    text = re.sub(r\"needn\\'t\", \"need not\", text)\n",
    "    text = re.sub(r\"hasn\\'t\", \"has not\", text)\n",
    "    text = re.sub(r\"haven\\'t\", \"have not\", text)\n",
    "    text = re.sub(r\"weren\\'t\", \"were not\", text)\n",
    "    text = re.sub(r\"mightn\\'t\", \"might not\", text)\n",
    "    text = re.sub(r\"didn\\'t\", \"did not\", text)\n",
    "    text = re.sub(r\"\\'s\", \" is\", text)\n",
    "    text = re.sub(r\"\\'d\", \" would\", text)\n",
    "    text = re.sub(r\"\\'ll\", \" will\", text)\n",
    "    text = re.sub(r\"\\'ve\", \" have\", text)\n",
    "    text = re.sub(r\"\\'m\", \" am\", text)\n",
    "    text = re.sub(r\"\\'re\", \" are\", text)\n",
    "    # Remove URLs\n",
    "    text = re.sub('https?://\\S+|www\\.\\S+', '', text)\n",
    "    \n",
    "    # Remove HTML tags\n",
    "    text = re.sub(r'<.*?>', '', text)\n",
    "    \n",
    "    # Remove numbers and punctuations\n",
    "    text = re.sub(r'[^a-zA-Z0-9\\!\\?\\.\\@]',' ' , text)\n",
    "    text = re.sub(r'[!]+' , '!' , text)\n",
    "    text = re.sub(r'[?]+' , '?' , text)\n",
    "    text = re.sub(r'[.]+' , '.' , text)\n",
    "    text = re.sub(r'[@]+' , '@' , text)\n",
    "    text = re.sub(r'unk' , ' ' , text)\n",
    "    \n",
    "    # Replace newline and tabs with a space\n",
    "    text = re.sub(r'[\\n\\t]+', ' ', text)\n",
    "    \n",
    "    # Remove extra spaces\n",
    "    text = re.sub(r'\\s+', ' ', text).strip()\n",
    "    \n",
    "    return text            "
   ]
  },
  {
   "cell_type": "code",
   "execution_count": 36,
   "id": "2e7bcdd1",
   "metadata": {},
   "outputs": [
    {
     "data": {
      "text/html": [
       "<div>\n",
       "<style scoped>\n",
       "    .dataframe tbody tr th:only-of-type {\n",
       "        vertical-align: middle;\n",
       "    }\n",
       "\n",
       "    .dataframe tbody tr th {\n",
       "        vertical-align: top;\n",
       "    }\n",
       "\n",
       "    .dataframe thead th {\n",
       "        text-align: right;\n",
       "    }\n",
       "</style>\n",
       "<table border=\"1\" class=\"dataframe\">\n",
       "  <thead>\n",
       "    <tr style=\"text-align: right;\">\n",
       "      <th></th>\n",
       "      <th>reviewId</th>\n",
       "      <th>content</th>\n",
       "      <th>score</th>\n",
       "      <th>sentiment_label</th>\n",
       "      <th>content_cleaned</th>\n",
       "    </tr>\n",
       "  </thead>\n",
       "  <tbody>\n",
       "    <tr>\n",
       "      <th>0</th>\n",
       "      <td>cc1cfcd2-dc8a-4ead-88d1-7f2b2dbb2662</td>\n",
       "      <td>Plsssss stoppppp giving screen limit like when...</td>\n",
       "      <td>2</td>\n",
       "      <td>negative</td>\n",
       "      <td>plsssss stoppppp giving screen limit like when...</td>\n",
       "    </tr>\n",
       "    <tr>\n",
       "      <th>1</th>\n",
       "      <td>7dfb1f90-f185-4e81-a97f-d38f0128e5a4</td>\n",
       "      <td>Good</td>\n",
       "      <td>5</td>\n",
       "      <td>positive</td>\n",
       "      <td>good</td>\n",
       "    </tr>\n",
       "    <tr>\n",
       "      <th>2</th>\n",
       "      <td>3009acc4-8554-41cf-88de-cc5e2f6e45b2</td>\n",
       "      <td>👍👍</td>\n",
       "      <td>5</td>\n",
       "      <td>positive</td>\n",
       "      <td>thumbs up thumbs up</td>\n",
       "    </tr>\n",
       "    <tr>\n",
       "      <th>3</th>\n",
       "      <td>b3d27852-9a3b-4f74-9e16-15434d3ee324</td>\n",
       "      <td>Good</td>\n",
       "      <td>3</td>\n",
       "      <td>neutral</td>\n",
       "      <td>good</td>\n",
       "    </tr>\n",
       "    <tr>\n",
       "      <th>4</th>\n",
       "      <td>8be10073-2368-4677-b828-9ff5d06ea0b7</td>\n",
       "      <td>App is useful to certain phone brand ,,,,it is...</td>\n",
       "      <td>1</td>\n",
       "      <td>negative</td>\n",
       "      <td>app is useful to certain phone brand it is not...</td>\n",
       "    </tr>\n",
       "  </tbody>\n",
       "</table>\n",
       "</div>"
      ],
      "text/plain": [
       "                               reviewId  \\\n",
       "0  cc1cfcd2-dc8a-4ead-88d1-7f2b2dbb2662   \n",
       "1  7dfb1f90-f185-4e81-a97f-d38f0128e5a4   \n",
       "2  3009acc4-8554-41cf-88de-cc5e2f6e45b2   \n",
       "3  b3d27852-9a3b-4f74-9e16-15434d3ee324   \n",
       "4  8be10073-2368-4677-b828-9ff5d06ea0b7   \n",
       "\n",
       "                                             content  score sentiment_label  \\\n",
       "0  Plsssss stoppppp giving screen limit like when...      2        negative   \n",
       "1                                               Good      5        positive   \n",
       "2                                                 👍👍      5        positive   \n",
       "3                                               Good      3         neutral   \n",
       "4  App is useful to certain phone brand ,,,,it is...      1        negative   \n",
       "\n",
       "                                     content_cleaned  \n",
       "0  plsssss stoppppp giving screen limit like when...  \n",
       "1                                               good  \n",
       "2                                thumbs up thumbs up  \n",
       "3                                               good  \n",
       "4  app is useful to certain phone brand it is not...  "
      ]
     },
     "execution_count": 36,
     "metadata": {},
     "output_type": "execute_result"
    }
   ],
   "source": [
    "# Cleaning up the text. Applying it to the dataset. Creating a new column with the cleaned up review.\n",
    "\n",
    "df['content_cleaned'] = df['content'].apply(text_cleaner)\n",
    "df.head()"
   ]
  },
  {
   "cell_type": "markdown",
   "id": "0197d844",
   "metadata": {},
   "source": [
    "Below we see an example before and after applying the text_cleaner function"
   ]
  },
  {
   "cell_type": "code",
   "execution_count": 37,
   "id": "4cd27a24",
   "metadata": {},
   "outputs": [
    {
     "data": {
      "text/plain": [
       "'App is useful to certain phone brand ,,,,it is not excepted to all the phone ,,,,I have tried so many phone to use but no results yet to be determined by me'"
      ]
     },
     "execution_count": 37,
     "metadata": {},
     "output_type": "execute_result"
    }
   ],
   "source": [
    "df['content'][4]"
   ]
  },
  {
   "cell_type": "code",
   "execution_count": 38,
   "id": "21a836e9",
   "metadata": {},
   "outputs": [
    {
     "data": {
      "text/plain": [
       "'app is useful to certain phone brand it is not excepted to all the phone i have tried so many phone to use but no results yet to be determined by me'"
      ]
     },
     "execution_count": 38,
     "metadata": {},
     "output_type": "execute_result"
    }
   ],
   "source": [
    "df['content_cleaned'][4]"
   ]
  },
  {
   "cell_type": "markdown",
   "id": "b9c30353",
   "metadata": {},
   "source": [
    "Now the text is ready for the next steps of preprocessing.\n",
    "\n",
    "Next, we will remove the stop words from the text and lemmatize it.\n",
    "\n",
    "Stop words are words which are very common in a language, such as \"the\", \"is\" and \"a\". Usually they are deleted, since they increase the volume of the text without adding any value to it. We use the NLTK stopwords package in English, which contains 179 stop words.\n",
    "\n",
    "Lemmatization is a text normalization process in natural language processing (NLP) that reduces words to their base or root form, known as the lemma. Unlike stemming, which does a similar job by often crudely cutting off word endings to achieve this, lemmatization uses linguistic knowledge about a word's morphology and context to ensure that the base form is a valid word. Some examples are:\n",
    "- \"dogs\" -> \"dog\"\n",
    "- \"worse\" -> \"bad\"\n",
    "- \"playing\" -> \"play\"\n",
    "\n",
    "We use the spacy library lemmatization function to achieve this."
   ]
  },
  {
   "cell_type": "code",
   "execution_count": 39,
   "id": "57c39f3f",
   "metadata": {},
   "outputs": [
    {
     "data": {
      "text/html": [
       "<div>\n",
       "<style scoped>\n",
       "    .dataframe tbody tr th:only-of-type {\n",
       "        vertical-align: middle;\n",
       "    }\n",
       "\n",
       "    .dataframe tbody tr th {\n",
       "        vertical-align: top;\n",
       "    }\n",
       "\n",
       "    .dataframe thead th {\n",
       "        text-align: right;\n",
       "    }\n",
       "</style>\n",
       "<table border=\"1\" class=\"dataframe\">\n",
       "  <thead>\n",
       "    <tr style=\"text-align: right;\">\n",
       "      <th></th>\n",
       "      <th>reviewId</th>\n",
       "      <th>content</th>\n",
       "      <th>score</th>\n",
       "      <th>sentiment_label</th>\n",
       "      <th>content_cleaned</th>\n",
       "    </tr>\n",
       "  </thead>\n",
       "  <tbody>\n",
       "    <tr>\n",
       "      <th>0</th>\n",
       "      <td>cc1cfcd2-dc8a-4ead-88d1-7f2b2dbb2662</td>\n",
       "      <td>Plsssss stoppppp giving screen limit like when...</td>\n",
       "      <td>2</td>\n",
       "      <td>negative</td>\n",
       "      <td>plsssss stoppppp giving screen limit like ur w...</td>\n",
       "    </tr>\n",
       "    <tr>\n",
       "      <th>1</th>\n",
       "      <td>7dfb1f90-f185-4e81-a97f-d38f0128e5a4</td>\n",
       "      <td>Good</td>\n",
       "      <td>5</td>\n",
       "      <td>positive</td>\n",
       "      <td>good</td>\n",
       "    </tr>\n",
       "    <tr>\n",
       "      <th>2</th>\n",
       "      <td>3009acc4-8554-41cf-88de-cc5e2f6e45b2</td>\n",
       "      <td>👍👍</td>\n",
       "      <td>5</td>\n",
       "      <td>positive</td>\n",
       "      <td>thumbs up thumbs up</td>\n",
       "    </tr>\n",
       "    <tr>\n",
       "      <th>3</th>\n",
       "      <td>b3d27852-9a3b-4f74-9e16-15434d3ee324</td>\n",
       "      <td>Good</td>\n",
       "      <td>3</td>\n",
       "      <td>neutral</td>\n",
       "      <td>good</td>\n",
       "    </tr>\n",
       "    <tr>\n",
       "      <th>4</th>\n",
       "      <td>8be10073-2368-4677-b828-9ff5d06ea0b7</td>\n",
       "      <td>App is useful to certain phone brand ,,,,it is...</td>\n",
       "      <td>1</td>\n",
       "      <td>negative</td>\n",
       "      <td>app useful certain phone brand excepted phone ...</td>\n",
       "    </tr>\n",
       "  </tbody>\n",
       "</table>\n",
       "</div>"
      ],
      "text/plain": [
       "                               reviewId  \\\n",
       "0  cc1cfcd2-dc8a-4ead-88d1-7f2b2dbb2662   \n",
       "1  7dfb1f90-f185-4e81-a97f-d38f0128e5a4   \n",
       "2  3009acc4-8554-41cf-88de-cc5e2f6e45b2   \n",
       "3  b3d27852-9a3b-4f74-9e16-15434d3ee324   \n",
       "4  8be10073-2368-4677-b828-9ff5d06ea0b7   \n",
       "\n",
       "                                             content  score sentiment_label  \\\n",
       "0  Plsssss stoppppp giving screen limit like when...      2        negative   \n",
       "1                                               Good      5        positive   \n",
       "2                                                 👍👍      5        positive   \n",
       "3                                               Good      3         neutral   \n",
       "4  App is useful to certain phone brand ,,,,it is...      1        negative   \n",
       "\n",
       "                                     content_cleaned  \n",
       "0  plsssss stoppppp giving screen limit like ur w...  \n",
       "1                                               good  \n",
       "2                                thumbs up thumbs up  \n",
       "3                                               good  \n",
       "4  app useful certain phone brand excepted phone ...  "
      ]
     },
     "execution_count": 39,
     "metadata": {},
     "output_type": "execute_result"
    }
   ],
   "source": [
    "stop_words = set(stopwords.words('english'))\n",
    "\n",
    "# Remove specific words from the stopwords list\n",
    "words_to_remove = ['up', 'down']  # Example words to remove\n",
    "stop_words = [word for word in stop_words if word not in words_to_remove]\n",
    "\n",
    "\n",
    "def remove_stopwords(text):\n",
    "    return \" \".join([word for word in str(text).split() if word not in stop_words])\n",
    "df['content_cleaned'] = df['content_cleaned'].apply(lambda x: remove_stopwords(x))\n",
    "df.head()"
   ]
  },
  {
   "cell_type": "code",
   "execution_count": 40,
   "id": "4c54cbf8",
   "metadata": {},
   "outputs": [
    {
     "data": {
      "text/html": [
       "<div>\n",
       "<style scoped>\n",
       "    .dataframe tbody tr th:only-of-type {\n",
       "        vertical-align: middle;\n",
       "    }\n",
       "\n",
       "    .dataframe tbody tr th {\n",
       "        vertical-align: top;\n",
       "    }\n",
       "\n",
       "    .dataframe thead th {\n",
       "        text-align: right;\n",
       "    }\n",
       "</style>\n",
       "<table border=\"1\" class=\"dataframe\">\n",
       "  <thead>\n",
       "    <tr style=\"text-align: right;\">\n",
       "      <th></th>\n",
       "      <th>reviewId</th>\n",
       "      <th>content</th>\n",
       "      <th>score</th>\n",
       "      <th>sentiment_label</th>\n",
       "      <th>content_cleaned</th>\n",
       "    </tr>\n",
       "  </thead>\n",
       "  <tbody>\n",
       "    <tr>\n",
       "      <th>0</th>\n",
       "      <td>cc1cfcd2-dc8a-4ead-88d1-7f2b2dbb2662</td>\n",
       "      <td>Plsssss stoppppp giving screen limit like when...</td>\n",
       "      <td>2</td>\n",
       "      <td>negative</td>\n",
       "      <td>plsssss stoppppp give screen limit like ur wat...</td>\n",
       "    </tr>\n",
       "    <tr>\n",
       "      <th>1</th>\n",
       "      <td>7dfb1f90-f185-4e81-a97f-d38f0128e5a4</td>\n",
       "      <td>Good</td>\n",
       "      <td>5</td>\n",
       "      <td>positive</td>\n",
       "      <td>good</td>\n",
       "    </tr>\n",
       "    <tr>\n",
       "      <th>2</th>\n",
       "      <td>3009acc4-8554-41cf-88de-cc5e2f6e45b2</td>\n",
       "      <td>👍👍</td>\n",
       "      <td>5</td>\n",
       "      <td>positive</td>\n",
       "      <td>thumb up thumb up</td>\n",
       "    </tr>\n",
       "    <tr>\n",
       "      <th>3</th>\n",
       "      <td>b3d27852-9a3b-4f74-9e16-15434d3ee324</td>\n",
       "      <td>Good</td>\n",
       "      <td>3</td>\n",
       "      <td>neutral</td>\n",
       "      <td>good</td>\n",
       "    </tr>\n",
       "    <tr>\n",
       "      <th>4</th>\n",
       "      <td>8be10073-2368-4677-b828-9ff5d06ea0b7</td>\n",
       "      <td>App is useful to certain phone brand ,,,,it is...</td>\n",
       "      <td>1</td>\n",
       "      <td>negative</td>\n",
       "      <td>app useful certain phone brand except phone tr...</td>\n",
       "    </tr>\n",
       "  </tbody>\n",
       "</table>\n",
       "</div>"
      ],
      "text/plain": [
       "                               reviewId  \\\n",
       "0  cc1cfcd2-dc8a-4ead-88d1-7f2b2dbb2662   \n",
       "1  7dfb1f90-f185-4e81-a97f-d38f0128e5a4   \n",
       "2  3009acc4-8554-41cf-88de-cc5e2f6e45b2   \n",
       "3  b3d27852-9a3b-4f74-9e16-15434d3ee324   \n",
       "4  8be10073-2368-4677-b828-9ff5d06ea0b7   \n",
       "\n",
       "                                             content  score sentiment_label  \\\n",
       "0  Plsssss stoppppp giving screen limit like when...      2        negative   \n",
       "1                                               Good      5        positive   \n",
       "2                                                 👍👍      5        positive   \n",
       "3                                               Good      3         neutral   \n",
       "4  App is useful to certain phone brand ,,,,it is...      1        negative   \n",
       "\n",
       "                                     content_cleaned  \n",
       "0  plsssss stoppppp give screen limit like ur wat...  \n",
       "1                                               good  \n",
       "2                                  thumb up thumb up  \n",
       "3                                               good  \n",
       "4  app useful certain phone brand except phone tr...  "
      ]
     },
     "execution_count": 40,
     "metadata": {},
     "output_type": "execute_result"
    }
   ],
   "source": [
    "# Load spaCy model\n",
    "nlp = spacy.load(\"en_core_web_sm\")\n",
    "\n",
    "def lemmatize_text(text):\n",
    "    doc = nlp(text)\n",
    "    return \" \".join([token.lemma_ for token in doc])\n",
    "\n",
    "df[\"content_cleaned\"] = df[\"content_cleaned\"].apply(lambda text: lemmatize_text(text))\n",
    "df.head()"
   ]
  },
  {
   "cell_type": "markdown",
   "id": "1e2a08ac",
   "metadata": {},
   "source": [
    "Below we see an example before and after removing the stop words and lemmatizing"
   ]
  },
  {
   "cell_type": "code",
   "execution_count": 41,
   "id": "8ad1cebc",
   "metadata": {},
   "outputs": [
    {
     "data": {
      "text/plain": [
       "'App is useful to certain phone brand ,,,,it is not excepted to all the phone ,,,,I have tried so many phone to use but no results yet to be determined by me'"
      ]
     },
     "execution_count": 41,
     "metadata": {},
     "output_type": "execute_result"
    }
   ],
   "source": [
    "df['content'][4]"
   ]
  },
  {
   "cell_type": "code",
   "execution_count": 42,
   "id": "740346b6",
   "metadata": {},
   "outputs": [
    {
     "data": {
      "text/plain": [
       "'app useful certain phone brand except phone try many phone use result yet determine'"
      ]
     },
     "execution_count": 42,
     "metadata": {},
     "output_type": "execute_result"
    }
   ],
   "source": [
    "df['content_cleaned'][4]"
   ]
  },
  {
   "cell_type": "markdown",
   "id": "49a63451",
   "metadata": {},
   "source": [
    "Now our dataframe preprocessing is finished and the reviews are ready to be passed on to the next step which is vectorising"
   ]
  },
  {
   "cell_type": "markdown",
   "id": "39536579",
   "metadata": {},
   "source": [
    "# Vectorization"
   ]
  }
 ],
 "metadata": {
  "kernelspec": {
   "display_name": "Python 3 (ipykernel)",
   "language": "python",
   "name": "python3"
  },
  "language_info": {
   "codemirror_mode": {
    "name": "ipython",
    "version": 3
   },
   "file_extension": ".py",
   "mimetype": "text/x-python",
   "name": "python",
   "nbconvert_exporter": "python",
   "pygments_lexer": "ipython3",
   "version": "3.11.4"
  }
 },
 "nbformat": 4,
 "nbformat_minor": 5
}

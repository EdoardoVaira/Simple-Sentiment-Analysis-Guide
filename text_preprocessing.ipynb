{
 "cells": [
  {
   "cell_type": "code",
   "execution_count": 141,
   "metadata": {},
   "outputs": [],
   "source": [
    "import pandas as pd"
   ]
  },
  {
   "cell_type": "code",
   "execution_count": 142,
   "metadata": {},
   "outputs": [],
   "source": [
    "df = pd.read_csv('cleaned_data.csv')"
   ]
  },
  {
   "cell_type": "code",
   "execution_count": 143,
   "metadata": {},
   "outputs": [
    {
     "data": {
      "text/html": [
       "<div>\n",
       "<style scoped>\n",
       "    .dataframe tbody tr th:only-of-type {\n",
       "        vertical-align: middle;\n",
       "    }\n",
       "\n",
       "    .dataframe tbody tr th {\n",
       "        vertical-align: top;\n",
       "    }\n",
       "\n",
       "    .dataframe thead th {\n",
       "        text-align: right;\n",
       "    }\n",
       "</style>\n",
       "<table border=\"1\" class=\"dataframe\">\n",
       "  <thead>\n",
       "    <tr style=\"text-align: right;\">\n",
       "      <th></th>\n",
       "      <th>Content</th>\n",
       "      <th>Score</th>\n",
       "      <th>Sentiment</th>\n",
       "    </tr>\n",
       "  </thead>\n",
       "  <tbody>\n",
       "    <tr>\n",
       "      <th>0</th>\n",
       "      <td>Plsssss stoppppp giving screen limit like when...</td>\n",
       "      <td>2</td>\n",
       "      <td>negative</td>\n",
       "    </tr>\n",
       "    <tr>\n",
       "      <th>1</th>\n",
       "      <td>Good</td>\n",
       "      <td>5</td>\n",
       "      <td>positive</td>\n",
       "    </tr>\n",
       "    <tr>\n",
       "      <th>2</th>\n",
       "      <td>👍👍</td>\n",
       "      <td>5</td>\n",
       "      <td>positive</td>\n",
       "    </tr>\n",
       "    <tr>\n",
       "      <th>3</th>\n",
       "      <td>Good</td>\n",
       "      <td>3</td>\n",
       "      <td>neutral</td>\n",
       "    </tr>\n",
       "    <tr>\n",
       "      <th>4</th>\n",
       "      <td>App is useful to certain phone brand ,,,,it is...</td>\n",
       "      <td>1</td>\n",
       "      <td>negative</td>\n",
       "    </tr>\n",
       "  </tbody>\n",
       "</table>\n",
       "</div>"
      ],
      "text/plain": [
       "                                             Content  Score Sentiment\n",
       "0  Plsssss stoppppp giving screen limit like when...      2  negative\n",
       "1                                               Good      5  positive\n",
       "2                                                 👍👍      5  positive\n",
       "3                                               Good      3   neutral\n",
       "4  App is useful to certain phone brand ,,,,it is...      1  negative"
      ]
     },
     "execution_count": 143,
     "metadata": {},
     "output_type": "execute_result"
    }
   ],
   "source": [
    "df.head()"
   ]
  },
  {
   "cell_type": "code",
   "execution_count": 144,
   "metadata": {},
   "outputs": [],
   "source": [
    "import emoji\n",
    "import re\n",
    "import contractions"
   ]
  },
  {
   "cell_type": "code",
   "execution_count": 145,
   "metadata": {},
   "outputs": [],
   "source": [
    "def text_cleaner(text):\n",
    "    # Convert text to lowercase\n",
    "    text = text.lower()\n",
    "    # Replace emojis with text description\n",
    "    text = emoji.demojize(text, delimiters=(\" \", \" \"))\n",
    "    # Expand contractions\n",
    "    text = contractions.fix(text)\n",
    "    # Remove URLs\n",
    "    text = re.sub(r'http\\S+', '', text)\n",
    "    # Remove HTML tags\n",
    "    text = re.sub(r'<.*?>', '', text)\n",
    "    # Replace punctuation with a space (and remove extra spaces)\n",
    "    text = re.sub(r'[^\\w\\s]', ' ', text)\n",
    "    text = re.sub(r'\\s+', ' ', text).strip()  # Normalize white spaces\n",
    "    # Split text into words based on whitespace\n",
    "    words = text.split()\n",
    "    # Join words back to form the cleaned text\n",
    "    return ' '.join(words)"
   ]
  },
  {
   "cell_type": "code",
   "execution_count": 146,
   "metadata": {},
   "outputs": [],
   "source": [
    "df['Content_cleaned'] = df['Content'].apply(text_cleaner)"
   ]
  },
  {
   "cell_type": "markdown",
   "metadata": {},
   "source": [
    "#### Test it below:"
   ]
  },
  {
   "cell_type": "code",
   "execution_count": 153,
   "metadata": {},
   "outputs": [
    {
     "data": {
      "text/plain": [
       "'this is not good'"
      ]
     },
     "execution_count": 153,
     "metadata": {},
     "output_type": "execute_result"
    }
   ],
   "source": [
    "text_cleaner(\"This isn't Good!!!\")"
   ]
  },
  {
   "cell_type": "markdown",
   "metadata": {},
   "source": [
    "#### Showing some reviews"
   ]
  },
  {
   "cell_type": "code",
   "execution_count": 155,
   "metadata": {},
   "outputs": [
    {
     "name": "stdout",
     "output_type": "stream",
     "text": [
      "> Great App💙\n",
      "-> great app blue_heart\n",
      "\n",
      "> Great audio and video\n",
      "-> great audio and video\n",
      "\n",
      "> Every time I request a movie that I would like to watch I get the same \"Sorry, we don't have that one.\" Then I am referred to movies like \"Three Stooges Conquer Space\" or something like that.\n",
      "-> every time i request a movie that i would like to watch i get the same sorry we do not have that one then i am referred to movies like three stooges conquer space or something like that\n",
      "\n",
      "> Best ott app\n",
      "-> best ott app\n",
      "\n",
      "> The in-app help call feature on Netflix is an absolute disaster. This was hands down the worst customer service experience I have ever had. First off, once you initiate the help call within the app, there's no way to go back. You’re trapped in an endless loop with no escape, forced to deal with whatever horrors await. The app essentially hijacks your device, and you can't access any other features while on the call. The representative I finally got through to was completely unhelpful. It was c\n",
      "-> the in app help call feature on netflix is an absolute disaster this was hands down the worst customer service experience i have ever had first off once you initiate the help call within the app there is no way to go back you are trapped in an endless loop with no escape forced to deal with whatever horrors await the app essentially hijacks your device and you cannot access any other features while on the call the representative i finally got through to was completely unhelpful it was c\n",
      "\n",
      "> Good\n",
      "-> good\n",
      "\n",
      "> Good\n",
      "-> good\n",
      "\n",
      "> I live Netflix just like the rest of the world. However my personal opinion is that the should put more syfi movie action like the movie immortals and thinks like the boyka movies. I love action movies and not too many action or syfi movies catch my eye on Netflix. I'd give 5 stars if more bought my eye\n",
      "-> i live netflix just like the rest of the world however my personal opinion is that the should put more syfi movie action like the movie immortals and thinks like the boyka movies i love action movies and not too many action or syfi movies catch my eye on netflix i would give 5 stars if more bought my eye\n",
      "\n",
      "> Excellent 👌\n",
      "-> excellent OK_hand\n",
      "\n",
      "> Go woke go broke Netflix\n",
      "-> go woke go broke netflix\n",
      "\n"
     ]
    }
   ],
   "source": [
    "for i in range(1000, 1010):\n",
    "    print('>', df['Content'][i])\n",
    "    print('->', df['Content_cleaned'][i])\n",
    "    print()"
   ]
  },
  {
   "cell_type": "code",
   "execution_count": 151,
   "metadata": {},
   "outputs": [],
   "source": [
    "df.to_csv('glucker_3000.csv', index=False)"
   ]
  }
 ],
 "metadata": {
  "kernelspec": {
   "display_name": "Python 3 (ipykernel)",
   "language": "python",
   "name": "python3"
  },
  "language_info": {
   "codemirror_mode": {
    "name": "ipython",
    "version": 3
   },
   "file_extension": ".py",
   "mimetype": "text/x-python",
   "name": "python",
   "nbconvert_exporter": "python",
   "pygments_lexer": "ipython3",
   "version": "3.11.4"
  }
 },
 "nbformat": 4,
 "nbformat_minor": 2
}
